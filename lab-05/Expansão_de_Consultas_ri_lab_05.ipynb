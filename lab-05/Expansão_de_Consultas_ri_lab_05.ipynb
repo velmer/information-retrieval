{
  "nbformat": 4,
  "nbformat_minor": 0,
  "metadata": {
    "colab": {
      "name": "Expansão de Consultas - ri-lab-05.ipynb",
      "version": "0.3.2",
      "provenance": [],
      "collapsed_sections": []
    },
    "kernelspec": {
      "name": "python3",
      "display_name": "Python 3"
    }
  },
  "cells": [
    {
      "cell_type": "code",
      "metadata": {
        "id": "xpjK_VGxkpHg",
        "colab_type": "code",
        "outputId": "aa591c3c-aa54-45c7-cfd7-50ceaaed6a4f",
        "colab": {
          "base_uri": "https://localhost:8080/",
          "height": 119
        }
      },
      "source": [
        "import nltk\n",
        "import time\n",
        "import heapq\n",
        "import pandas as pd\n",
        "import numpy as np\n",
        "import bisect\n",
        "from nltk.corpus import stopwords\n",
        "from nltk import word_tokenize\n",
        "from nltk.tokenize import RegexpTokenizer\n",
        "\n",
        "nltk.download('rslp')\n",
        "nltk.download('punkt')\n",
        "nltk.download('stopwords')\n",
        "\n",
        "_stopwords = set(stopwords.words('portuguese'))"
      ],
      "execution_count": 0,
      "outputs": [
        {
          "output_type": "stream",
          "text": [
            "[nltk_data] Downloading package rslp to /root/nltk_data...\n",
            "[nltk_data]   Unzipping stemmers/rslp.zip.\n",
            "[nltk_data] Downloading package punkt to /root/nltk_data...\n",
            "[nltk_data]   Unzipping tokenizers/punkt.zip.\n",
            "[nltk_data] Downloading package stopwords to /root/nltk_data...\n",
            "[nltk_data]   Package stopwords is already up-to-date!\n"
          ],
          "name": "stdout"
        }
      ]
    },
    {
      "cell_type": "markdown",
      "metadata": {
        "id": "gePoxEySumwu",
        "colab_type": "text"
      },
      "source": [
        "# Carregando Índice Invertido"
      ]
    },
    {
      "cell_type": "code",
      "metadata": {
        "id": "KJ0jGg36uoIK",
        "colab_type": "code",
        "outputId": "46414232-ea7b-49d3-ba45-a694a3878a49",
        "colab": {
          "base_uri": "https://localhost:8080/",
          "height": 289
        }
      },
      "source": [
        "data = pd.read_csv(\"https://raw.githubusercontent.com/velmer/ri_lab_01/master/output/results.csv\")\n",
        "data.head()"
      ],
      "execution_count": 0,
      "outputs": [
        {
          "output_type": "execute_result",
          "data": {
            "text/html": [
              "<div>\n",
              "<style scoped>\n",
              "    .dataframe tbody tr th:only-of-type {\n",
              "        vertical-align: middle;\n",
              "    }\n",
              "\n",
              "    .dataframe tbody tr th {\n",
              "        vertical-align: top;\n",
              "    }\n",
              "\n",
              "    .dataframe thead th {\n",
              "        text-align: right;\n",
              "    }\n",
              "</style>\n",
              "<table border=\"1\" class=\"dataframe\">\n",
              "  <thead>\n",
              "    <tr style=\"text-align: right;\">\n",
              "      <th></th>\n",
              "      <th>title</th>\n",
              "      <th>sub_title</th>\n",
              "      <th>author</th>\n",
              "      <th>date</th>\n",
              "      <th>section</th>\n",
              "      <th>text</th>\n",
              "      <th>url</th>\n",
              "    </tr>\n",
              "  </thead>\n",
              "  <tbody>\n",
              "    <tr>\n",
              "      <th>0</th>\n",
              "      <td>VÍDEO – “Estarei nas ruas com a militância do ...</td>\n",
              "      <td>Não possui</td>\n",
              "      <td>Pedro Zambarda de Araujo</td>\n",
              "      <td>05/04/2019 22:44:19</td>\n",
              "      <td>Não possui</td>\n",
              "      <td>Não ficaremos calados diante da injustiça. Lul...</td>\n",
              "      <td>https://www.diariodocentrodomundo.com.br/video...</td>\n",
              "    </tr>\n",
              "    <tr>\n",
              "      <th>1</th>\n",
              "      <td>Essencial do DCM – Bolsonaro diz que não nasce...</td>\n",
              "      <td>Não possui</td>\n",
              "      <td>Pedro Zambarda de Araujo</td>\n",
              "      <td>05/04/2019 21:00:02</td>\n",
              "      <td>Não possui</td>\n",
              "      <td>O jornalismo do DCM precisa de você para conti...</td>\n",
              "      <td>https://www.diariodocentrodomundo.com.br/essen...</td>\n",
              "    </tr>\n",
              "    <tr>\n",
              "      <th>2</th>\n",
              "      <td>Conheça o deputado árabe que pode derrubar o p...</td>\n",
              "      <td>Não possui</td>\n",
              "      <td>Diario do Centro do Mundo</td>\n",
              "      <td>05/04/2019 22:00:56</td>\n",
              "      <td>Não possui</td>\n",
              "      <td>A revista francesa L’Obs desta semana traz um ...</td>\n",
              "      <td>https://www.diariodocentrodomundo.com.br/conhe...</td>\n",
              "    </tr>\n",
              "    <tr>\n",
              "      <th>3</th>\n",
              "      <td>VÍDEO – Guedes, as tchutchucas e a lacrada des...</td>\n",
              "      <td>Não possui</td>\n",
              "      <td>Nathalí Macedo</td>\n",
              "      <td>05/04/2019 16:23:14</td>\n",
              "      <td>Não possui</td>\n",
              "      <td>O jornalismo do DCM precisa de você para conti...</td>\n",
              "      <td>https://www.diariodocentrodomundo.com.br/video...</td>\n",
              "    </tr>\n",
              "    <tr>\n",
              "      <th>4</th>\n",
              "      <td>O que está por trás da articulação para Lula t...</td>\n",
              "      <td>Não possui</td>\n",
              "      <td>Joaquim de Carvalho</td>\n",
              "      <td>05/04/2019 21:42:17</td>\n",
              "      <td>Não possui</td>\n",
              "      <td>Veja o vídeo “Foi para isso que prenderam o Lu...</td>\n",
              "      <td>https://www.diariodocentrodomundo.com.br/o-que...</td>\n",
              "    </tr>\n",
              "  </tbody>\n",
              "</table>\n",
              "</div>"
            ],
            "text/plain": [
              "                                               title  ...                                                url\n",
              "0  VÍDEO – “Estarei nas ruas com a militância do ...  ...  https://www.diariodocentrodomundo.com.br/video...\n",
              "1  Essencial do DCM – Bolsonaro diz que não nasce...  ...  https://www.diariodocentrodomundo.com.br/essen...\n",
              "2  Conheça o deputado árabe que pode derrubar o p...  ...  https://www.diariodocentrodomundo.com.br/conhe...\n",
              "3  VÍDEO – Guedes, as tchutchucas e a lacrada des...  ...  https://www.diariodocentrodomundo.com.br/video...\n",
              "4  O que está por trás da articulação para Lula t...  ...  https://www.diariodocentrodomundo.com.br/o-que...\n",
              "\n",
              "[5 rows x 7 columns]"
            ]
          },
          "metadata": {
            "tags": []
          },
          "execution_count": 16
        }
      ]
    },
    {
      "cell_type": "markdown",
      "metadata": {
        "id": "oBeQPo92v6Cm",
        "colab_type": "text"
      },
      "source": [
        "# Construindo Índice Invertido"
      ]
    },
    {
      "cell_type": "code",
      "metadata": {
        "id": "SMh6Kogev-qE",
        "colab_type": "code",
        "colab": {}
      },
      "source": [
        "tknz = RegexpTokenizer(r'([A-Za-zÁáÉéÍíÓóÚúÃãÕõÇçÂâÊê\\-]{3,27})')\n",
        "tokenData = pd.DataFrame(data['text'], columns=['text'])\n",
        "tokenData['tokenized_text'] = data.apply(lambda row: tknz.tokenize(row['text'].lower()), axis=1)"
      ],
      "execution_count": 0,
      "outputs": []
    },
    {
      "cell_type": "code",
      "metadata": {
        "id": "YkOsHBW5wRqN",
        "colab_type": "code",
        "colab": {}
      },
      "source": [
        "def is_tokenized_word(word):\n",
        "  \"\"\"\n",
        "    Returns if the specified word matches all requirements\n",
        "    to be a valid token.\n",
        "  \"\"\"\n",
        "  return len(word) > 1 and any(c.isalnum() for c in word)\n",
        "\n",
        "def build_index():\n",
        "  index = {}\n",
        "  num_document = 0\n",
        "\n",
        "  for text in tokenData.tokenized_text:\n",
        "    num_document += 1\n",
        "    words_set = set(text)\n",
        "    for word in words_set:\n",
        "      if is_tokenized_word(word) and word.lower() not in _stopwords:\n",
        "        if word not in index.keys():\n",
        "          index[word] = []\n",
        "        index[word].append((num_document, text.count(word)))\n",
        "\n",
        "  return index"
      ],
      "execution_count": 0,
      "outputs": []
    },
    {
      "cell_type": "code",
      "metadata": {
        "id": "GiR9acKowTti",
        "colab_type": "code",
        "outputId": "5eea81bf-0fe1-4dab-cacf-c0ccc24418f7",
        "colab": {
          "base_uri": "https://localhost:8080/",
          "height": 359
        }
      },
      "source": [
        "indexed_data = pd.DataFrame()\n",
        "index = build_index()\n",
        "indexed_data['Word'] = [word for word in index.keys()]\n",
        "indexed_data['Documents (With Count)'] = [docs for docs in index.values()]\n",
        "indexed_data.to_csv('indexed_data.csv', encoding='utf-8', index=False)\n",
        "indexed_data.head(10)"
      ],
      "execution_count": 0,
      "outputs": [
        {
          "output_type": "execute_result",
          "data": {
            "text/html": [
              "<div>\n",
              "<style scoped>\n",
              "    .dataframe tbody tr th:only-of-type {\n",
              "        vertical-align: middle;\n",
              "    }\n",
              "\n",
              "    .dataframe tbody tr th {\n",
              "        vertical-align: top;\n",
              "    }\n",
              "\n",
              "    .dataframe thead th {\n",
              "        text-align: right;\n",
              "    }\n",
              "</style>\n",
              "<table border=\"1\" class=\"dataframe\">\n",
              "  <thead>\n",
              "    <tr style=\"text-align: right;\">\n",
              "      <th></th>\n",
              "      <th>Word</th>\n",
              "      <th>Documents (With Count)</th>\n",
              "    </tr>\n",
              "  </thead>\n",
              "  <tbody>\n",
              "    <tr>\n",
              "      <th>0</th>\n",
              "      <td>vitória</td>\n",
              "      <td>[(1, 1), (3, 1), (57, 1), (97, 1), (138, 2), (...</td>\n",
              "    </tr>\n",
              "    <tr>\n",
              "      <th>1</th>\n",
              "      <td>diante</td>\n",
              "      <td>[(1, 1), (17, 1), (27, 1), (52, 2), (67, 1), (...</td>\n",
              "    </tr>\n",
              "    <tr>\n",
              "      <th>2</th>\n",
              "      <td>psol</td>\n",
              "      <td>[(1, 1), (138, 2), (294, 2), (320, 1), (519, 1...</td>\n",
              "    </tr>\n",
              "    <tr>\n",
              "      <th>3</th>\n",
              "      <td>julianopsol</td>\n",
              "      <td>[(1, 1)]</td>\n",
              "    </tr>\n",
              "    <tr>\n",
              "      <th>4</th>\n",
              "      <td>direto</td>\n",
              "      <td>[(1, 1), (55, 1), (118, 1), (130, 1), (147, 1)...</td>\n",
              "    </tr>\n",
              "    <tr>\n",
              "      <th>5</th>\n",
              "      <td>injustiça</td>\n",
              "      <td>[(1, 1), (76, 1), (102, 1), (146, 1), (208, 2)...</td>\n",
              "    </tr>\n",
              "    <tr>\n",
              "      <th>6</th>\n",
              "      <td>dessa</td>\n",
              "      <td>[(1, 1), (27, 2), (55, 2), (56, 1), (58, 1), (...</td>\n",
              "    </tr>\n",
              "    <tr>\n",
              "      <th>7</th>\n",
              "      <td>bolsonaro</td>\n",
              "      <td>[(1, 1), (6, 1), (10, 16), (11, 1), (13, 3), (...</td>\n",
              "    </tr>\n",
              "    <tr>\n",
              "      <th>8</th>\n",
              "      <td>ficaremos</td>\n",
              "      <td>[(1, 1)]</td>\n",
              "    </tr>\n",
              "    <tr>\n",
              "      <th>9</th>\n",
              "      <td>nacional</td>\n",
              "      <td>[(1, 1), (2, 1), (3, 1), (4, 1), (5, 1), (6, 1...</td>\n",
              "    </tr>\n",
              "  </tbody>\n",
              "</table>\n",
              "</div>"
            ],
            "text/plain": [
              "          Word                             Documents (With Count)\n",
              "0      vitória  [(1, 1), (3, 1), (57, 1), (97, 1), (138, 2), (...\n",
              "1       diante  [(1, 1), (17, 1), (27, 1), (52, 2), (67, 1), (...\n",
              "2         psol  [(1, 1), (138, 2), (294, 2), (320, 1), (519, 1...\n",
              "3  julianopsol                                           [(1, 1)]\n",
              "4       direto  [(1, 1), (55, 1), (118, 1), (130, 1), (147, 1)...\n",
              "5    injustiça  [(1, 1), (76, 1), (102, 1), (146, 1), (208, 2)...\n",
              "6        dessa  [(1, 1), (27, 2), (55, 2), (56, 1), (58, 1), (...\n",
              "7    bolsonaro  [(1, 1), (6, 1), (10, 16), (11, 1), (13, 3), (...\n",
              "8    ficaremos                                           [(1, 1)]\n",
              "9     nacional  [(1, 1), (2, 1), (3, 1), (4, 1), (5, 1), (6, 1..."
            ]
          },
          "metadata": {
            "tags": []
          },
          "execution_count": 19
        }
      ]
    },
    {
      "cell_type": "markdown",
      "metadata": {
        "id": "471wrBJ_vD-7",
        "colab_type": "text"
      },
      "source": [
        "# Questão 1"
      ]
    },
    {
      "cell_type": "code",
      "metadata": {
        "id": "I4h2JB7NvFjZ",
        "colab_type": "code",
        "colab": {}
      },
      "source": [
        "queries = [\"presidente\", \"bolsonaro\", \"país\", \"futebol\", \"site\"]"
      ],
      "execution_count": 0,
      "outputs": []
    },
    {
      "cell_type": "code",
      "metadata": {
        "id": "f9s_5suKvQ99",
        "colab_type": "code",
        "colab": {}
      },
      "source": [
        "def intersection(list1, list2):\n",
        "  set1 = set(list1)\n",
        "  set2 = set(list2)\n",
        "  return set1 & set2\n",
        "\n",
        "def all_occurrances_word(word, index2):\n",
        "  return index2[word]\n",
        "\n",
        "def num_occurrances_word(word, index):\n",
        "  return len(all_occurrances_word(word, index))\n",
        "\n",
        "def all_occurrances_bigram(word1, word2, index):\n",
        "  return intersection(all_occurrances_word(word1, index), all_occurrances_word(word2, index))\n",
        "\n",
        "def num_occurrances_bigram(word1, word2, index):\n",
        "  return len(all_occurrances_bigram(word1, word2, index))"
      ],
      "execution_count": 0,
      "outputs": []
    },
    {
      "cell_type": "code",
      "metadata": {
        "id": "PhsCyX6ozpiz",
        "colab_type": "code",
        "colab": {}
      },
      "source": [
        "def calc_mim(a, b, index):\n",
        "  n_a = num_occurrances_word(a, index)\n",
        "  n_b = num_occurrances_word(b, index)\n",
        "  if (n_a == 0 or n_b == 0):\n",
        "    return (0, b)\n",
        "  n_ab = num_occurrances_bigram(a, b, index)\n",
        "  mim = n_ab / (n_a * n_b)  \n",
        "  return (mim,b)\n",
        "  \n",
        "def calc_emim(a, b, n, index):\n",
        "  n_a = num_occurrances_word(a, index)\n",
        "  n_b = num_occurrances_word(b, index)\n",
        "  n_ab = num_occurrances_bigram(a, b, index)\n",
        "  quo = (n_a * n_b)\n",
        "  exp = n * (n_ab / quo) if quo != 0 else 0\n",
        "  emim = n_ab * np.log10(exp) if exp != 0 else 0\n",
        "  return (emim, b)\n",
        "  \n",
        "def calc_x2(a, b, n, index):\n",
        "  n_a = num_occurrances_word(a, index)\n",
        "  n_b = num_occurrances_word(b, index)\n",
        "  if (n_a == 0 or n_b == 0):\n",
        "    return (0, b)\n",
        "  n_ab = num_occurrances_bigram(a, b, index)\n",
        "  x2 = (n_ab - (1 / n) * n_a * n_b) ** 2 / (n_a * n_b)\n",
        "  return (x2, b)\n",
        "  \n",
        "def calc_dice(a, b, index):\n",
        "  n_a = num_occurrances_word(a, index)\n",
        "  n_b = num_occurrances_word(b, index)\n",
        "  if (n_a == 0 and n_b == 0):\n",
        "    return (0, b)\n",
        "  n_ab = num_occurrances_bigram(a, b, index)\n",
        "  dice = n_ab / (n_a + n_b)\n",
        "  return (dice, b)"
      ],
      "execution_count": 0,
      "outputs": []
    },
    {
      "cell_type": "code",
      "metadata": {
        "id": "pDHYXrLZ1Elc",
        "colab_type": "code",
        "colab": {}
      },
      "source": [
        "def create_most_related_metrics_table(query, index, n):\n",
        "  top_10_table = pd.DataFrame()\n",
        "  top_10_MIM = []\n",
        "  top_10_EMIM = []\n",
        "  top_10_X2 = []\n",
        "  top_10_Dice = []\n",
        "  \n",
        "  for word in index:\n",
        "    if word != query:\n",
        "      bisect.insort(top_10_MIM, calc_mim(query, word, index))\n",
        "      bisect.insort(top_10_EMIM,calc_emim(query, word, n, index))\n",
        "      bisect.insort(top_10_X2,calc_x2(query, word, n, index))\n",
        "      bisect.insort(top_10_Dice,calc_dice(query, word, index))\n",
        "  \n",
        "  top_10_MIM.reverse()\n",
        "  top_10_EMIM.reverse()\n",
        "  top_10_X2.reverse()\n",
        "  top_10_Dice.reverse()\n",
        "  \n",
        "  top_10_table['MIM'] = [word[1] for word in top_10_MIM]\n",
        "  top_10_table['EMIM'] = [word[1] for word in top_10_EMIM]\n",
        "  top_10_table['X²'] = [word[1] for word in top_10_X2]\n",
        "  top_10_table['Dice'] = [word[1] for word in top_10_Dice]\n",
        "  \n",
        "  return top_10_table.head(10)"
      ],
      "execution_count": 0,
      "outputs": []
    },
    {
      "cell_type": "code",
      "metadata": {
        "id": "4NuLU-7N1gkP",
        "colab_type": "code",
        "colab": {}
      },
      "source": [
        "n = data.text.count()\n",
        "table_query0 = create_most_related_metrics_table(queries[0], index, n)\n",
        "table_query1 = create_most_related_metrics_table(queries[1], index, n)\n",
        "table_query2 = create_most_related_metrics_table(queries[2], index, n)\n",
        "table_query3 = create_most_related_metrics_table(queries[3], index, n)\n",
        "table_query4 = create_most_related_metrics_table(queries[4], index, n)"
      ],
      "execution_count": 0,
      "outputs": []
    },
    {
      "cell_type": "markdown",
      "metadata": {
        "id": "YbguESoSufQu",
        "colab_type": "text"
      },
      "source": [
        "### Top-10 palavras associadas à query \"presidente\""
      ]
    },
    {
      "cell_type": "code",
      "metadata": {
        "id": "Y3sAuDG62FyK",
        "colab_type": "code",
        "outputId": "1ee5edc4-4845-47fb-d125-9e2a10ac45c4",
        "colab": {
          "base_uri": "https://localhost:8080/",
          "height": 359
        }
      },
      "source": [
        "table_query0"
      ],
      "execution_count": 0,
      "outputs": [
        {
          "output_type": "execute_result",
          "data": {
            "text/html": [
              "<div>\n",
              "<style scoped>\n",
              "    .dataframe tbody tr th:only-of-type {\n",
              "        vertical-align: middle;\n",
              "    }\n",
              "\n",
              "    .dataframe tbody tr th {\n",
              "        vertical-align: top;\n",
              "    }\n",
              "\n",
              "    .dataframe thead th {\n",
              "        text-align: right;\n",
              "    }\n",
              "</style>\n",
              "<table border=\"1\" class=\"dataframe\">\n",
              "  <thead>\n",
              "    <tr style=\"text-align: right;\">\n",
              "      <th></th>\n",
              "      <th>MIM</th>\n",
              "      <th>EMIM</th>\n",
              "      <th>X²</th>\n",
              "      <th>Dice</th>\n",
              "    </tr>\n",
              "  </thead>\n",
              "  <tbody>\n",
              "    <tr>\n",
              "      <th>0</th>\n",
              "      <td>óbvios</td>\n",
              "      <td>provocar</td>\n",
              "      <td>vida</td>\n",
              "      <td>jair</td>\n",
              "    </tr>\n",
              "    <tr>\n",
              "      <th>1</th>\n",
              "      <td>ínfimo</td>\n",
              "      <td>criticou</td>\n",
              "      <td>nacional</td>\n",
              "      <td>ser</td>\n",
              "    </tr>\n",
              "    <tr>\n",
              "      <th>2</th>\n",
              "      <td>ínfima</td>\n",
              "      <td>autoritário</td>\n",
              "      <td>precisa</td>\n",
              "      <td>bolsonaro</td>\n",
              "    </tr>\n",
              "    <tr>\n",
              "      <th>3</th>\n",
              "      <td>é-lhes</td>\n",
              "      <td>abandonar</td>\n",
              "      <td>dcm</td>\n",
              "      <td>hoje</td>\n",
              "    </tr>\n",
              "    <tr>\n",
              "      <th>4</th>\n",
              "      <td>ânsia</td>\n",
              "      <td>francês</td>\n",
              "      <td>ponto</td>\n",
              "      <td>tudo</td>\n",
              "    </tr>\n",
              "    <tr>\n",
              "      <th>5</th>\n",
              "      <td>álcool</td>\n",
              "      <td>começo</td>\n",
              "      <td>continuar</td>\n",
              "      <td>marcando</td>\n",
              "    </tr>\n",
              "    <tr>\n",
              "      <th>6</th>\n",
              "      <td>zoológico</td>\n",
              "      <td>articulador</td>\n",
              "      <td>marcando</td>\n",
              "      <td>jornalismo</td>\n",
              "    </tr>\n",
              "    <tr>\n",
              "      <th>7</th>\n",
              "      <td>yousafzai</td>\n",
              "      <td>evidentemente</td>\n",
              "      <td>jornalismo</td>\n",
              "      <td>ponto</td>\n",
              "    </tr>\n",
              "    <tr>\n",
              "      <th>8</th>\n",
              "      <td>yasser</td>\n",
              "      <td>trato</td>\n",
              "      <td>sobre</td>\n",
              "      <td>continuar</td>\n",
              "    </tr>\n",
              "    <tr>\n",
              "      <th>9</th>\n",
              "      <td>yann</td>\n",
              "      <td>itaipu</td>\n",
              "      <td>globo</td>\n",
              "      <td>sido</td>\n",
              "    </tr>\n",
              "  </tbody>\n",
              "</table>\n",
              "</div>"
            ],
            "text/plain": [
              "         MIM           EMIM          X²        Dice\n",
              "0     óbvios       provocar        vida        jair\n",
              "1     ínfimo       criticou    nacional         ser\n",
              "2     ínfima    autoritário     precisa   bolsonaro\n",
              "3     é-lhes      abandonar         dcm        hoje\n",
              "4      ânsia        francês       ponto        tudo\n",
              "5     álcool         começo   continuar    marcando\n",
              "6  zoológico    articulador    marcando  jornalismo\n",
              "7  yousafzai  evidentemente  jornalismo       ponto\n",
              "8     yasser          trato       sobre   continuar\n",
              "9       yann         itaipu       globo        sido"
            ]
          },
          "metadata": {
            "tags": []
          },
          "execution_count": 138
        }
      ]
    },
    {
      "cell_type": "markdown",
      "metadata": {
        "id": "mUC6E3LSu2U5",
        "colab_type": "text"
      },
      "source": [
        "### Top-10 palavras associadas à query \"bolsonaro\""
      ]
    },
    {
      "cell_type": "code",
      "metadata": {
        "id": "fmjPxDpb2Gcw",
        "colab_type": "code",
        "outputId": "81087b26-676d-40cb-c3e4-947029d4c6b6",
        "colab": {
          "base_uri": "https://localhost:8080/",
          "height": 359
        }
      },
      "source": [
        "table_query1"
      ],
      "execution_count": 0,
      "outputs": [
        {
          "output_type": "execute_result",
          "data": {
            "text/html": [
              "<div>\n",
              "<style scoped>\n",
              "    .dataframe tbody tr th:only-of-type {\n",
              "        vertical-align: middle;\n",
              "    }\n",
              "\n",
              "    .dataframe tbody tr th {\n",
              "        vertical-align: top;\n",
              "    }\n",
              "\n",
              "    .dataframe thead th {\n",
              "        text-align: right;\n",
              "    }\n",
              "</style>\n",
              "<table border=\"1\" class=\"dataframe\">\n",
              "  <thead>\n",
              "    <tr style=\"text-align: right;\">\n",
              "      <th></th>\n",
              "      <th>MIM</th>\n",
              "      <th>EMIM</th>\n",
              "      <th>X²</th>\n",
              "      <th>Dice</th>\n",
              "    </tr>\n",
              "  </thead>\n",
              "  <tbody>\n",
              "    <tr>\n",
              "      <th>0</th>\n",
              "      <td>ímpeto</td>\n",
              "      <td>injustiça</td>\n",
              "      <td>nacional</td>\n",
              "      <td>jair</td>\n",
              "    </tr>\n",
              "    <tr>\n",
              "      <th>1</th>\n",
              "      <td>ícones</td>\n",
              "      <td>desmonte</td>\n",
              "      <td>vida</td>\n",
              "      <td>presidente</td>\n",
              "    </tr>\n",
              "    <tr>\n",
              "      <th>2</th>\n",
              "      <td>ânsia</td>\n",
              "      <td>mando</td>\n",
              "      <td>ponto</td>\n",
              "      <td>jornalismo</td>\n",
              "    </tr>\n",
              "    <tr>\n",
              "      <th>3</th>\n",
              "      <td>ángel</td>\n",
              "      <td>jair</td>\n",
              "      <td>continuar</td>\n",
              "      <td>marcando</td>\n",
              "    </tr>\n",
              "    <tr>\n",
              "      <th>4</th>\n",
              "      <td>álcool</td>\n",
              "      <td>protestos</td>\n",
              "      <td>precisa</td>\n",
              "      <td>dcm</td>\n",
              "    </tr>\n",
              "    <tr>\n",
              "      <th>5</th>\n",
              "      <td>zusammen</td>\n",
              "      <td>manifestantes</td>\n",
              "      <td>marcando</td>\n",
              "      <td>precisa</td>\n",
              "    </tr>\n",
              "    <tr>\n",
              "      <th>6</th>\n",
              "      <td>zelar</td>\n",
              "      <td>instituições</td>\n",
              "      <td>dcm</td>\n",
              "      <td>continuar</td>\n",
              "    </tr>\n",
              "    <tr>\n",
              "      <th>7</th>\n",
              "      <td>yorko</td>\n",
              "      <td>risos</td>\n",
              "      <td>jornalismo</td>\n",
              "      <td>ponto</td>\n",
              "    </tr>\n",
              "    <tr>\n",
              "      <th>8</th>\n",
              "      <td>xerife</td>\n",
              "      <td>pensava</td>\n",
              "      <td>ainda</td>\n",
              "      <td>vida</td>\n",
              "    </tr>\n",
              "    <tr>\n",
              "      <th>9</th>\n",
              "      <td>wolf</td>\n",
              "      <td>constitui</td>\n",
              "      <td>sobre</td>\n",
              "      <td>ser</td>\n",
              "    </tr>\n",
              "  </tbody>\n",
              "</table>\n",
              "</div>"
            ],
            "text/plain": [
              "        MIM           EMIM          X²        Dice\n",
              "0    ímpeto      injustiça    nacional        jair\n",
              "1    ícones       desmonte        vida  presidente\n",
              "2     ânsia          mando       ponto  jornalismo\n",
              "3     ángel           jair   continuar    marcando\n",
              "4    álcool      protestos     precisa         dcm\n",
              "5  zusammen  manifestantes    marcando     precisa\n",
              "6     zelar   instituições         dcm   continuar\n",
              "7     yorko          risos  jornalismo       ponto\n",
              "8    xerife        pensava       ainda        vida\n",
              "9      wolf      constitui       sobre         ser"
            ]
          },
          "metadata": {
            "tags": []
          },
          "execution_count": 41
        }
      ]
    },
    {
      "cell_type": "markdown",
      "metadata": {
        "id": "Kpz5zyXCu67S",
        "colab_type": "text"
      },
      "source": [
        "### Top-10 palavras associadas à query \"país\""
      ]
    },
    {
      "cell_type": "code",
      "metadata": {
        "id": "jB1V294R2G6m",
        "colab_type": "code",
        "outputId": "de83ae30-ae4c-4527-f884-0d6c9a20b370",
        "colab": {
          "base_uri": "https://localhost:8080/",
          "height": 359
        }
      },
      "source": [
        "table_query2"
      ],
      "execution_count": 0,
      "outputs": [
        {
          "output_type": "execute_result",
          "data": {
            "text/html": [
              "<div>\n",
              "<style scoped>\n",
              "    .dataframe tbody tr th:only-of-type {\n",
              "        vertical-align: middle;\n",
              "    }\n",
              "\n",
              "    .dataframe tbody tr th {\n",
              "        vertical-align: top;\n",
              "    }\n",
              "\n",
              "    .dataframe thead th {\n",
              "        text-align: right;\n",
              "    }\n",
              "</style>\n",
              "<table border=\"1\" class=\"dataframe\">\n",
              "  <thead>\n",
              "    <tr style=\"text-align: right;\">\n",
              "      <th></th>\n",
              "      <th>MIM</th>\n",
              "      <th>EMIM</th>\n",
              "      <th>X²</th>\n",
              "      <th>Dice</th>\n",
              "    </tr>\n",
              "  </thead>\n",
              "  <tbody>\n",
              "    <tr>\n",
              "      <th>0</th>\n",
              "      <td>únicas</td>\n",
              "      <td>dados</td>\n",
              "      <td>nacional</td>\n",
              "      <td>ainda</td>\n",
              "    </tr>\n",
              "    <tr>\n",
              "      <th>1</th>\n",
              "      <td>ótica</td>\n",
              "      <td>fechar</td>\n",
              "      <td>vida</td>\n",
              "      <td>todo</td>\n",
              "    </tr>\n",
              "    <tr>\n",
              "      <th>2</th>\n",
              "      <td>óbvios</td>\n",
              "      <td>considera</td>\n",
              "      <td>dcm</td>\n",
              "      <td>grande</td>\n",
              "    </tr>\n",
              "    <tr>\n",
              "      <th>3</th>\n",
              "      <td>ínfimo</td>\n",
              "      <td>cerca</td>\n",
              "      <td>precisa</td>\n",
              "      <td>todos</td>\n",
              "    </tr>\n",
              "    <tr>\n",
              "      <th>4</th>\n",
              "      <td>índias</td>\n",
              "      <td>devem</td>\n",
              "      <td>ponto</td>\n",
              "      <td>dia</td>\n",
              "    </tr>\n",
              "    <tr>\n",
              "      <th>5</th>\n",
              "      <td>ímpeto</td>\n",
              "      <td>bolsonaros</td>\n",
              "      <td>marcando</td>\n",
              "      <td>pode</td>\n",
              "    </tr>\n",
              "    <tr>\n",
              "      <th>6</th>\n",
              "      <td>éticas</td>\n",
              "      <td>querendo</td>\n",
              "      <td>continuar</td>\n",
              "      <td>onde</td>\n",
              "    </tr>\n",
              "    <tr>\n",
              "      <th>7</th>\n",
              "      <td>zezé</td>\n",
              "      <td>concorrer</td>\n",
              "      <td>jornalismo</td>\n",
              "      <td>hoje</td>\n",
              "    </tr>\n",
              "    <tr>\n",
              "      <th>8</th>\n",
              "      <td>zeidler</td>\n",
              "      <td>conseguiu</td>\n",
              "      <td>fechar</td>\n",
              "      <td>segundo</td>\n",
              "    </tr>\n",
              "    <tr>\n",
              "      <th>9</th>\n",
              "      <td>zavascki</td>\n",
              "      <td>maiores</td>\n",
              "      <td>regiões</td>\n",
              "      <td>tudo</td>\n",
              "    </tr>\n",
              "  </tbody>\n",
              "</table>\n",
              "</div>"
            ],
            "text/plain": [
              "        MIM        EMIM          X²     Dice\n",
              "0    únicas       dados    nacional    ainda\n",
              "1     ótica      fechar        vida     todo\n",
              "2    óbvios   considera         dcm   grande\n",
              "3    ínfimo       cerca     precisa    todos\n",
              "4    índias       devem       ponto      dia\n",
              "5    ímpeto  bolsonaros    marcando     pode\n",
              "6    éticas    querendo   continuar     onde\n",
              "7      zezé   concorrer  jornalismo     hoje\n",
              "8   zeidler   conseguiu      fechar  segundo\n",
              "9  zavascki     maiores     regiões     tudo"
            ]
          },
          "metadata": {
            "tags": []
          },
          "execution_count": 42
        }
      ]
    },
    {
      "cell_type": "markdown",
      "metadata": {
        "id": "pteYj3sPu-8a",
        "colab_type": "text"
      },
      "source": [
        "### Top-10 palavras associadas à query \"futebol\""
      ]
    },
    {
      "cell_type": "code",
      "metadata": {
        "id": "U1cEwp0N2HaN",
        "colab_type": "code",
        "outputId": "e6fc94d7-407d-4e2f-ba7c-6653f9530e4e",
        "colab": {
          "base_uri": "https://localhost:8080/",
          "height": 359
        }
      },
      "source": [
        "table_query3"
      ],
      "execution_count": 0,
      "outputs": [
        {
          "output_type": "execute_result",
          "data": {
            "text/html": [
              "<div>\n",
              "<style scoped>\n",
              "    .dataframe tbody tr th:only-of-type {\n",
              "        vertical-align: middle;\n",
              "    }\n",
              "\n",
              "    .dataframe tbody tr th {\n",
              "        vertical-align: top;\n",
              "    }\n",
              "\n",
              "    .dataframe thead th {\n",
              "        text-align: right;\n",
              "    }\n",
              "</style>\n",
              "<table border=\"1\" class=\"dataframe\">\n",
              "  <thead>\n",
              "    <tr style=\"text-align: right;\">\n",
              "      <th></th>\n",
              "      <th>MIM</th>\n",
              "      <th>EMIM</th>\n",
              "      <th>X²</th>\n",
              "      <th>Dice</th>\n",
              "    </tr>\n",
              "  </thead>\n",
              "  <tbody>\n",
              "    <tr>\n",
              "      <th>0</th>\n",
              "      <td>ángel</td>\n",
              "      <td>saídas</td>\n",
              "      <td>saídas</td>\n",
              "      <td>saídas</td>\n",
              "    </tr>\n",
              "    <tr>\n",
              "      <th>1</th>\n",
              "      <td>zusammen</td>\n",
              "      <td>coronel</td>\n",
              "      <td>ángel</td>\n",
              "      <td>coronel</td>\n",
              "    </tr>\n",
              "    <tr>\n",
              "      <th>2</th>\n",
              "      <td>yorko</td>\n",
              "      <td>categorias</td>\n",
              "      <td>zusammen</td>\n",
              "      <td>categorias</td>\n",
              "    </tr>\n",
              "    <tr>\n",
              "      <th>3</th>\n",
              "      <td>xingando</td>\n",
              "      <td>atender</td>\n",
              "      <td>yorko</td>\n",
              "      <td>atender</td>\n",
              "    </tr>\n",
              "    <tr>\n",
              "      <th>4</th>\n",
              "      <td>violados</td>\n",
              "      <td>italiano</td>\n",
              "      <td>xingando</td>\n",
              "      <td>italiano</td>\n",
              "    </tr>\n",
              "    <tr>\n",
              "      <th>5</th>\n",
              "      <td>vigilkapelle</td>\n",
              "      <td>flamengo</td>\n",
              "      <td>violados</td>\n",
              "      <td>flamengo</td>\n",
              "    </tr>\n",
              "    <tr>\n",
              "      <th>6</th>\n",
              "      <td>vigilia</td>\n",
              "      <td>salvador</td>\n",
              "      <td>vigilkapelle</td>\n",
              "      <td>ángel</td>\n",
              "    </tr>\n",
              "    <tr>\n",
              "      <th>7</th>\n",
              "      <td>victoria</td>\n",
              "      <td>prêmio</td>\n",
              "      <td>vigilia</td>\n",
              "      <td>zusammen</td>\n",
              "    </tr>\n",
              "    <tr>\n",
              "      <th>8</th>\n",
              "      <td>viadutos</td>\n",
              "      <td>núcleo</td>\n",
              "      <td>victoria</td>\n",
              "      <td>yorko</td>\n",
              "    </tr>\n",
              "    <tr>\n",
              "      <th>9</th>\n",
              "      <td>verificar</td>\n",
              "      <td>ocorrido</td>\n",
              "      <td>viadutos</td>\n",
              "      <td>xingando</td>\n",
              "    </tr>\n",
              "  </tbody>\n",
              "</table>\n",
              "</div>"
            ],
            "text/plain": [
              "            MIM        EMIM            X²        Dice\n",
              "0         ángel      saídas        saídas      saídas\n",
              "1      zusammen     coronel         ángel     coronel\n",
              "2         yorko  categorias      zusammen  categorias\n",
              "3      xingando     atender         yorko     atender\n",
              "4      violados    italiano      xingando    italiano\n",
              "5  vigilkapelle    flamengo      violados    flamengo\n",
              "6       vigilia    salvador  vigilkapelle       ángel\n",
              "7      victoria      prêmio       vigilia    zusammen\n",
              "8      viadutos      núcleo      victoria       yorko\n",
              "9     verificar    ocorrido      viadutos    xingando"
            ]
          },
          "metadata": {
            "tags": []
          },
          "execution_count": 35
        }
      ]
    },
    {
      "cell_type": "markdown",
      "metadata": {
        "id": "oExoVz3XvBhm",
        "colab_type": "text"
      },
      "source": [
        "### Top-10 palavras associadas à query \"site\""
      ]
    },
    {
      "cell_type": "code",
      "metadata": {
        "id": "fZlhZ5b72H3z",
        "colab_type": "code",
        "outputId": "b87d44f2-136c-4afc-8f12-130094c08416",
        "colab": {
          "base_uri": "https://localhost:8080/",
          "height": 359
        }
      },
      "source": [
        "table_query4"
      ],
      "execution_count": 0,
      "outputs": [
        {
          "output_type": "execute_result",
          "data": {
            "text/html": [
              "<div>\n",
              "<style scoped>\n",
              "    .dataframe tbody tr th:only-of-type {\n",
              "        vertical-align: middle;\n",
              "    }\n",
              "\n",
              "    .dataframe tbody tr th {\n",
              "        vertical-align: top;\n",
              "    }\n",
              "\n",
              "    .dataframe thead th {\n",
              "        text-align: right;\n",
              "    }\n",
              "</style>\n",
              "<table border=\"1\" class=\"dataframe\">\n",
              "  <thead>\n",
              "    <tr style=\"text-align: right;\">\n",
              "      <th></th>\n",
              "      <th>MIM</th>\n",
              "      <th>EMIM</th>\n",
              "      <th>X²</th>\n",
              "      <th>Dice</th>\n",
              "    </tr>\n",
              "  </thead>\n",
              "  <tbody>\n",
              "    <tr>\n",
              "      <th>0</th>\n",
              "      <td>ótica</td>\n",
              "      <td>doação</td>\n",
              "      <td>doação</td>\n",
              "      <td>doação</td>\n",
              "    </tr>\n",
              "    <tr>\n",
              "      <th>1</th>\n",
              "      <td>íntima</td>\n",
              "      <td>seguirmos</td>\n",
              "      <td>seguirmos</td>\n",
              "      <td>seguirmos</td>\n",
              "    </tr>\n",
              "    <tr>\n",
              "      <th>2</th>\n",
              "      <td>zimmerman</td>\n",
              "      <td>combatendo</td>\n",
              "      <td>combatendo</td>\n",
              "      <td>combatendo</td>\n",
              "    </tr>\n",
              "    <tr>\n",
              "      <th>3</th>\n",
              "      <td>wi-fi</td>\n",
              "      <td>loira</td>\n",
              "      <td>loira</td>\n",
              "      <td>fake</td>\n",
              "    </tr>\n",
              "    <tr>\n",
              "      <th>4</th>\n",
              "      <td>wedding</td>\n",
              "      <td>fake</td>\n",
              "      <td>moto</td>\n",
              "      <td>loira</td>\n",
              "    </tr>\n",
              "    <tr>\n",
              "      <th>5</th>\n",
              "      <td>warren</td>\n",
              "      <td>diferença</td>\n",
              "      <td>sérias</td>\n",
              "      <td>diferença</td>\n",
              "    </tr>\n",
              "    <tr>\n",
              "      <th>6</th>\n",
              "      <td>vê-las</td>\n",
              "      <td>sair</td>\n",
              "      <td>punida</td>\n",
              "      <td>sair</td>\n",
              "    </tr>\n",
              "    <tr>\n",
              "      <th>7</th>\n",
              "      <td>volatilidade</td>\n",
              "      <td>independência</td>\n",
              "      <td>intervalos</td>\n",
              "      <td>independência</td>\n",
              "    </tr>\n",
              "    <tr>\n",
              "      <th>8</th>\n",
              "      <td>visível</td>\n",
              "      <td>moto</td>\n",
              "      <td>indagado</td>\n",
              "      <td>obrigado</td>\n",
              "    </tr>\n",
              "    <tr>\n",
              "      <th>9</th>\n",
              "      <td>visualizações</td>\n",
              "      <td>obrigado</td>\n",
              "      <td>falsos</td>\n",
              "      <td>faça</td>\n",
              "    </tr>\n",
              "  </tbody>\n",
              "</table>\n",
              "</div>"
            ],
            "text/plain": [
              "             MIM           EMIM          X²           Dice\n",
              "0          ótica         doação      doação         doação\n",
              "1         íntima      seguirmos   seguirmos      seguirmos\n",
              "2      zimmerman     combatendo  combatendo     combatendo\n",
              "3          wi-fi          loira       loira           fake\n",
              "4        wedding           fake        moto          loira\n",
              "5         warren      diferença      sérias      diferença\n",
              "6         vê-las           sair      punida           sair\n",
              "7   volatilidade  independência  intervalos  independência\n",
              "8        visível           moto    indagado       obrigado\n",
              "9  visualizações       obrigado      falsos           faça"
            ]
          },
          "metadata": {
            "tags": []
          },
          "execution_count": 36
        }
      ]
    },
    {
      "cell_type": "markdown",
      "metadata": {
        "id": "gofATZpbmYkL",
        "colab_type": "text"
      },
      "source": [
        "Podemos observar com certa facilidade que o MIM não obtém bons resultados, retornando comumente palavras de outros idiomas e outras que são difíceis de se imaginar um contexto no qual estariam relacionadas a query, como é o caso da palavra \"zoológico\" para a query \"presidente\".\n",
        "\n",
        "As outras três métricas estão com resultados mais similares, como é o caso da query \"site\", que EMIM, X² e Dice retornam as mesmas palavras na mesma sequência: \"doação\", \"seguirmos\" e \"combatendo\".\n",
        "\n",
        "Porém, podemos observar um melhor desempenho por parte das métricas EMIM e Dice, pois X² não obteve bons resultados no geral, como por exemplo na query \"futebol\", que a métrica retornou palavras em outros idiomas e outras que não estão relacionadas à query como \"viadutos\", enquanto EMIM e Dice retornaram 6 palavras em comum, inclusive na mesma ordem.\n",
        "\n",
        "Para decidir a melhor entre as duas, considerei a simplicidade da métrica, sendo Dice consideravelmentem ais simples que EMIM (alcançando resultados bastante similares) e a relação entre as duas primeiras queries \"presidente\" e \"bolsonaro\", nas quais a métrica Dice encontrou \"bolsonaro\" como resultado da primeira e encontrou \"presidente\" como resultado da segunda query.\n",
        "\n",
        "Nesse sentido, julgo que Dice foi a métrica que obteve melhores resultados."
      ]
    },
    {
      "cell_type": "markdown",
      "metadata": {
        "id": "NinplaXzxziZ",
        "colab_type": "text"
      },
      "source": [
        "# Questão 2"
      ]
    },
    {
      "cell_type": "code",
      "metadata": {
        "id": "huE8Ik1xx1FX",
        "colab_type": "code",
        "colab": {}
      },
      "source": [
        "def term_at_time(query, index, k):\n",
        "    a = {}\n",
        "    document_count_list = []\n",
        "    r = []\n",
        "    for word in query.split():\n",
        "        document_count_list.append(index[word])\n",
        "    for document_count in document_count_list:\n",
        "        for post in document_count:\n",
        "            d = post[0]\n",
        "            freq = post[1]\n",
        "            if (d in a.keys()):\n",
        "                a[d] += freq\n",
        "            else:\n",
        "                a[d] = freq\n",
        "    for (d, ad) in a.items():\n",
        "        sd = ad\n",
        "        heapq.heappush(r, (sd, d))\n",
        "\n",
        "    return heapq.nlargest(k, r)"
      ],
      "execution_count": 0,
      "outputs": []
    },
    {
      "cell_type": "code",
      "metadata": {
        "id": "IWgY55u4bfZg",
        "colab_type": "code",
        "colab": {}
      },
      "source": [
        "def index_with_ntop_docs(query, k):\n",
        "  ntop_docs_ranking = {} \n",
        "  ntop_docs_indexes = [doc for score, doc in term_at_time(query, index, k)]\n",
        "  \n",
        "  for word in index:\n",
        "    ntop_docs_ranking[word] = []\n",
        "    for doc_score in index[word]:\n",
        "      if doc_score[0] in ntop_docs_indexes:\n",
        "        ntop_docs_ranking[word].append(doc_score)\n",
        "        \n",
        "  return ntop_docs_ranking"
      ],
      "execution_count": 0,
      "outputs": []
    },
    {
      "cell_type": "code",
      "metadata": {
        "id": "-AHKlt60eg_E",
        "colab_type": "code",
        "colab": {}
      },
      "source": [
        "k = 3\n",
        "\n",
        "index_with_top_3_docs_query0 = index_with_ntop_docs(queries[0], k)\n",
        "index_with_top_3_docs_query1 = index_with_ntop_docs(queries[1], k)\n",
        "index_with_top_3_docs_query2 = index_with_ntop_docs(queries[2], k)\n",
        "index_with_top_3_docs_query3 = index_with_ntop_docs(queries[3], k)\n",
        "index_with_top_3_docs_query4 = index_with_ntop_docs(queries[4], k)\n",
        "\n",
        "table_top3_query0 = create_most_related_metrics_table(queries[0], index_with_top_3_docs_query0, k)\n",
        "table_top3_query1 = create_most_related_metrics_table(queries[1], index_with_top_3_docs_query1, k)\n",
        "table_top3_query2 = create_most_related_metrics_table(queries[2], index_with_top_3_docs_query2, k)\n",
        "table_top3_query3 = create_most_related_metrics_table(queries[3], index_with_top_3_docs_query3, k)\n",
        "table_top3_query4 = create_most_related_metrics_table(queries[4], index_with_top_3_docs_query4, k)"
      ],
      "execution_count": 0,
      "outputs": []
    },
    {
      "cell_type": "markdown",
      "metadata": {
        "id": "ZSnWvke3CFt4",
        "colab_type": "text"
      },
      "source": [
        "### Comparação com Top-3 documentos para query \"presidente\""
      ]
    },
    {
      "cell_type": "code",
      "metadata": {
        "id": "0IE7FeEojwqG",
        "colab_type": "code",
        "outputId": "2548de99-adf1-4679-fc05-54a071315b7b",
        "colab": {
          "base_uri": "https://localhost:8080/",
          "height": 359
        }
      },
      "source": [
        "comparation_table_top3_query0 = pd.DataFrame()\n",
        "comparation_table_top3_query0[\"Dice (All Documents)\"] = table_query0[\"Dice\"]\n",
        "comparation_table_top3_query0[\"Dice (Top-3 Documents)\"] = table_top3_query0[\"Dice\"]\n",
        "comparation_table_top3_query0"
      ],
      "execution_count": 0,
      "outputs": [
        {
          "output_type": "execute_result",
          "data": {
            "text/html": [
              "<div>\n",
              "<style scoped>\n",
              "    .dataframe tbody tr th:only-of-type {\n",
              "        vertical-align: middle;\n",
              "    }\n",
              "\n",
              "    .dataframe tbody tr th {\n",
              "        vertical-align: top;\n",
              "    }\n",
              "\n",
              "    .dataframe thead th {\n",
              "        text-align: right;\n",
              "    }\n",
              "</style>\n",
              "<table border=\"1\" class=\"dataframe\">\n",
              "  <thead>\n",
              "    <tr style=\"text-align: right;\">\n",
              "      <th></th>\n",
              "      <th>Dice (All Documents)</th>\n",
              "      <th>Dice (Top-3 Documents)</th>\n",
              "    </tr>\n",
              "  </thead>\n",
              "  <tbody>\n",
              "    <tr>\n",
              "      <th>0</th>\n",
              "      <td>jair</td>\n",
              "      <td>cni</td>\n",
              "    </tr>\n",
              "    <tr>\n",
              "      <th>1</th>\n",
              "      <td>ser</td>\n",
              "      <td>país</td>\n",
              "    </tr>\n",
              "    <tr>\n",
              "      <th>2</th>\n",
              "      <td>bolsonaro</td>\n",
              "      <td>útil</td>\n",
              "    </tr>\n",
              "    <tr>\n",
              "      <th>3</th>\n",
              "      <td>hoje</td>\n",
              "      <td>úteis</td>\n",
              "    </tr>\n",
              "    <tr>\n",
              "      <th>4</th>\n",
              "      <td>tudo</td>\n",
              "      <td>únicos</td>\n",
              "    </tr>\n",
              "    <tr>\n",
              "      <th>5</th>\n",
              "      <td>marcando</td>\n",
              "      <td>único</td>\n",
              "    </tr>\n",
              "    <tr>\n",
              "      <th>6</th>\n",
              "      <td>jornalismo</td>\n",
              "      <td>únicas</td>\n",
              "    </tr>\n",
              "    <tr>\n",
              "      <th>7</th>\n",
              "      <td>ponto</td>\n",
              "      <td>única</td>\n",
              "    </tr>\n",
              "    <tr>\n",
              "      <th>8</th>\n",
              "      <td>continuar</td>\n",
              "      <td>últimos</td>\n",
              "    </tr>\n",
              "    <tr>\n",
              "      <th>9</th>\n",
              "      <td>sido</td>\n",
              "      <td>último</td>\n",
              "    </tr>\n",
              "  </tbody>\n",
              "</table>\n",
              "</div>"
            ],
            "text/plain": [
              "  Dice (All Documents) Dice (Top-3 Documents)\n",
              "0                 jair                    cni\n",
              "1                  ser                   país\n",
              "2            bolsonaro                   útil\n",
              "3                 hoje                  úteis\n",
              "4                 tudo                 únicos\n",
              "5             marcando                  único\n",
              "6           jornalismo                 únicas\n",
              "7                ponto                  única\n",
              "8            continuar                últimos\n",
              "9                 sido                 último"
            ]
          },
          "metadata": {
            "tags": []
          },
          "execution_count": 169
        }
      ]
    },
    {
      "cell_type": "markdown",
      "metadata": {
        "id": "3bsS80rnCPB2",
        "colab_type": "text"
      },
      "source": [
        "### Comparação com Top-3 documentos para query \"bolsonaro\""
      ]
    },
    {
      "cell_type": "code",
      "metadata": {
        "id": "JuHvaIOYjxHr",
        "colab_type": "code",
        "outputId": "38ab55ec-574c-44bc-a052-044032275e3e",
        "colab": {
          "base_uri": "https://localhost:8080/",
          "height": 359
        }
      },
      "source": [
        "comparation_table_top3_query1 = pd.DataFrame()\n",
        "comparation_table_top3_query1[\"Dice (All Documents)\"] = table_query1[\"Dice\"]\n",
        "comparation_table_top3_query1[\"Dice (Top-3 Documents)\"] = table_top3_query1[\"Dice\"]\n",
        "comparation_table_top3_query1"
      ],
      "execution_count": 0,
      "outputs": [
        {
          "output_type": "execute_result",
          "data": {
            "text/html": [
              "<div>\n",
              "<style scoped>\n",
              "    .dataframe tbody tr th:only-of-type {\n",
              "        vertical-align: middle;\n",
              "    }\n",
              "\n",
              "    .dataframe tbody tr th {\n",
              "        vertical-align: top;\n",
              "    }\n",
              "\n",
              "    .dataframe thead th {\n",
              "        text-align: right;\n",
              "    }\n",
              "</style>\n",
              "<table border=\"1\" class=\"dataframe\">\n",
              "  <thead>\n",
              "    <tr style=\"text-align: right;\">\n",
              "      <th></th>\n",
              "      <th>Dice (All Documents)</th>\n",
              "      <th>Dice (Top-3 Documents)</th>\n",
              "    </tr>\n",
              "  </thead>\n",
              "  <tbody>\n",
              "    <tr>\n",
              "      <th>0</th>\n",
              "      <td>jair</td>\n",
              "      <td>projeto</td>\n",
              "    </tr>\n",
              "    <tr>\n",
              "      <th>1</th>\n",
              "      <td>presidente</td>\n",
              "      <td>porque</td>\n",
              "    </tr>\n",
              "    <tr>\n",
              "      <th>2</th>\n",
              "      <td>jornalismo</td>\n",
              "      <td>útil</td>\n",
              "    </tr>\n",
              "    <tr>\n",
              "      <th>3</th>\n",
              "      <td>marcando</td>\n",
              "      <td>úteis</td>\n",
              "    </tr>\n",
              "    <tr>\n",
              "      <th>4</th>\n",
              "      <td>dcm</td>\n",
              "      <td>únicos</td>\n",
              "    </tr>\n",
              "    <tr>\n",
              "      <th>5</th>\n",
              "      <td>precisa</td>\n",
              "      <td>único</td>\n",
              "    </tr>\n",
              "    <tr>\n",
              "      <th>6</th>\n",
              "      <td>continuar</td>\n",
              "      <td>únicas</td>\n",
              "    </tr>\n",
              "    <tr>\n",
              "      <th>7</th>\n",
              "      <td>ponto</td>\n",
              "      <td>única</td>\n",
              "    </tr>\n",
              "    <tr>\n",
              "      <th>8</th>\n",
              "      <td>vida</td>\n",
              "      <td>últimos</td>\n",
              "    </tr>\n",
              "    <tr>\n",
              "      <th>9</th>\n",
              "      <td>ser</td>\n",
              "      <td>último</td>\n",
              "    </tr>\n",
              "  </tbody>\n",
              "</table>\n",
              "</div>"
            ],
            "text/plain": [
              "  Dice (All Documents) Dice (Top-3 Documents)\n",
              "0                 jair                projeto\n",
              "1           presidente                 porque\n",
              "2           jornalismo                   útil\n",
              "3             marcando                  úteis\n",
              "4                  dcm                 únicos\n",
              "5              precisa                  único\n",
              "6            continuar                 únicas\n",
              "7                ponto                  única\n",
              "8                 vida                últimos\n",
              "9                  ser                 último"
            ]
          },
          "metadata": {
            "tags": []
          },
          "execution_count": 170
        }
      ]
    },
    {
      "cell_type": "markdown",
      "metadata": {
        "id": "tfnZDt8sCRAx",
        "colab_type": "text"
      },
      "source": [
        "### Comparação com Top-3 documentos para query \"país\""
      ]
    },
    {
      "cell_type": "code",
      "metadata": {
        "id": "O23ZTEwxjxYV",
        "colab_type": "code",
        "outputId": "ff53edff-7cf8-4ff3-cae6-b3fe5ed75cfc",
        "colab": {
          "base_uri": "https://localhost:8080/",
          "height": 359
        }
      },
      "source": [
        "comparation_table_top3_query2 = pd.DataFrame()\n",
        "comparation_table_top3_query2[\"Dice (All Documents)\"] = table_query2[\"Dice\"]\n",
        "comparation_table_top3_query2[\"Dice (Top-3 Documents)\"] = table_top3_query2[\"Dice\"]\n",
        "comparation_table_top3_query2"
      ],
      "execution_count": 0,
      "outputs": [
        {
          "output_type": "execute_result",
          "data": {
            "text/html": [
              "<div>\n",
              "<style scoped>\n",
              "    .dataframe tbody tr th:only-of-type {\n",
              "        vertical-align: middle;\n",
              "    }\n",
              "\n",
              "    .dataframe tbody tr th {\n",
              "        vertical-align: top;\n",
              "    }\n",
              "\n",
              "    .dataframe thead th {\n",
              "        text-align: right;\n",
              "    }\n",
              "</style>\n",
              "<table border=\"1\" class=\"dataframe\">\n",
              "  <thead>\n",
              "    <tr style=\"text-align: right;\">\n",
              "      <th></th>\n",
              "      <th>Dice (All Documents)</th>\n",
              "      <th>Dice (Top-3 Documents)</th>\n",
              "    </tr>\n",
              "  </thead>\n",
              "  <tbody>\n",
              "    <tr>\n",
              "      <th>0</th>\n",
              "      <td>ainda</td>\n",
              "      <td>mentira</td>\n",
              "    </tr>\n",
              "    <tr>\n",
              "      <th>1</th>\n",
              "      <td>todo</td>\n",
              "      <td>cni</td>\n",
              "    </tr>\n",
              "    <tr>\n",
              "      <th>2</th>\n",
              "      <td>grande</td>\n",
              "      <td>sentido</td>\n",
              "    </tr>\n",
              "    <tr>\n",
              "      <th>3</th>\n",
              "      <td>todos</td>\n",
              "      <td>presidente</td>\n",
              "    </tr>\n",
              "    <tr>\n",
              "      <th>4</th>\n",
              "      <td>dia</td>\n",
              "      <td>governo</td>\n",
              "    </tr>\n",
              "    <tr>\n",
              "      <th>5</th>\n",
              "      <td>pode</td>\n",
              "      <td>útil</td>\n",
              "    </tr>\n",
              "    <tr>\n",
              "      <th>6</th>\n",
              "      <td>onde</td>\n",
              "      <td>úteis</td>\n",
              "    </tr>\n",
              "    <tr>\n",
              "      <th>7</th>\n",
              "      <td>hoje</td>\n",
              "      <td>únicos</td>\n",
              "    </tr>\n",
              "    <tr>\n",
              "      <th>8</th>\n",
              "      <td>segundo</td>\n",
              "      <td>único</td>\n",
              "    </tr>\n",
              "    <tr>\n",
              "      <th>9</th>\n",
              "      <td>tudo</td>\n",
              "      <td>únicas</td>\n",
              "    </tr>\n",
              "  </tbody>\n",
              "</table>\n",
              "</div>"
            ],
            "text/plain": [
              "  Dice (All Documents) Dice (Top-3 Documents)\n",
              "0                ainda                mentira\n",
              "1                 todo                    cni\n",
              "2               grande                sentido\n",
              "3                todos             presidente\n",
              "4                  dia                governo\n",
              "5                 pode                   útil\n",
              "6                 onde                  úteis\n",
              "7                 hoje                 únicos\n",
              "8              segundo                  único\n",
              "9                 tudo                 únicas"
            ]
          },
          "metadata": {
            "tags": []
          },
          "execution_count": 171
        }
      ]
    },
    {
      "cell_type": "markdown",
      "metadata": {
        "id": "plBsWWt6CSqh",
        "colab_type": "text"
      },
      "source": [
        "### Comparação com Top-3 documentos para query \"futebol\""
      ]
    },
    {
      "cell_type": "code",
      "metadata": {
        "id": "7vkSxcjOjxnJ",
        "colab_type": "code",
        "outputId": "9e6430b2-df22-4369-d066-3e833cd79548",
        "colab": {
          "base_uri": "https://localhost:8080/",
          "height": 359
        }
      },
      "source": [
        "comparation_table_top3_query3 = pd.DataFrame()\n",
        "comparation_table_top3_query3[\"Dice (All Documents)\"] = table_query3[\"Dice\"]\n",
        "comparation_table_top3_query3[\"Dice (Top-3 Documents)\"] = table_top3_query3[\"Dice\"]\n",
        "comparation_table_top3_query3"
      ],
      "execution_count": 0,
      "outputs": [
        {
          "output_type": "execute_result",
          "data": {
            "text/html": [
              "<div>\n",
              "<style scoped>\n",
              "    .dataframe tbody tr th:only-of-type {\n",
              "        vertical-align: middle;\n",
              "    }\n",
              "\n",
              "    .dataframe tbody tr th {\n",
              "        vertical-align: top;\n",
              "    }\n",
              "\n",
              "    .dataframe thead th {\n",
              "        text-align: right;\n",
              "    }\n",
              "</style>\n",
              "<table border=\"1\" class=\"dataframe\">\n",
              "  <thead>\n",
              "    <tr style=\"text-align: right;\">\n",
              "      <th></th>\n",
              "      <th>Dice (All Documents)</th>\n",
              "      <th>Dice (Top-3 Documents)</th>\n",
              "    </tr>\n",
              "  </thead>\n",
              "  <tbody>\n",
              "    <tr>\n",
              "      <th>0</th>\n",
              "      <td>saídas</td>\n",
              "      <td>zona</td>\n",
              "    </tr>\n",
              "    <tr>\n",
              "      <th>1</th>\n",
              "      <td>coronel</td>\n",
              "      <td>vestir</td>\n",
              "    </tr>\n",
              "    <tr>\n",
              "      <th>2</th>\n",
              "      <td>categorias</td>\n",
              "      <td>total</td>\n",
              "    </tr>\n",
              "    <tr>\n",
              "      <th>3</th>\n",
              "      <td>atender</td>\n",
              "      <td>seleção</td>\n",
              "    </tr>\n",
              "    <tr>\n",
              "      <th>4</th>\n",
              "      <td>italiano</td>\n",
              "      <td>repressão</td>\n",
              "    </tr>\n",
              "    <tr>\n",
              "      <th>5</th>\n",
              "      <td>flamengo</td>\n",
              "      <td>muitas</td>\n",
              "    </tr>\n",
              "    <tr>\n",
              "      <th>6</th>\n",
              "      <td>ángel</td>\n",
              "      <td>mostram</td>\n",
              "    </tr>\n",
              "    <tr>\n",
              "      <th>7</th>\n",
              "      <td>zusammen</td>\n",
              "      <td>mico</td>\n",
              "    </tr>\n",
              "    <tr>\n",
              "      <th>8</th>\n",
              "      <td>yorko</td>\n",
              "      <td>manto</td>\n",
              "    </tr>\n",
              "    <tr>\n",
              "      <th>9</th>\n",
              "      <td>xingando</td>\n",
              "      <td>joão</td>\n",
              "    </tr>\n",
              "  </tbody>\n",
              "</table>\n",
              "</div>"
            ],
            "text/plain": [
              "  Dice (All Documents) Dice (Top-3 Documents)\n",
              "0               saídas                   zona\n",
              "1              coronel                 vestir\n",
              "2           categorias                  total\n",
              "3              atender                seleção\n",
              "4             italiano              repressão\n",
              "5             flamengo                 muitas\n",
              "6                ángel                mostram\n",
              "7             zusammen                   mico\n",
              "8                yorko                  manto\n",
              "9             xingando                   joão"
            ]
          },
          "metadata": {
            "tags": []
          },
          "execution_count": 172
        }
      ]
    },
    {
      "cell_type": "markdown",
      "metadata": {
        "id": "hwGfEpZFCUyy",
        "colab_type": "text"
      },
      "source": [
        "### Comparação com Top-3 documentos para query \"site\""
      ]
    },
    {
      "cell_type": "code",
      "metadata": {
        "id": "t_zss_DNjx8A",
        "colab_type": "code",
        "outputId": "a5f93ccf-d92d-4a7f-c593-3483d637fe21",
        "colab": {
          "base_uri": "https://localhost:8080/",
          "height": 359
        }
      },
      "source": [
        "comparation_table_top3_query4 = pd.DataFrame()\n",
        "comparation_table_top3_query4[\"Dice (All Documents)\"] = table_query4[\"Dice\"]\n",
        "comparation_table_top3_query4[\"Dice (Top-3 Documents)\"] = table_top3_query4[\"Dice\"]\n",
        "comparation_table_top3_query4"
      ],
      "execution_count": 0,
      "outputs": [
        {
          "output_type": "execute_result",
          "data": {
            "text/html": [
              "<div>\n",
              "<style scoped>\n",
              "    .dataframe tbody tr th:only-of-type {\n",
              "        vertical-align: middle;\n",
              "    }\n",
              "\n",
              "    .dataframe tbody tr th {\n",
              "        vertical-align: top;\n",
              "    }\n",
              "\n",
              "    .dataframe thead th {\n",
              "        text-align: right;\n",
              "    }\n",
              "</style>\n",
              "<table border=\"1\" class=\"dataframe\">\n",
              "  <thead>\n",
              "    <tr style=\"text-align: right;\">\n",
              "      <th></th>\n",
              "      <th>Dice (All Documents)</th>\n",
              "      <th>Dice (Top-3 Documents)</th>\n",
              "    </tr>\n",
              "  </thead>\n",
              "  <tbody>\n",
              "    <tr>\n",
              "      <th>0</th>\n",
              "      <td>doação</td>\n",
              "      <td>outras</td>\n",
              "    </tr>\n",
              "    <tr>\n",
              "      <th>1</th>\n",
              "      <td>seguirmos</td>\n",
              "      <td>fake</td>\n",
              "    </tr>\n",
              "    <tr>\n",
              "      <th>2</th>\n",
              "      <td>combatendo</td>\n",
              "      <td>além</td>\n",
              "    </tr>\n",
              "    <tr>\n",
              "      <th>3</th>\n",
              "      <td>fake</td>\n",
              "      <td>vinham</td>\n",
              "    </tr>\n",
              "    <tr>\n",
              "      <th>4</th>\n",
              "      <td>loira</td>\n",
              "      <td>venceu</td>\n",
              "    </tr>\n",
              "    <tr>\n",
              "      <th>5</th>\n",
              "      <td>diferença</td>\n",
              "      <td>usuários</td>\n",
              "    </tr>\n",
              "    <tr>\n",
              "      <th>6</th>\n",
              "      <td>sair</td>\n",
              "      <td>tratasse</td>\n",
              "    </tr>\n",
              "    <tr>\n",
              "      <th>7</th>\n",
              "      <td>independência</td>\n",
              "      <td>tratado</td>\n",
              "    </tr>\n",
              "    <tr>\n",
              "      <th>8</th>\n",
              "      <td>obrigado</td>\n",
              "      <td>tempo</td>\n",
              "    </tr>\n",
              "    <tr>\n",
              "      <th>9</th>\n",
              "      <td>faça</td>\n",
              "      <td>telefone</td>\n",
              "    </tr>\n",
              "  </tbody>\n",
              "</table>\n",
              "</div>"
            ],
            "text/plain": [
              "  Dice (All Documents) Dice (Top-3 Documents)\n",
              "0               doação                 outras\n",
              "1            seguirmos                   fake\n",
              "2           combatendo                   além\n",
              "3                 fake                 vinham\n",
              "4                loira                 venceu\n",
              "5            diferença               usuários\n",
              "6                 sair               tratasse\n",
              "7        independência                tratado\n",
              "8             obrigado                  tempo\n",
              "9                 faça               telefone"
            ]
          },
          "metadata": {
            "tags": []
          },
          "execution_count": 173
        }
      ]
    },
    {
      "cell_type": "code",
      "metadata": {
        "id": "cQkdqaGQmWi9",
        "colab_type": "code",
        "colab": {}
      },
      "source": [
        "k = 5\n",
        "\n",
        "index_with_top_5_docs_query0 = index_with_ntop_docs(queries[0], k)\n",
        "index_with_top_5_docs_query1 = index_with_ntop_docs(queries[1], k)\n",
        "index_with_top_5_docs_query2 = index_with_ntop_docs(queries[2], k)\n",
        "index_with_top_5_docs_query3 = index_with_ntop_docs(queries[3], k)\n",
        "index_with_top_5_docs_query4 = index_with_ntop_docs(queries[4], k)\n",
        "\n",
        "table_top5_query0 = create_most_related_metrics_table(queries[0], index_with_top_5_docs_query0, k)\n",
        "table_top5_query1 = create_most_related_metrics_table(queries[1], index_with_top_5_docs_query1, k)\n",
        "table_top5_query2 = create_most_related_metrics_table(queries[2], index_with_top_5_docs_query2, k)\n",
        "table_top5_query3 = create_most_related_metrics_table(queries[3], index_with_top_5_docs_query3, k)\n",
        "table_top5_query4 = create_most_related_metrics_table(queries[4], index_with_top_5_docs_query4, k)"
      ],
      "execution_count": 0,
      "outputs": []
    },
    {
      "cell_type": "markdown",
      "metadata": {
        "id": "AyXJv5a9CWs9",
        "colab_type": "text"
      },
      "source": [
        "### Comparação com Top-5 documentos para query \"presidente\""
      ]
    },
    {
      "cell_type": "code",
      "metadata": {
        "id": "IhC5ZiPgmdmk",
        "colab_type": "code",
        "outputId": "954b6167-3681-43cf-cf86-be592990123c",
        "colab": {
          "base_uri": "https://localhost:8080/",
          "height": 359
        }
      },
      "source": [
        "comparation_table_top5_query0 = pd.DataFrame()\n",
        "comparation_table_top5_query0[\"Dice (All Documents)\"] = table_query0[\"Dice\"]\n",
        "comparation_table_top5_query0[\"Dice (Top-5 Documents)\"] = table_top5_query0[\"Dice\"]\n",
        "comparation_table_top5_query0"
      ],
      "execution_count": 0,
      "outputs": [
        {
          "output_type": "execute_result",
          "data": {
            "text/html": [
              "<div>\n",
              "<style scoped>\n",
              "    .dataframe tbody tr th:only-of-type {\n",
              "        vertical-align: middle;\n",
              "    }\n",
              "\n",
              "    .dataframe tbody tr th {\n",
              "        vertical-align: top;\n",
              "    }\n",
              "\n",
              "    .dataframe thead th {\n",
              "        text-align: right;\n",
              "    }\n",
              "</style>\n",
              "<table border=\"1\" class=\"dataframe\">\n",
              "  <thead>\n",
              "    <tr style=\"text-align: right;\">\n",
              "      <th></th>\n",
              "      <th>Dice (All Documents)</th>\n",
              "      <th>Dice (Top-5 Documents)</th>\n",
              "    </tr>\n",
              "  </thead>\n",
              "  <tbody>\n",
              "    <tr>\n",
              "      <th>0</th>\n",
              "      <td>jair</td>\n",
              "      <td>jair</td>\n",
              "    </tr>\n",
              "    <tr>\n",
              "      <th>1</th>\n",
              "      <td>ser</td>\n",
              "      <td>ser</td>\n",
              "    </tr>\n",
              "    <tr>\n",
              "      <th>2</th>\n",
              "      <td>bolsonaro</td>\n",
              "      <td>bolsonaro</td>\n",
              "    </tr>\n",
              "    <tr>\n",
              "      <th>3</th>\n",
              "      <td>hoje</td>\n",
              "      <td>hoje</td>\n",
              "    </tr>\n",
              "    <tr>\n",
              "      <th>4</th>\n",
              "      <td>tudo</td>\n",
              "      <td>tudo</td>\n",
              "    </tr>\n",
              "    <tr>\n",
              "      <th>5</th>\n",
              "      <td>marcando</td>\n",
              "      <td>marcando</td>\n",
              "    </tr>\n",
              "    <tr>\n",
              "      <th>6</th>\n",
              "      <td>jornalismo</td>\n",
              "      <td>jornalismo</td>\n",
              "    </tr>\n",
              "    <tr>\n",
              "      <th>7</th>\n",
              "      <td>ponto</td>\n",
              "      <td>ponto</td>\n",
              "    </tr>\n",
              "    <tr>\n",
              "      <th>8</th>\n",
              "      <td>continuar</td>\n",
              "      <td>continuar</td>\n",
              "    </tr>\n",
              "    <tr>\n",
              "      <th>9</th>\n",
              "      <td>sido</td>\n",
              "      <td>sido</td>\n",
              "    </tr>\n",
              "  </tbody>\n",
              "</table>\n",
              "</div>"
            ],
            "text/plain": [
              "  Dice (All Documents) Dice (Top-5 Documents)\n",
              "0                 jair                   jair\n",
              "1                  ser                    ser\n",
              "2            bolsonaro              bolsonaro\n",
              "3                 hoje                   hoje\n",
              "4                 tudo                   tudo\n",
              "5             marcando               marcando\n",
              "6           jornalismo             jornalismo\n",
              "7                ponto                  ponto\n",
              "8            continuar              continuar\n",
              "9                 sido                   sido"
            ]
          },
          "metadata": {
            "tags": []
          },
          "execution_count": 159
        }
      ]
    },
    {
      "cell_type": "markdown",
      "metadata": {
        "id": "wKUh9drGCZEp",
        "colab_type": "text"
      },
      "source": [
        "### Comparação com Top-5 documentos para query \"bolsonaro\""
      ]
    },
    {
      "cell_type": "code",
      "metadata": {
        "id": "e3w_Uhy3mxCV",
        "colab_type": "code",
        "outputId": "c9ce1d33-ca21-45c9-b553-20d58ac35def",
        "colab": {
          "base_uri": "https://localhost:8080/",
          "height": 359
        }
      },
      "source": [
        "comparation_table_top5_query1 = pd.DataFrame()\n",
        "comparation_table_top5_query1[\"Dice (All Documents)\"] = table_query1[\"Dice\"]\n",
        "comparation_table_top5_query1[\"Dice (Top-5 Documents)\"] = table_top5_query1[\"Dice\"]\n",
        "comparation_table_top5_query1"
      ],
      "execution_count": 0,
      "outputs": [
        {
          "output_type": "execute_result",
          "data": {
            "text/html": [
              "<div>\n",
              "<style scoped>\n",
              "    .dataframe tbody tr th:only-of-type {\n",
              "        vertical-align: middle;\n",
              "    }\n",
              "\n",
              "    .dataframe tbody tr th {\n",
              "        vertical-align: top;\n",
              "    }\n",
              "\n",
              "    .dataframe thead th {\n",
              "        text-align: right;\n",
              "    }\n",
              "</style>\n",
              "<table border=\"1\" class=\"dataframe\">\n",
              "  <thead>\n",
              "    <tr style=\"text-align: right;\">\n",
              "      <th></th>\n",
              "      <th>Dice (All Documents)</th>\n",
              "      <th>Dice (Top-5 Documents)</th>\n",
              "    </tr>\n",
              "  </thead>\n",
              "  <tbody>\n",
              "    <tr>\n",
              "      <th>0</th>\n",
              "      <td>jair</td>\n",
              "      <td>jair</td>\n",
              "    </tr>\n",
              "    <tr>\n",
              "      <th>1</th>\n",
              "      <td>presidente</td>\n",
              "      <td>presidente</td>\n",
              "    </tr>\n",
              "    <tr>\n",
              "      <th>2</th>\n",
              "      <td>jornalismo</td>\n",
              "      <td>jornalismo</td>\n",
              "    </tr>\n",
              "    <tr>\n",
              "      <th>3</th>\n",
              "      <td>marcando</td>\n",
              "      <td>marcando</td>\n",
              "    </tr>\n",
              "    <tr>\n",
              "      <th>4</th>\n",
              "      <td>dcm</td>\n",
              "      <td>dcm</td>\n",
              "    </tr>\n",
              "    <tr>\n",
              "      <th>5</th>\n",
              "      <td>precisa</td>\n",
              "      <td>precisa</td>\n",
              "    </tr>\n",
              "    <tr>\n",
              "      <th>6</th>\n",
              "      <td>continuar</td>\n",
              "      <td>continuar</td>\n",
              "    </tr>\n",
              "    <tr>\n",
              "      <th>7</th>\n",
              "      <td>ponto</td>\n",
              "      <td>ponto</td>\n",
              "    </tr>\n",
              "    <tr>\n",
              "      <th>8</th>\n",
              "      <td>vida</td>\n",
              "      <td>vida</td>\n",
              "    </tr>\n",
              "    <tr>\n",
              "      <th>9</th>\n",
              "      <td>ser</td>\n",
              "      <td>ser</td>\n",
              "    </tr>\n",
              "  </tbody>\n",
              "</table>\n",
              "</div>"
            ],
            "text/plain": [
              "  Dice (All Documents) Dice (Top-5 Documents)\n",
              "0                 jair                   jair\n",
              "1           presidente             presidente\n",
              "2           jornalismo             jornalismo\n",
              "3             marcando               marcando\n",
              "4                  dcm                    dcm\n",
              "5              precisa                precisa\n",
              "6            continuar              continuar\n",
              "7                ponto                  ponto\n",
              "8                 vida                   vida\n",
              "9                  ser                    ser"
            ]
          },
          "metadata": {
            "tags": []
          },
          "execution_count": 160
        }
      ]
    },
    {
      "cell_type": "markdown",
      "metadata": {
        "id": "K4NK6izPCa3u",
        "colab_type": "text"
      },
      "source": [
        "### Comparação com Top-5 documentos para query \"país\""
      ]
    },
    {
      "cell_type": "code",
      "metadata": {
        "id": "SuTP6GlRnQG8",
        "colab_type": "code",
        "outputId": "a43415fe-9916-46df-f08c-8de1fafceae7",
        "colab": {
          "base_uri": "https://localhost:8080/",
          "height": 359
        }
      },
      "source": [
        "comparation_table_top5_query2 = pd.DataFrame()\n",
        "comparation_table_top5_query2[\"Dice (All Documents)\"] = table_query2[\"Dice\"]\n",
        "comparation_table_top5_query2[\"Dice (Top-5 Documents)\"] = table_top5_query2[\"Dice\"]\n",
        "comparation_table_top5_query2"
      ],
      "execution_count": 0,
      "outputs": [
        {
          "output_type": "execute_result",
          "data": {
            "text/html": [
              "<div>\n",
              "<style scoped>\n",
              "    .dataframe tbody tr th:only-of-type {\n",
              "        vertical-align: middle;\n",
              "    }\n",
              "\n",
              "    .dataframe tbody tr th {\n",
              "        vertical-align: top;\n",
              "    }\n",
              "\n",
              "    .dataframe thead th {\n",
              "        text-align: right;\n",
              "    }\n",
              "</style>\n",
              "<table border=\"1\" class=\"dataframe\">\n",
              "  <thead>\n",
              "    <tr style=\"text-align: right;\">\n",
              "      <th></th>\n",
              "      <th>Dice (All Documents)</th>\n",
              "      <th>Dice (Top-5 Documents)</th>\n",
              "    </tr>\n",
              "  </thead>\n",
              "  <tbody>\n",
              "    <tr>\n",
              "      <th>0</th>\n",
              "      <td>ainda</td>\n",
              "      <td>ainda</td>\n",
              "    </tr>\n",
              "    <tr>\n",
              "      <th>1</th>\n",
              "      <td>todo</td>\n",
              "      <td>todo</td>\n",
              "    </tr>\n",
              "    <tr>\n",
              "      <th>2</th>\n",
              "      <td>grande</td>\n",
              "      <td>grande</td>\n",
              "    </tr>\n",
              "    <tr>\n",
              "      <th>3</th>\n",
              "      <td>todos</td>\n",
              "      <td>todos</td>\n",
              "    </tr>\n",
              "    <tr>\n",
              "      <th>4</th>\n",
              "      <td>dia</td>\n",
              "      <td>dia</td>\n",
              "    </tr>\n",
              "    <tr>\n",
              "      <th>5</th>\n",
              "      <td>pode</td>\n",
              "      <td>pode</td>\n",
              "    </tr>\n",
              "    <tr>\n",
              "      <th>6</th>\n",
              "      <td>onde</td>\n",
              "      <td>onde</td>\n",
              "    </tr>\n",
              "    <tr>\n",
              "      <th>7</th>\n",
              "      <td>hoje</td>\n",
              "      <td>hoje</td>\n",
              "    </tr>\n",
              "    <tr>\n",
              "      <th>8</th>\n",
              "      <td>segundo</td>\n",
              "      <td>segundo</td>\n",
              "    </tr>\n",
              "    <tr>\n",
              "      <th>9</th>\n",
              "      <td>tudo</td>\n",
              "      <td>tudo</td>\n",
              "    </tr>\n",
              "  </tbody>\n",
              "</table>\n",
              "</div>"
            ],
            "text/plain": [
              "  Dice (All Documents) Dice (Top-5 Documents)\n",
              "0                ainda                  ainda\n",
              "1                 todo                   todo\n",
              "2               grande                 grande\n",
              "3                todos                  todos\n",
              "4                  dia                    dia\n",
              "5                 pode                   pode\n",
              "6                 onde                   onde\n",
              "7                 hoje                   hoje\n",
              "8              segundo                segundo\n",
              "9                 tudo                   tudo"
            ]
          },
          "metadata": {
            "tags": []
          },
          "execution_count": 161
        }
      ]
    },
    {
      "cell_type": "markdown",
      "metadata": {
        "id": "4DHHPWDKCc1Y",
        "colab_type": "text"
      },
      "source": [
        "### Comparação com Top-5 documentos para query \"futebol\""
      ]
    },
    {
      "cell_type": "code",
      "metadata": {
        "id": "wZo2pRXenUQt",
        "colab_type": "code",
        "outputId": "dded44c5-a7aa-4bc8-846d-4a977205c45f",
        "colab": {
          "base_uri": "https://localhost:8080/",
          "height": 359
        }
      },
      "source": [
        "comparation_table_top5_query3 = pd.DataFrame()\n",
        "comparation_table_top5_query3[\"Dice (All Documents)\"] = table_query3[\"Dice\"]\n",
        "comparation_table_top5_query3[\"Dice (Top-5 Documents)\"] = table_top5_query3[\"Dice\"]\n",
        "comparation_table_top5_query3"
      ],
      "execution_count": 0,
      "outputs": [
        {
          "output_type": "execute_result",
          "data": {
            "text/html": [
              "<div>\n",
              "<style scoped>\n",
              "    .dataframe tbody tr th:only-of-type {\n",
              "        vertical-align: middle;\n",
              "    }\n",
              "\n",
              "    .dataframe tbody tr th {\n",
              "        vertical-align: top;\n",
              "    }\n",
              "\n",
              "    .dataframe thead th {\n",
              "        text-align: right;\n",
              "    }\n",
              "</style>\n",
              "<table border=\"1\" class=\"dataframe\">\n",
              "  <thead>\n",
              "    <tr style=\"text-align: right;\">\n",
              "      <th></th>\n",
              "      <th>Dice (All Documents)</th>\n",
              "      <th>Dice (Top-5 Documents)</th>\n",
              "    </tr>\n",
              "  </thead>\n",
              "  <tbody>\n",
              "    <tr>\n",
              "      <th>0</th>\n",
              "      <td>saídas</td>\n",
              "      <td>saídas</td>\n",
              "    </tr>\n",
              "    <tr>\n",
              "      <th>1</th>\n",
              "      <td>coronel</td>\n",
              "      <td>coronel</td>\n",
              "    </tr>\n",
              "    <tr>\n",
              "      <th>2</th>\n",
              "      <td>categorias</td>\n",
              "      <td>categorias</td>\n",
              "    </tr>\n",
              "    <tr>\n",
              "      <th>3</th>\n",
              "      <td>atender</td>\n",
              "      <td>atender</td>\n",
              "    </tr>\n",
              "    <tr>\n",
              "      <th>4</th>\n",
              "      <td>italiano</td>\n",
              "      <td>italiano</td>\n",
              "    </tr>\n",
              "    <tr>\n",
              "      <th>5</th>\n",
              "      <td>flamengo</td>\n",
              "      <td>flamengo</td>\n",
              "    </tr>\n",
              "    <tr>\n",
              "      <th>6</th>\n",
              "      <td>ángel</td>\n",
              "      <td>ángel</td>\n",
              "    </tr>\n",
              "    <tr>\n",
              "      <th>7</th>\n",
              "      <td>zusammen</td>\n",
              "      <td>zusammen</td>\n",
              "    </tr>\n",
              "    <tr>\n",
              "      <th>8</th>\n",
              "      <td>yorko</td>\n",
              "      <td>yorko</td>\n",
              "    </tr>\n",
              "    <tr>\n",
              "      <th>9</th>\n",
              "      <td>xingando</td>\n",
              "      <td>xingando</td>\n",
              "    </tr>\n",
              "  </tbody>\n",
              "</table>\n",
              "</div>"
            ],
            "text/plain": [
              "  Dice (All Documents) Dice (Top-5 Documents)\n",
              "0               saídas                 saídas\n",
              "1              coronel                coronel\n",
              "2           categorias             categorias\n",
              "3              atender                atender\n",
              "4             italiano               italiano\n",
              "5             flamengo               flamengo\n",
              "6                ángel                  ángel\n",
              "7             zusammen               zusammen\n",
              "8                yorko                  yorko\n",
              "9             xingando               xingando"
            ]
          },
          "metadata": {
            "tags": []
          },
          "execution_count": 162
        }
      ]
    },
    {
      "cell_type": "markdown",
      "metadata": {
        "id": "We22MqvJChWP",
        "colab_type": "text"
      },
      "source": [
        "### Comparação com Top-5 documentos para query \"site\""
      ]
    },
    {
      "cell_type": "code",
      "metadata": {
        "id": "IjZtbLTWnk6U",
        "colab_type": "code",
        "outputId": "c14bc28b-c34f-4cf3-d680-f95cee312f63",
        "colab": {
          "base_uri": "https://localhost:8080/",
          "height": 359
        }
      },
      "source": [
        "comparation_table_top5_query4 = pd.DataFrame()\n",
        "comparation_table_top5_query4[\"Dice (All Documents)\"] = table_query4[\"Dice\"]\n",
        "comparation_table_top5_query4[\"Dice (Top-5 Documents)\"] = table_top5_query4[\"Dice\"]\n",
        "comparation_table_top5_query4"
      ],
      "execution_count": 0,
      "outputs": [
        {
          "output_type": "execute_result",
          "data": {
            "text/html": [
              "<div>\n",
              "<style scoped>\n",
              "    .dataframe tbody tr th:only-of-type {\n",
              "        vertical-align: middle;\n",
              "    }\n",
              "\n",
              "    .dataframe tbody tr th {\n",
              "        vertical-align: top;\n",
              "    }\n",
              "\n",
              "    .dataframe thead th {\n",
              "        text-align: right;\n",
              "    }\n",
              "</style>\n",
              "<table border=\"1\" class=\"dataframe\">\n",
              "  <thead>\n",
              "    <tr style=\"text-align: right;\">\n",
              "      <th></th>\n",
              "      <th>Dice (All Documents)</th>\n",
              "      <th>Dice (Top-5 Documents)</th>\n",
              "    </tr>\n",
              "  </thead>\n",
              "  <tbody>\n",
              "    <tr>\n",
              "      <th>0</th>\n",
              "      <td>doação</td>\n",
              "      <td>doação</td>\n",
              "    </tr>\n",
              "    <tr>\n",
              "      <th>1</th>\n",
              "      <td>seguirmos</td>\n",
              "      <td>seguirmos</td>\n",
              "    </tr>\n",
              "    <tr>\n",
              "      <th>2</th>\n",
              "      <td>combatendo</td>\n",
              "      <td>combatendo</td>\n",
              "    </tr>\n",
              "    <tr>\n",
              "      <th>3</th>\n",
              "      <td>fake</td>\n",
              "      <td>fake</td>\n",
              "    </tr>\n",
              "    <tr>\n",
              "      <th>4</th>\n",
              "      <td>loira</td>\n",
              "      <td>loira</td>\n",
              "    </tr>\n",
              "    <tr>\n",
              "      <th>5</th>\n",
              "      <td>diferença</td>\n",
              "      <td>diferença</td>\n",
              "    </tr>\n",
              "    <tr>\n",
              "      <th>6</th>\n",
              "      <td>sair</td>\n",
              "      <td>sair</td>\n",
              "    </tr>\n",
              "    <tr>\n",
              "      <th>7</th>\n",
              "      <td>independência</td>\n",
              "      <td>independência</td>\n",
              "    </tr>\n",
              "    <tr>\n",
              "      <th>8</th>\n",
              "      <td>obrigado</td>\n",
              "      <td>obrigado</td>\n",
              "    </tr>\n",
              "    <tr>\n",
              "      <th>9</th>\n",
              "      <td>faça</td>\n",
              "      <td>faça</td>\n",
              "    </tr>\n",
              "  </tbody>\n",
              "</table>\n",
              "</div>"
            ],
            "text/plain": [
              "  Dice (All Documents) Dice (Top-5 Documents)\n",
              "0               doação                 doação\n",
              "1            seguirmos              seguirmos\n",
              "2           combatendo             combatendo\n",
              "3                 fake                   fake\n",
              "4                loira                  loira\n",
              "5            diferença              diferença\n",
              "6                 sair                   sair\n",
              "7        independência          independência\n",
              "8             obrigado               obrigado\n",
              "9                 faça                   faça"
            ]
          },
          "metadata": {
            "tags": []
          },
          "execution_count": 163
        }
      ]
    },
    {
      "cell_type": "code",
      "metadata": {
        "id": "VAbyvaMsmaZn",
        "colab_type": "code",
        "colab": {}
      },
      "source": [
        "k = 10\n",
        "\n",
        "index_with_top_10_docs_query0 = index_with_ntop_docs(queries[0], k)\n",
        "index_with_top_10_docs_query1 = index_with_ntop_docs(queries[1], k)\n",
        "index_with_top_10_docs_query2 = index_with_ntop_docs(queries[2], k)\n",
        "index_with_top_10_docs_query3 = index_with_ntop_docs(queries[3], k)\n",
        "index_with_top_10_docs_query4 = index_with_ntop_docs(queries[4], k)\n",
        "\n",
        "table_top10_query0 = create_most_related_metrics_table(queries[0], index_with_top_10_docs_query0, k)\n",
        "table_top10_query1 = create_most_related_metrics_table(queries[1], index_with_top_10_docs_query1, k)\n",
        "table_top10_query2 = create_most_related_metrics_table(queries[2], index_with_top_10_docs_query2, k)\n",
        "table_top10_query3 = create_most_related_metrics_table(queries[3], index_with_top_10_docs_query3, k)\n",
        "table_top10_query4 = create_most_related_metrics_table(queries[4], index_with_top_10_docs_query4, k)"
      ],
      "execution_count": 0,
      "outputs": []
    },
    {
      "cell_type": "markdown",
      "metadata": {
        "id": "OTHhzQF9Ci8o",
        "colab_type": "text"
      },
      "source": [
        "### Comparação com Top-10 documentos para query \"presidente\""
      ]
    },
    {
      "cell_type": "code",
      "metadata": {
        "id": "-uZuXEt3r3bs",
        "colab_type": "code",
        "outputId": "e51a78de-bcd0-4ba3-eb36-99464376d714",
        "colab": {
          "base_uri": "https://localhost:8080/",
          "height": 359
        }
      },
      "source": [
        "comparation_table_top10_query0 = pd.DataFrame()\n",
        "comparation_table_top10_query0[\"Dice (All Documents)\"] = table_query0[\"Dice\"]\n",
        "comparation_table_top10_query0[\"Dice (Top-10 Documents)\"] = table_top10_query0[\"Dice\"]\n",
        "comparation_table_top10_query0"
      ],
      "execution_count": 0,
      "outputs": [
        {
          "output_type": "execute_result",
          "data": {
            "text/html": [
              "<div>\n",
              "<style scoped>\n",
              "    .dataframe tbody tr th:only-of-type {\n",
              "        vertical-align: middle;\n",
              "    }\n",
              "\n",
              "    .dataframe tbody tr th {\n",
              "        vertical-align: top;\n",
              "    }\n",
              "\n",
              "    .dataframe thead th {\n",
              "        text-align: right;\n",
              "    }\n",
              "</style>\n",
              "<table border=\"1\" class=\"dataframe\">\n",
              "  <thead>\n",
              "    <tr style=\"text-align: right;\">\n",
              "      <th></th>\n",
              "      <th>Dice (All Documents)</th>\n",
              "      <th>Dice (Top-10 Documents)</th>\n",
              "    </tr>\n",
              "  </thead>\n",
              "  <tbody>\n",
              "    <tr>\n",
              "      <th>0</th>\n",
              "      <td>jair</td>\n",
              "      <td>cni</td>\n",
              "    </tr>\n",
              "    <tr>\n",
              "      <th>1</th>\n",
              "      <td>ser</td>\n",
              "      <td>força</td>\n",
              "    </tr>\n",
              "    <tr>\n",
              "      <th>2</th>\n",
              "      <td>bolsonaro</td>\n",
              "      <td>estudantes</td>\n",
              "    </tr>\n",
              "    <tr>\n",
              "      <th>3</th>\n",
              "      <td>hoje</td>\n",
              "      <td>grandes</td>\n",
              "    </tr>\n",
              "    <tr>\n",
              "      <th>4</th>\n",
              "      <td>tudo</td>\n",
              "      <td>dois</td>\n",
              "    </tr>\n",
              "    <tr>\n",
              "      <th>5</th>\n",
              "      <td>marcando</td>\n",
              "      <td>sobre</td>\n",
              "    </tr>\n",
              "    <tr>\n",
              "      <th>6</th>\n",
              "      <td>jornalismo</td>\n",
              "      <td>grande</td>\n",
              "    </tr>\n",
              "    <tr>\n",
              "      <th>7</th>\n",
              "      <td>ponto</td>\n",
              "      <td>país</td>\n",
              "    </tr>\n",
              "    <tr>\n",
              "      <th>8</th>\n",
              "      <td>continuar</td>\n",
              "      <td>bolsonaro</td>\n",
              "    </tr>\n",
              "    <tr>\n",
              "      <th>9</th>\n",
              "      <td>sido</td>\n",
              "      <td>útil</td>\n",
              "    </tr>\n",
              "  </tbody>\n",
              "</table>\n",
              "</div>"
            ],
            "text/plain": [
              "  Dice (All Documents) Dice (Top-10 Documents)\n",
              "0                 jair                     cni\n",
              "1                  ser                   força\n",
              "2            bolsonaro              estudantes\n",
              "3                 hoje                 grandes\n",
              "4                 tudo                    dois\n",
              "5             marcando                   sobre\n",
              "6           jornalismo                  grande\n",
              "7                ponto                    país\n",
              "8            continuar               bolsonaro\n",
              "9                 sido                    útil"
            ]
          },
          "metadata": {
            "tags": []
          },
          "execution_count": 164
        }
      ]
    },
    {
      "cell_type": "markdown",
      "metadata": {
        "id": "fNlSdhdqCkwz",
        "colab_type": "text"
      },
      "source": [
        "### Comparação com Top-10 documentos para query \"bolsonaro\""
      ]
    },
    {
      "cell_type": "code",
      "metadata": {
        "id": "ULI0B5hlr0t7",
        "colab_type": "code",
        "outputId": "fff0cbe4-ac8e-47ea-dec8-7293fe0fd890",
        "colab": {
          "base_uri": "https://localhost:8080/",
          "height": 359
        }
      },
      "source": [
        "comparation_table_top10_query1 = pd.DataFrame()\n",
        "comparation_table_top10_query1[\"Dice (All Documents)\"] = table_query1[\"Dice\"]\n",
        "comparation_table_top10_query1[\"Dice (Top-10 Documents)\"] = table_top10_query1[\"Dice\"]\n",
        "comparation_table_top10_query1"
      ],
      "execution_count": 0,
      "outputs": [
        {
          "output_type": "execute_result",
          "data": {
            "text/html": [
              "<div>\n",
              "<style scoped>\n",
              "    .dataframe tbody tr th:only-of-type {\n",
              "        vertical-align: middle;\n",
              "    }\n",
              "\n",
              "    .dataframe tbody tr th {\n",
              "        vertical-align: top;\n",
              "    }\n",
              "\n",
              "    .dataframe thead th {\n",
              "        text-align: right;\n",
              "    }\n",
              "</style>\n",
              "<table border=\"1\" class=\"dataframe\">\n",
              "  <thead>\n",
              "    <tr style=\"text-align: right;\">\n",
              "      <th></th>\n",
              "      <th>Dice (All Documents)</th>\n",
              "      <th>Dice (Top-10 Documents)</th>\n",
              "    </tr>\n",
              "  </thead>\n",
              "  <tbody>\n",
              "    <tr>\n",
              "      <th>0</th>\n",
              "      <td>jair</td>\n",
              "      <td>projeto</td>\n",
              "    </tr>\n",
              "    <tr>\n",
              "      <th>1</th>\n",
              "      <td>presidente</td>\n",
              "      <td>porque</td>\n",
              "    </tr>\n",
              "    <tr>\n",
              "      <th>2</th>\n",
              "      <td>jornalismo</td>\n",
              "      <td>útil</td>\n",
              "    </tr>\n",
              "    <tr>\n",
              "      <th>3</th>\n",
              "      <td>marcando</td>\n",
              "      <td>úteis</td>\n",
              "    </tr>\n",
              "    <tr>\n",
              "      <th>4</th>\n",
              "      <td>dcm</td>\n",
              "      <td>únicos</td>\n",
              "    </tr>\n",
              "    <tr>\n",
              "      <th>5</th>\n",
              "      <td>precisa</td>\n",
              "      <td>único</td>\n",
              "    </tr>\n",
              "    <tr>\n",
              "      <th>6</th>\n",
              "      <td>continuar</td>\n",
              "      <td>únicas</td>\n",
              "    </tr>\n",
              "    <tr>\n",
              "      <th>7</th>\n",
              "      <td>ponto</td>\n",
              "      <td>única</td>\n",
              "    </tr>\n",
              "    <tr>\n",
              "      <th>8</th>\n",
              "      <td>vida</td>\n",
              "      <td>últimos</td>\n",
              "    </tr>\n",
              "    <tr>\n",
              "      <th>9</th>\n",
              "      <td>ser</td>\n",
              "      <td>último</td>\n",
              "    </tr>\n",
              "  </tbody>\n",
              "</table>\n",
              "</div>"
            ],
            "text/plain": [
              "  Dice (All Documents) Dice (Top-10 Documents)\n",
              "0                 jair                 projeto\n",
              "1           presidente                  porque\n",
              "2           jornalismo                    útil\n",
              "3             marcando                   úteis\n",
              "4                  dcm                  únicos\n",
              "5              precisa                   único\n",
              "6            continuar                  únicas\n",
              "7                ponto                   única\n",
              "8                 vida                 últimos\n",
              "9                  ser                  último"
            ]
          },
          "metadata": {
            "tags": []
          },
          "execution_count": 165
        }
      ]
    },
    {
      "cell_type": "markdown",
      "metadata": {
        "id": "Lm34p0CMCmF2",
        "colab_type": "text"
      },
      "source": [
        "### Comparação com Top-10 documentos para query \"país\""
      ]
    },
    {
      "cell_type": "code",
      "metadata": {
        "id": "iTdrcLearucc",
        "colab_type": "code",
        "outputId": "f05be832-0696-47e9-a532-470783fb66ef",
        "colab": {
          "base_uri": "https://localhost:8080/",
          "height": 359
        }
      },
      "source": [
        "comparation_table_top10_query2 = pd.DataFrame()\n",
        "comparation_table_top10_query2[\"Dice (All Documents)\"] = table_query2[\"Dice\"]\n",
        "comparation_table_top10_query2[\"Dice (Top-10 Documents)\"] = table_top10_query2[\"Dice\"]\n",
        "comparation_table_top10_query2"
      ],
      "execution_count": 0,
      "outputs": [
        {
          "output_type": "execute_result",
          "data": {
            "text/html": [
              "<div>\n",
              "<style scoped>\n",
              "    .dataframe tbody tr th:only-of-type {\n",
              "        vertical-align: middle;\n",
              "    }\n",
              "\n",
              "    .dataframe tbody tr th {\n",
              "        vertical-align: top;\n",
              "    }\n",
              "\n",
              "    .dataframe thead th {\n",
              "        text-align: right;\n",
              "    }\n",
              "</style>\n",
              "<table border=\"1\" class=\"dataframe\">\n",
              "  <thead>\n",
              "    <tr style=\"text-align: right;\">\n",
              "      <th></th>\n",
              "      <th>Dice (All Documents)</th>\n",
              "      <th>Dice (Top-10 Documents)</th>\n",
              "    </tr>\n",
              "  </thead>\n",
              "  <tbody>\n",
              "    <tr>\n",
              "      <th>0</th>\n",
              "      <td>ainda</td>\n",
              "      <td>presidente</td>\n",
              "    </tr>\n",
              "    <tr>\n",
              "      <th>1</th>\n",
              "      <td>todo</td>\n",
              "      <td>governo</td>\n",
              "    </tr>\n",
              "    <tr>\n",
              "      <th>2</th>\n",
              "      <td>grande</td>\n",
              "      <td>mentira</td>\n",
              "    </tr>\n",
              "    <tr>\n",
              "      <th>3</th>\n",
              "      <td>todos</td>\n",
              "      <td>medo</td>\n",
              "    </tr>\n",
              "    <tr>\n",
              "      <th>4</th>\n",
              "      <td>dia</td>\n",
              "      <td>cni</td>\n",
              "    </tr>\n",
              "    <tr>\n",
              "      <th>5</th>\n",
              "      <td>pode</td>\n",
              "      <td>acadêmicos</td>\n",
              "    </tr>\n",
              "    <tr>\n",
              "      <th>6</th>\n",
              "      <td>onde</td>\n",
              "      <td>nicolás</td>\n",
              "    </tr>\n",
              "    <tr>\n",
              "      <th>7</th>\n",
              "      <td>hoje</td>\n",
              "      <td>aprovação</td>\n",
              "    </tr>\n",
              "    <tr>\n",
              "      <th>8</th>\n",
              "      <td>segundo</td>\n",
              "      <td>serem</td>\n",
              "    </tr>\n",
              "    <tr>\n",
              "      <th>9</th>\n",
              "      <td>tudo</td>\n",
              "      <td>sentido</td>\n",
              "    </tr>\n",
              "  </tbody>\n",
              "</table>\n",
              "</div>"
            ],
            "text/plain": [
              "  Dice (All Documents) Dice (Top-10 Documents)\n",
              "0                ainda              presidente\n",
              "1                 todo                 governo\n",
              "2               grande                 mentira\n",
              "3                todos                    medo\n",
              "4                  dia                     cni\n",
              "5                 pode              acadêmicos\n",
              "6                 onde                 nicolás\n",
              "7                 hoje               aprovação\n",
              "8              segundo                   serem\n",
              "9                 tudo                 sentido"
            ]
          },
          "metadata": {
            "tags": []
          },
          "execution_count": 166
        }
      ]
    },
    {
      "cell_type": "markdown",
      "metadata": {
        "id": "u9N_0y1XCnwu",
        "colab_type": "text"
      },
      "source": [
        "### Comparação com Top-10 documentos para query \"futebol\""
      ]
    },
    {
      "cell_type": "code",
      "metadata": {
        "id": "qlvr4w-errrT",
        "colab_type": "code",
        "outputId": "236653ee-fdac-44fb-d9e7-c5065c06e51b",
        "colab": {
          "base_uri": "https://localhost:8080/",
          "height": 359
        }
      },
      "source": [
        "comparation_table_top10_query3 = pd.DataFrame()\n",
        "comparation_table_top10_query3[\"Dice (All Documents)\"] = table_query3[\"Dice\"]\n",
        "comparation_table_top10_query3[\"Dice (Top-10 Documents)\"] = table_top10_query3[\"Dice\"]\n",
        "comparation_table_top10_query3"
      ],
      "execution_count": 0,
      "outputs": [
        {
          "output_type": "execute_result",
          "data": {
            "text/html": [
              "<div>\n",
              "<style scoped>\n",
              "    .dataframe tbody tr th:only-of-type {\n",
              "        vertical-align: middle;\n",
              "    }\n",
              "\n",
              "    .dataframe tbody tr th {\n",
              "        vertical-align: top;\n",
              "    }\n",
              "\n",
              "    .dataframe thead th {\n",
              "        text-align: right;\n",
              "    }\n",
              "</style>\n",
              "<table border=\"1\" class=\"dataframe\">\n",
              "  <thead>\n",
              "    <tr style=\"text-align: right;\">\n",
              "      <th></th>\n",
              "      <th>Dice (All Documents)</th>\n",
              "      <th>Dice (Top-10 Documents)</th>\n",
              "    </tr>\n",
              "  </thead>\n",
              "  <tbody>\n",
              "    <tr>\n",
              "      <th>0</th>\n",
              "      <td>saídas</td>\n",
              "      <td>jair</td>\n",
              "    </tr>\n",
              "    <tr>\n",
              "      <th>1</th>\n",
              "      <td>coronel</td>\n",
              "      <td>outros</td>\n",
              "    </tr>\n",
              "    <tr>\n",
              "      <th>2</th>\n",
              "      <td>categorias</td>\n",
              "      <td>sendo</td>\n",
              "    </tr>\n",
              "    <tr>\n",
              "      <th>3</th>\n",
              "      <td>atender</td>\n",
              "      <td>saídas</td>\n",
              "    </tr>\n",
              "    <tr>\n",
              "      <th>4</th>\n",
              "      <td>italiano</td>\n",
              "      <td>salvador</td>\n",
              "    </tr>\n",
              "    <tr>\n",
              "      <th>5</th>\n",
              "      <td>flamengo</td>\n",
              "      <td>saber</td>\n",
              "    </tr>\n",
              "    <tr>\n",
              "      <th>6</th>\n",
              "      <td>ángel</td>\n",
              "      <td>respeito</td>\n",
              "    </tr>\n",
              "    <tr>\n",
              "      <th>7</th>\n",
              "      <td>zusammen</td>\n",
              "      <td>quais</td>\n",
              "    </tr>\n",
              "    <tr>\n",
              "      <th>8</th>\n",
              "      <td>yorko</td>\n",
              "      <td>prêmio</td>\n",
              "    </tr>\n",
              "    <tr>\n",
              "      <th>9</th>\n",
              "      <td>xingando</td>\n",
              "      <td>núcleo</td>\n",
              "    </tr>\n",
              "  </tbody>\n",
              "</table>\n",
              "</div>"
            ],
            "text/plain": [
              "  Dice (All Documents) Dice (Top-10 Documents)\n",
              "0               saídas                    jair\n",
              "1              coronel                  outros\n",
              "2           categorias                   sendo\n",
              "3              atender                  saídas\n",
              "4             italiano                salvador\n",
              "5             flamengo                   saber\n",
              "6                ángel                respeito\n",
              "7             zusammen                   quais\n",
              "8                yorko                  prêmio\n",
              "9             xingando                  núcleo"
            ]
          },
          "metadata": {
            "tags": []
          },
          "execution_count": 167
        }
      ]
    },
    {
      "cell_type": "markdown",
      "metadata": {
        "id": "WmPbeeBICpHo",
        "colab_type": "text"
      },
      "source": [
        "### Comparação com Top-10 documentos para query \"site\""
      ]
    },
    {
      "cell_type": "code",
      "metadata": {
        "id": "Etl1c3KmreUW",
        "colab_type": "code",
        "outputId": "da4c8984-1638-460b-d3ed-bfabdc70f7a8",
        "colab": {
          "base_uri": "https://localhost:8080/",
          "height": 359
        }
      },
      "source": [
        "comparation_table_top10_query4 = pd.DataFrame()\n",
        "comparation_table_top10_query4[\"Dice (All Documents)\"] = table_query4[\"Dice\"]\n",
        "comparation_table_top10_query4[\"Dice (Top-10 Documents)\"] = table_top10_query4[\"Dice\"]\n",
        "comparation_table_top10_query4"
      ],
      "execution_count": 0,
      "outputs": [
        {
          "output_type": "execute_result",
          "data": {
            "text/html": [
              "<div>\n",
              "<style scoped>\n",
              "    .dataframe tbody tr th:only-of-type {\n",
              "        vertical-align: middle;\n",
              "    }\n",
              "\n",
              "    .dataframe tbody tr th {\n",
              "        vertical-align: top;\n",
              "    }\n",
              "\n",
              "    .dataframe thead th {\n",
              "        text-align: right;\n",
              "    }\n",
              "</style>\n",
              "<table border=\"1\" class=\"dataframe\">\n",
              "  <thead>\n",
              "    <tr style=\"text-align: right;\">\n",
              "      <th></th>\n",
              "      <th>Dice (All Documents)</th>\n",
              "      <th>Dice (Top-10 Documents)</th>\n",
              "    </tr>\n",
              "  </thead>\n",
              "  <tbody>\n",
              "    <tr>\n",
              "      <th>0</th>\n",
              "      <td>doação</td>\n",
              "      <td>vida</td>\n",
              "    </tr>\n",
              "    <tr>\n",
              "      <th>1</th>\n",
              "      <td>seguirmos</td>\n",
              "      <td>outras</td>\n",
              "    </tr>\n",
              "    <tr>\n",
              "      <th>2</th>\n",
              "      <td>combatendo</td>\n",
              "      <td>primeiro</td>\n",
              "    </tr>\n",
              "    <tr>\n",
              "      <th>3</th>\n",
              "      <td>fake</td>\n",
              "      <td>fake</td>\n",
              "    </tr>\n",
              "    <tr>\n",
              "      <th>4</th>\n",
              "      <td>loira</td>\n",
              "      <td>coisa</td>\n",
              "    </tr>\n",
              "    <tr>\n",
              "      <th>5</th>\n",
              "      <td>diferença</td>\n",
              "      <td>sei</td>\n",
              "    </tr>\n",
              "    <tr>\n",
              "      <th>6</th>\n",
              "      <td>sair</td>\n",
              "      <td>psl</td>\n",
              "    </tr>\n",
              "    <tr>\n",
              "      <th>7</th>\n",
              "      <td>independência</td>\n",
              "      <td>policial</td>\n",
              "    </tr>\n",
              "    <tr>\n",
              "      <th>8</th>\n",
              "      <td>obrigado</td>\n",
              "      <td>moto</td>\n",
              "    </tr>\n",
              "    <tr>\n",
              "      <th>9</th>\n",
              "      <td>faça</td>\n",
              "      <td>coleta</td>\n",
              "    </tr>\n",
              "  </tbody>\n",
              "</table>\n",
              "</div>"
            ],
            "text/plain": [
              "  Dice (All Documents) Dice (Top-10 Documents)\n",
              "0               doação                    vida\n",
              "1            seguirmos                  outras\n",
              "2           combatendo                primeiro\n",
              "3                 fake                    fake\n",
              "4                loira                   coisa\n",
              "5            diferença                     sei\n",
              "6                 sair                     psl\n",
              "7        independência                policial\n",
              "8             obrigado                    moto\n",
              "9                 faça                  coleta"
            ]
          },
          "metadata": {
            "tags": []
          },
          "execution_count": 168
        }
      ]
    },
    {
      "cell_type": "markdown",
      "metadata": {
        "id": "Hazg0xi7AJP9",
        "colab_type": "text"
      },
      "source": [
        "Para as consultas expandidas apenas com os top-3 documentos considero que a qualidade diminui, visto que temos muitas palavras similares entre si, mas que não possuem relação com a query em questão.\n",
        "\n",
        "Já para os top-5 documentos os resultados são excelentes, pois eles são exatamente os mesmos dos resultados obtidos com todos os documentos da coleção. Resultado bastante inesperado, visto que o desempenho com os top-3 elementos deixou a desejar.\n",
        "\n",
        "Para os top-10 documentos, ao contrário do senso comum ao observar o top-5 (imaginar que melhoraria ou se manteria igual), a qualidade dos resultados diminuiu. Para a query \"bolsonaro\", o desempenho da métrica Dice foi bastante similar aos resultados obtidos com os top-3 documentos, os quais não foram bons."
      ]
    }
  ]
}