{
  "nbformat": 4,
  "nbformat_minor": 0,
  "metadata": {
    "colab": {
      "name": "Modelo Vetorial - ri-lab-06.ipynb",
      "version": "0.3.2",
      "provenance": [],
      "collapsed_sections": [],
      "include_colab_link": true
    },
    "kernelspec": {
      "name": "python3",
      "display_name": "Python 3"
    }
  },
  "cells": [
    {
      "cell_type": "markdown",
      "metadata": {
        "id": "view-in-github",
        "colab_type": "text"
      },
      "source": [
        "<a href=\"https://colab.research.google.com/github/velmer/retrieval-information/blob/master/lab-06/Modelo_Vetorial_ri_lab_06.ipynb\" target=\"_parent\"><img src=\"https://colab.research.google.com/assets/colab-badge.svg\" alt=\"Open In Colab\"/></a>"
      ]
    },
    {
      "cell_type": "code",
      "metadata": {
        "id": "uIFQ4E8UFbnH",
        "colab_type": "code",
        "outputId": "93b782f3-8fd1-4732-cc08-c0d4b28763c9",
        "colab": {
          "base_uri": "https://localhost:8080/",
          "height": 68
        }
      },
      "source": [
        "import pandas as pd\n",
        "import numpy as np\n",
        "import nltk\n",
        "import re\n",
        "import collections\n",
        "import bisect\n",
        "from nltk.tokenize import RegexpTokenizer\n",
        "\n",
        "nltk.download('stopwords')"
      ],
      "execution_count": 47,
      "outputs": [
        {
          "output_type": "stream",
          "text": [
            "[nltk_data] Downloading package stopwords to /root/nltk_data...\n",
            "[nltk_data]   Package stopwords is already up-to-date!\n"
          ],
          "name": "stdout"
        },
        {
          "output_type": "execute_result",
          "data": {
            "text/plain": [
              "True"
            ]
          },
          "metadata": {
            "tags": []
          },
          "execution_count": 47
        }
      ]
    },
    {
      "cell_type": "markdown",
      "metadata": {
        "id": "8GzCA4-nM9JD",
        "colab_type": "text"
      },
      "source": [
        "# Carregando dados"
      ]
    },
    {
      "cell_type": "code",
      "metadata": {
        "id": "QZ1Fj6KeM8UQ",
        "colab_type": "code",
        "outputId": "d6bea850-5971-41b8-d137-24c5c158fc2d",
        "colab": {
          "base_uri": "https://localhost:8080/",
          "height": 529
        }
      },
      "source": [
        "data = pd.read_csv('https://raw.githubusercontent.com/velmer/retrieval-information/master/lab-06/results.csv')\n",
        "data.head(10)"
      ],
      "execution_count": 48,
      "outputs": [
        {
          "output_type": "execute_result",
          "data": {
            "text/html": [
              "<div>\n",
              "<style scoped>\n",
              "    .dataframe tbody tr th:only-of-type {\n",
              "        vertical-align: middle;\n",
              "    }\n",
              "\n",
              "    .dataframe tbody tr th {\n",
              "        vertical-align: top;\n",
              "    }\n",
              "\n",
              "    .dataframe thead th {\n",
              "        text-align: right;\n",
              "    }\n",
              "</style>\n",
              "<table border=\"1\" class=\"dataframe\">\n",
              "  <thead>\n",
              "    <tr style=\"text-align: right;\">\n",
              "      <th></th>\n",
              "      <th>title</th>\n",
              "      <th>subtitle</th>\n",
              "      <th>author</th>\n",
              "      <th>date</th>\n",
              "      <th>section</th>\n",
              "      <th>text</th>\n",
              "      <th>url</th>\n",
              "    </tr>\n",
              "  </thead>\n",
              "  <tbody>\n",
              "    <tr>\n",
              "      <th>0</th>\n",
              "      <td>“A sociedade foi Rubens Paiva  não os facínora...</td>\n",
              "      <td>A decisão da juíza que proíbe as Forças Armada...</td>\n",
              "      <td>F. M.</td>\n",
              "      <td>30/03/2019 00:11:08</td>\n",
              "      <td>Brasil</td>\n",
              "      <td>A juíza federal Ivani Silva da Luz  de Brasíli...</td>\n",
              "      <td>https://brasil.elpais.com/brasil/2019/03/26/po...</td>\n",
              "    </tr>\n",
              "    <tr>\n",
              "      <th>1</th>\n",
              "      <td>Justiça suspende decisão que proibia Forças Ar...</td>\n",
              "      <td>Liminar havia sido concedida na sexta-feira a ...</td>\n",
              "      <td>Marina Rossi</td>\n",
              "      <td>30/03/2019 16:17:59</td>\n",
              "      <td>Brasil</td>\n",
              "      <td>Menos de 24 horas depois de a juíza federal Iv...</td>\n",
              "      <td>https://brasil.elpais.com/brasil/2019/03/30/po...</td>\n",
              "    </tr>\n",
              "    <tr>\n",
              "      <th>2</th>\n",
              "      <td>Governo Bolsonaro prega “negacionismo históric...</td>\n",
              "      <td>Marcos Napolitano  professor da USP  diz que o...</td>\n",
              "      <td>Regiane Oliveira</td>\n",
              "      <td>04/04/2019 22:37:48</td>\n",
              "      <td>Brasil</td>\n",
              "      <td>Quando  determinou que  de 31 de março 1964  u...</td>\n",
              "      <td>https://brasil.elpais.com/brasil/2019/04/05/po...</td>\n",
              "    </tr>\n",
              "    <tr>\n",
              "      <th>3</th>\n",
              "      <td>Quando os pais de Gabo perceberam que tinham u...</td>\n",
              "      <td>Gustavo Tatis percorre o universo de García Má...</td>\n",
              "      <td>Jesús Ruiz Mantilla</td>\n",
              "      <td>07/03/2019 16:38:56</td>\n",
              "      <td>Cultura</td>\n",
              "      <td>Quando  era pequeno   Luisa e  Gabriel se preo...</td>\n",
              "      <td>https://brasil.elpais.com/brasil/2019/03/06/cu...</td>\n",
              "    </tr>\n",
              "    <tr>\n",
              "      <th>4</th>\n",
              "      <td>Rádios canadenses banem músicas de Michael Jac...</td>\n",
              "      <td>Quebec Cogeco Media toma a decisão após queixa...</td>\n",
              "      <td>Jaime Porras Ferreyra</td>\n",
              "      <td>07/03/2019 16:12:37</td>\n",
              "      <td>Cultura</td>\n",
              "      <td>Desde a manhã da última segunda-feira     e   ...</td>\n",
              "      <td>https://brasil.elpais.com/brasil/2019/03/06/cu...</td>\n",
              "    </tr>\n",
              "    <tr>\n",
              "      <th>5</th>\n",
              "      <td>Rosângela  uma das crianças sequestradas por f...</td>\n",
              "      <td>“Roubaram minha identidade”  diz Rosângela Par...</td>\n",
              "      <td>Joana Oliveira</td>\n",
              "      <td>30/03/2019 22:21:08</td>\n",
              "      <td>Brasil</td>\n",
              "      <td>Rosângela Serra Paraná não sabe quantos anos t...</td>\n",
              "      <td>https://brasil.elpais.com/brasil/2019/03/29/po...</td>\n",
              "    </tr>\n",
              "    <tr>\n",
              "      <th>6</th>\n",
              "      <td>“Lógica de usar torturadores da ditadura no cr...</td>\n",
              "      <td>Aloy Jupiara  coautor de 'Os porões da contrav...</td>\n",
              "      <td>Felipe Betim</td>\n",
              "      <td>01/04/2019 13:22:17</td>\n",
              "      <td>Brasil</td>\n",
              "      <td>Trajetória similar tiveram outros vários agent...</td>\n",
              "      <td>https://brasil.elpais.com/brasil/2019/03/29/po...</td>\n",
              "    </tr>\n",
              "    <tr>\n",
              "      <th>7</th>\n",
              "      <td>Bolsonaro troca embaixada por escritório em Je...</td>\n",
              "      <td>Autoridade Palestina convoca embaixador no Bra...</td>\n",
              "      <td>Juan Carlos Sanz</td>\n",
              "      <td>01/04/2019 12:26:32</td>\n",
              "      <td>Brasil</td>\n",
              "      <td>A devoção dos cristãos evangélicos em seu apoi...</td>\n",
              "      <td>https://brasil.elpais.com/brasil/2019/03/31/po...</td>\n",
              "    </tr>\n",
              "    <tr>\n",
              "      <th>8</th>\n",
              "      <td>O lado mais sombrio de Dickens</td>\n",
              "      <td>Escritor e jornalista tentou internar sua mulh...</td>\n",
              "      <td>Rafa de Miguel</td>\n",
              "      <td>10/03/2019 14:29:37</td>\n",
              "      <td>Cultura</td>\n",
              "      <td>O homem mais famoso da era vitoriana  o “poeta...</td>\n",
              "      <td>https://brasil.elpais.com/brasil/2019/03/01/cu...</td>\n",
              "    </tr>\n",
              "    <tr>\n",
              "      <th>9</th>\n",
              "      <td>O amor entre mulheres que sacudiu o Paraguai</td>\n",
              "      <td>O drama ganhou três prêmios em Berlim e provoc...</td>\n",
              "      <td>Gregorio Belinchón</td>\n",
              "      <td>09/03/2019 12:10:23</td>\n",
              "      <td>Cultura</td>\n",
              "      <td>Depois de   inclusive o da crítica internacion...</td>\n",
              "      <td>https://brasil.elpais.com/brasil/2019/03/07/cu...</td>\n",
              "    </tr>\n",
              "  </tbody>\n",
              "</table>\n",
              "</div>"
            ],
            "text/plain": [
              "                                               title  ...                                                url\n",
              "0  “A sociedade foi Rubens Paiva  não os facínora...  ...  https://brasil.elpais.com/brasil/2019/03/26/po...\n",
              "1  Justiça suspende decisão que proibia Forças Ar...  ...  https://brasil.elpais.com/brasil/2019/03/30/po...\n",
              "2  Governo Bolsonaro prega “negacionismo históric...  ...  https://brasil.elpais.com/brasil/2019/04/05/po...\n",
              "3  Quando os pais de Gabo perceberam que tinham u...  ...  https://brasil.elpais.com/brasil/2019/03/06/cu...\n",
              "4  Rádios canadenses banem músicas de Michael Jac...  ...  https://brasil.elpais.com/brasil/2019/03/06/cu...\n",
              "5  Rosângela  uma das crianças sequestradas por f...  ...  https://brasil.elpais.com/brasil/2019/03/29/po...\n",
              "6  “Lógica de usar torturadores da ditadura no cr...  ...  https://brasil.elpais.com/brasil/2019/03/29/po...\n",
              "7  Bolsonaro troca embaixada por escritório em Je...  ...  https://brasil.elpais.com/brasil/2019/03/31/po...\n",
              "8                     O lado mais sombrio de Dickens  ...  https://brasil.elpais.com/brasil/2019/03/01/cu...\n",
              "9       O amor entre mulheres que sacudiu o Paraguai  ...  https://brasil.elpais.com/brasil/2019/03/07/cu...\n",
              "\n",
              "[10 rows x 7 columns]"
            ]
          },
          "metadata": {
            "tags": []
          },
          "execution_count": 48
        }
      ]
    },
    {
      "cell_type": "markdown",
      "metadata": {
        "id": "Y0pBAh9tNHq0",
        "colab_type": "text"
      },
      "source": [
        "# 1. Reconstruindo Índice Invertido"
      ]
    },
    {
      "cell_type": "code",
      "metadata": {
        "id": "F9R6V74DNKpz",
        "colab_type": "code",
        "colab": {}
      },
      "source": [
        "tknz = RegexpTokenizer(r'([A-Za-zÁáÉéÍíÓóÚúÃãÕõÇçÂâÊê\\-]{3,27})')\n",
        "stopwords = nltk.corpus.stopwords.words('portuguese')\n",
        "tokenData = pd.DataFrame(data['text'], columns=['text'])\n",
        "tokenData['tokenized_text'] = data.apply(lambda row: tknz.tokenize(row['text'].lower()), axis=1)"
      ],
      "execution_count": 0,
      "outputs": []
    },
    {
      "cell_type": "code",
      "metadata": {
        "id": "tXOmvTuvNMtR",
        "colab_type": "code",
        "colab": {}
      },
      "source": [
        "def is_tokenized_word(word):\n",
        "  \"\"\"\n",
        "    Returns if the specified word matches all requirements\n",
        "    to be a valid token.\n",
        "  \"\"\"\n",
        "  return len(word) > 1 and any(c.isalnum() for c in word)\n",
        "\n",
        "def build_index():\n",
        "  index = {}\n",
        "  num_document = 0\n",
        "\n",
        "  for text in tokenData.tokenized_text:\n",
        "    num_document += 1\n",
        "    words_set = set(text)\n",
        "    for word in words_set:\n",
        "      if is_tokenized_word(word) and word.lower() not in stopwords:\n",
        "        if word not in index.keys():\n",
        "          index[word] = { 'ranking': [] }\n",
        "        index[word]['ranking'].append((num_document, text.count(word)))\n",
        "\n",
        "  return index"
      ],
      "execution_count": 0,
      "outputs": []
    },
    {
      "cell_type": "code",
      "metadata": {
        "id": "xE7E0YG6NP7V",
        "colab_type": "code",
        "outputId": "a7a4dd75-c466-4048-8eca-47e26e98e4bb",
        "colab": {
          "base_uri": "https://localhost:8080/",
          "height": 359
        }
      },
      "source": [
        "index = build_index()\n",
        "indexed_data = pd.DataFrame()\n",
        "indexed_data['Word'] = [word for word in index.keys()]\n",
        "indexed_data['Documents (With Count)'] = [word['ranking'] for word in index.values()]\n",
        "indexed_data.head(10)"
      ],
      "execution_count": 51,
      "outputs": [
        {
          "output_type": "execute_result",
          "data": {
            "text/html": [
              "<div>\n",
              "<style scoped>\n",
              "    .dataframe tbody tr th:only-of-type {\n",
              "        vertical-align: middle;\n",
              "    }\n",
              "\n",
              "    .dataframe tbody tr th {\n",
              "        vertical-align: top;\n",
              "    }\n",
              "\n",
              "    .dataframe thead th {\n",
              "        text-align: right;\n",
              "    }\n",
              "</style>\n",
              "<table border=\"1\" class=\"dataframe\">\n",
              "  <thead>\n",
              "    <tr style=\"text-align: right;\">\n",
              "      <th></th>\n",
              "      <th>Word</th>\n",
              "      <th>Documents (With Count)</th>\n",
              "    </tr>\n",
              "  </thead>\n",
              "  <tbody>\n",
              "    <tr>\n",
              "      <th>0</th>\n",
              "      <td>ruptura</td>\n",
              "      <td>[(1, 1), (9, 1), (25, 1), (65, 1), (83, 1), (1...</td>\n",
              "    </tr>\n",
              "    <tr>\n",
              "      <th>1</th>\n",
              "      <td>prevalência</td>\n",
              "      <td>[(1, 2), (123, 1)]</td>\n",
              "    </tr>\n",
              "    <tr>\n",
              "      <th>2</th>\n",
              "      <td>preferem</td>\n",
              "      <td>[(1, 1), (63, 1), (65, 1), (125, 1), (172, 1),...</td>\n",
              "    </tr>\n",
              "    <tr>\n",
              "      <th>3</th>\n",
              "      <td>vítimas</td>\n",
              "      <td>[(1, 1), (3, 1), (5, 1), (6, 1), (29, 3), (40,...</td>\n",
              "    </tr>\n",
              "    <tr>\n",
              "      <th>4</th>\n",
              "      <td>ordem</td>\n",
              "      <td>[(1, 3), (2, 1), (14, 1), (25, 5), (63, 1), (6...</td>\n",
              "    </tr>\n",
              "    <tr>\n",
              "      <th>5</th>\n",
              "      <td>história</td>\n",
              "      <td>[(1, 1), (3, 13), (5, 1), (6, 4), (8, 1), (9, ...</td>\n",
              "    </tr>\n",
              "    <tr>\n",
              "      <th>6</th>\n",
              "      <td>atos</td>\n",
              "      <td>[(1, 1), (9, 1), (29, 1), (31, 1), (88, 1), (9...</td>\n",
              "    </tr>\n",
              "    <tr>\n",
              "      <th>7</th>\n",
              "      <td>ultradireita</td>\n",
              "      <td>[(1, 1), (2, 1), (175, 2), (204, 1)]</td>\n",
              "    </tr>\n",
              "    <tr>\n",
              "      <th>8</th>\n",
              "      <td>pontua</td>\n",
              "      <td>[(1, 1), (101, 1)]</td>\n",
              "    </tr>\n",
              "    <tr>\n",
              "      <th>9</th>\n",
              "      <td>emedebista</td>\n",
              "      <td>[(1, 1), (206, 1)]</td>\n",
              "    </tr>\n",
              "  </tbody>\n",
              "</table>\n",
              "</div>"
            ],
            "text/plain": [
              "           Word                             Documents (With Count)\n",
              "0       ruptura  [(1, 1), (9, 1), (25, 1), (65, 1), (83, 1), (1...\n",
              "1   prevalência                                 [(1, 2), (123, 1)]\n",
              "2      preferem  [(1, 1), (63, 1), (65, 1), (125, 1), (172, 1),...\n",
              "3       vítimas  [(1, 1), (3, 1), (5, 1), (6, 1), (29, 3), (40,...\n",
              "4         ordem  [(1, 3), (2, 1), (14, 1), (25, 5), (63, 1), (6...\n",
              "5      história  [(1, 1), (3, 13), (5, 1), (6, 4), (8, 1), (9, ...\n",
              "6          atos  [(1, 1), (9, 1), (29, 1), (31, 1), (88, 1), (9...\n",
              "7  ultradireita               [(1, 1), (2, 1), (175, 2), (204, 1)]\n",
              "8        pontua                                 [(1, 1), (101, 1)]\n",
              "9    emedebista                                 [(1, 1), (206, 1)]"
            ]
          },
          "metadata": {
            "tags": []
          },
          "execution_count": 51
        }
      ]
    },
    {
      "cell_type": "code",
      "metadata": {
        "id": "z41fd1ecUmxP",
        "colab_type": "code",
        "colab": {}
      },
      "source": [
        ""
      ],
      "execution_count": 0,
      "outputs": []
    },
    {
      "cell_type": "markdown",
      "metadata": {
        "id": "Br5VZOHaNzj9",
        "colab_type": "text"
      },
      "source": [
        "# 2. Refinar o índice invertido de forma a também incluir o IDF (inverse document frequency) de cada termo do dicionário"
      ]
    },
    {
      "cell_type": "code",
      "metadata": {
        "id": "j3VoRj-WOBL5",
        "colab_type": "code",
        "colab": {}
      },
      "source": [
        "M = data.text.count()\n",
        "def add_idf_to_index():\n",
        "  for word in index:\n",
        "    k = len(index[word]['ranking'])\n",
        "    IDF = round(np.log((M+1)/k),2)\n",
        "    index[word]['IDF'] = IDF"
      ],
      "execution_count": 0,
      "outputs": []
    },
    {
      "cell_type": "code",
      "metadata": {
        "id": "QDh3BQJpPmwG",
        "colab_type": "code",
        "colab": {}
      },
      "source": [
        "add_idf_to_index()"
      ],
      "execution_count": 0,
      "outputs": []
    },
    {
      "cell_type": "code",
      "metadata": {
        "id": "itSyq4vPPqmD",
        "colab_type": "code",
        "outputId": "a65fb2d6-9332-4643-c1ab-78b7f8ab0c1f",
        "colab": {
          "base_uri": "https://localhost:8080/",
          "height": 359
        }
      },
      "source": [
        "indexed_data['IDF'] = [word['IDF'] for word in index.values()]\n",
        "indexed_data.head(10)"
      ],
      "execution_count": 54,
      "outputs": [
        {
          "output_type": "execute_result",
          "data": {
            "text/html": [
              "<div>\n",
              "<style scoped>\n",
              "    .dataframe tbody tr th:only-of-type {\n",
              "        vertical-align: middle;\n",
              "    }\n",
              "\n",
              "    .dataframe tbody tr th {\n",
              "        vertical-align: top;\n",
              "    }\n",
              "\n",
              "    .dataframe thead th {\n",
              "        text-align: right;\n",
              "    }\n",
              "</style>\n",
              "<table border=\"1\" class=\"dataframe\">\n",
              "  <thead>\n",
              "    <tr style=\"text-align: right;\">\n",
              "      <th></th>\n",
              "      <th>Word</th>\n",
              "      <th>Documents (With Count)</th>\n",
              "      <th>IDF</th>\n",
              "    </tr>\n",
              "  </thead>\n",
              "  <tbody>\n",
              "    <tr>\n",
              "      <th>0</th>\n",
              "      <td>ruptura</td>\n",
              "      <td>[(1, 1), (9, 1), (25, 1), (65, 1), (83, 1), (1...</td>\n",
              "      <td>3.44</td>\n",
              "    </tr>\n",
              "    <tr>\n",
              "      <th>1</th>\n",
              "      <td>prevalência</td>\n",
              "      <td>[(1, 2), (123, 1)]</td>\n",
              "      <td>4.83</td>\n",
              "    </tr>\n",
              "    <tr>\n",
              "      <th>2</th>\n",
              "      <td>preferem</td>\n",
              "      <td>[(1, 1), (63, 1), (65, 1), (125, 1), (172, 1),...</td>\n",
              "      <td>3.44</td>\n",
              "    </tr>\n",
              "    <tr>\n",
              "      <th>3</th>\n",
              "      <td>vítimas</td>\n",
              "      <td>[(1, 1), (3, 1), (5, 1), (6, 1), (29, 3), (40,...</td>\n",
              "      <td>2.02</td>\n",
              "    </tr>\n",
              "    <tr>\n",
              "      <th>4</th>\n",
              "      <td>ordem</td>\n",
              "      <td>[(1, 3), (2, 1), (14, 1), (25, 5), (63, 1), (6...</td>\n",
              "      <td>2.34</td>\n",
              "    </tr>\n",
              "    <tr>\n",
              "      <th>5</th>\n",
              "      <td>história</td>\n",
              "      <td>[(1, 1), (3, 13), (5, 1), (6, 4), (8, 1), (9, ...</td>\n",
              "      <td>1.07</td>\n",
              "    </tr>\n",
              "    <tr>\n",
              "      <th>6</th>\n",
              "      <td>atos</td>\n",
              "      <td>[(1, 1), (9, 1), (29, 1), (31, 1), (88, 1), (9...</td>\n",
              "      <td>2.75</td>\n",
              "    </tr>\n",
              "    <tr>\n",
              "      <th>7</th>\n",
              "      <td>ultradireita</td>\n",
              "      <td>[(1, 1), (2, 1), (175, 2), (204, 1)]</td>\n",
              "      <td>4.14</td>\n",
              "    </tr>\n",
              "    <tr>\n",
              "      <th>8</th>\n",
              "      <td>pontua</td>\n",
              "      <td>[(1, 1), (101, 1)]</td>\n",
              "      <td>4.83</td>\n",
              "    </tr>\n",
              "    <tr>\n",
              "      <th>9</th>\n",
              "      <td>emedebista</td>\n",
              "      <td>[(1, 1), (206, 1)]</td>\n",
              "      <td>4.83</td>\n",
              "    </tr>\n",
              "  </tbody>\n",
              "</table>\n",
              "</div>"
            ],
            "text/plain": [
              "           Word                             Documents (With Count)   IDF\n",
              "0       ruptura  [(1, 1), (9, 1), (25, 1), (65, 1), (83, 1), (1...  3.44\n",
              "1   prevalência                                 [(1, 2), (123, 1)]  4.83\n",
              "2      preferem  [(1, 1), (63, 1), (65, 1), (125, 1), (172, 1),...  3.44\n",
              "3       vítimas  [(1, 1), (3, 1), (5, 1), (6, 1), (29, 3), (40,...  2.02\n",
              "4         ordem  [(1, 3), (2, 1), (14, 1), (25, 5), (63, 1), (6...  2.34\n",
              "5      história  [(1, 1), (3, 13), (5, 1), (6, 4), (8, 1), (9, ...  1.07\n",
              "6          atos  [(1, 1), (9, 1), (29, 1), (31, 1), (88, 1), (9...  2.75\n",
              "7  ultradireita               [(1, 1), (2, 1), (175, 2), (204, 1)]  4.14\n",
              "8        pontua                                 [(1, 1), (101, 1)]  4.83\n",
              "9    emedebista                                 [(1, 1), (206, 1)]  4.83"
            ]
          },
          "metadata": {
            "tags": []
          },
          "execution_count": 54
        }
      ]
    },
    {
      "cell_type": "markdown",
      "metadata": {
        "id": "lFFuxjn1ZkMc",
        "colab_type": "text"
      },
      "source": [
        "# 3. Implementar as seguintes versões do modelo vetorial:"
      ]
    },
    {
      "cell_type": "markdown",
      "metadata": {
        "id": "PTO21avSZnNy",
        "colab_type": "text"
      },
      "source": [
        "### 3.1. Representação binária"
      ]
    },
    {
      "cell_type": "code",
      "metadata": {
        "id": "p6gWS2BSZ6GE",
        "colab_type": "code",
        "colab": {}
      },
      "source": [
        "def binary_vsm(query, document):\n",
        "  score = 0\n",
        "  query_tokens = query.split()\n",
        "  document_tokens = document.split()\n",
        "  \n",
        "  for token in query_tokens:\n",
        "    score += (token in document_tokens)\n",
        "    \n",
        "  return score"
      ],
      "execution_count": 0,
      "outputs": []
    },
    {
      "cell_type": "markdown",
      "metadata": {
        "id": "BGSCWkCFZpWd",
        "colab_type": "text"
      },
      "source": [
        "### 3.2. TF"
      ]
    },
    {
      "cell_type": "code",
      "metadata": {
        "id": "Y0i1_OevZ6Yz",
        "colab_type": "code",
        "colab": {}
      },
      "source": [
        "def tf_vsm(query, document):\n",
        "  score = 0\n",
        "  document_tokens = document.split()\n",
        "  query_tokens = query.split()\n",
        "  \n",
        "  for word in query_tokens:\n",
        "    score += document_tokens.count(word)\n",
        "  \n",
        "  return score"
      ],
      "execution_count": 0,
      "outputs": []
    },
    {
      "cell_type": "markdown",
      "metadata": {
        "id": "Hgn_aljiZwe-",
        "colab_type": "text"
      },
      "source": [
        "### 3.3. TF-IDF"
      ]
    },
    {
      "cell_type": "code",
      "metadata": {
        "id": "0VBLtR92Z6y6",
        "colab_type": "code",
        "colab": {}
      },
      "source": [
        "def tfidf_vsm(query, document):\n",
        "  score = 0\n",
        "  document_tokens = document.split()\n",
        "  query_tokens = query.split()\n",
        "  \n",
        "  for word in query_tokens:\n",
        "    cwd = document_tokens.count(word)\n",
        "    score += cwd * index[word]['IDF']\n",
        "  \n",
        "  return round(score,2)"
      ],
      "execution_count": 0,
      "outputs": []
    },
    {
      "cell_type": "markdown",
      "metadata": {
        "id": "6GOc9ccfZ1ua",
        "colab_type": "text"
      },
      "source": [
        "### 3.4. BM25"
      ]
    },
    {
      "cell_type": "code",
      "metadata": {
        "id": "CBi5TAvsZ7GX",
        "colab_type": "code",
        "colab": {}
      },
      "source": [
        "def bm25_vsm(query, document, k):\n",
        "  score = 0\n",
        "  document_tokens = document.split()\n",
        "  query_tokens = query.split()\n",
        "  \n",
        "  words = [word for word in query_tokens if word in document_tokens]\n",
        "    \n",
        "  for word in words:\n",
        "    cwd = document_tokens.count(word)\n",
        "    dfw = len(index[word])\n",
        "    score += (((k+1) * cwd) / (cwd + k)) * np.log10(((M+1) / dfw))\n",
        "  \n",
        "  return round(score,2)"
      ],
      "execution_count": 0,
      "outputs": []
    },
    {
      "cell_type": "markdown",
      "metadata": {
        "id": "qzwqglQSA0wK",
        "colab_type": "text"
      },
      "source": [
        "# 4. Execute os algoritmos separadamente em 3 consultas de sua escolha e retorne os top-5 documentos mais similares à cada consulta"
      ]
    },
    {
      "cell_type": "code",
      "metadata": {
        "id": "uvwk0TI3A3Tp",
        "colab_type": "code",
        "colab": {}
      },
      "source": [
        "queries = ['champions', 'bolsonaro', 'financeiro']"
      ],
      "execution_count": 0,
      "outputs": []
    },
    {
      "cell_type": "code",
      "metadata": {
        "id": "EXJkKNEEDFz9",
        "colab_type": "code",
        "colab": {}
      },
      "source": [
        "def get_top5_documents(query):\n",
        "  db = []\n",
        "  dtf = []\n",
        "  dtfidf = []\n",
        "  dbm25 = []\n",
        "  n = 0\n",
        "  for document in data.text:\n",
        "    document = document.lower()\n",
        "    bisect.insort(db, (binary_vsm(query, document), n))\n",
        "    bisect.insort(dtf, (tf_vsm(query, document), n))\n",
        "    bisect.insort(dtfidf, (tfidf_vsm(query, document), n))\n",
        "    bisect.insort(dbm25, (bm25_vsm(query, document, 20), n))\n",
        "    n += 1\n",
        "  \n",
        "  db.reverse()\n",
        "  dtf.reverse()\n",
        "  dtfidf.reverse()\n",
        "  dbm25.reverse()\n",
        "  \n",
        "  return db[:5], dtf[:5], dtfidf[:5], dbm25[:5]"
      ],
      "execution_count": 0,
      "outputs": []
    },
    {
      "cell_type": "code",
      "metadata": {
        "id": "WdRJ9glbDH4e",
        "colab_type": "code",
        "colab": {}
      },
      "source": [
        "top5_binary = [[],[],[]]\n",
        "top5_tf = [[],[],[]]\n",
        "top5_tfidf = [[],[],[]]\n",
        "top5_bm25 = [[],[],[]]\n",
        "\n",
        "top5_binary[0], top5_tf[0], top5_tfidf[0], top5_bm25[0] = get_top5_documents(queries[0])\n",
        "top5_binary[1], top5_tf[1], top5_tfidf[1], top5_bm25[1] = get_top5_documents(queries[1])\n",
        "top5_binary[2], top5_tf[2], top5_tfidf[2], top5_bm25[2] = get_top5_documents(queries[2])"
      ],
      "execution_count": 0,
      "outputs": []
    },
    {
      "cell_type": "code",
      "metadata": {
        "id": "-8Pl7r6GDI82",
        "colab_type": "code",
        "colab": {
          "base_uri": "https://localhost:8080/",
          "height": 193
        },
        "outputId": "d70cbba3-8a69-4162-8f2b-b7e47642104f"
      },
      "source": [
        "query_df = pd.DataFrame()\n",
        "query_df['Query'] = queries\n",
        "query_df['Binary'] = top5_binary\n",
        "query_df['TF'] = top5_tf\n",
        "query_df['TF-IDF'] = top5_tfidf\n",
        "query_df['BM25'] = top5_bm25\n",
        "query_df"
      ],
      "execution_count": 187,
      "outputs": [
        {
          "output_type": "execute_result",
          "data": {
            "text/html": [
              "<div>\n",
              "<style scoped>\n",
              "    .dataframe tbody tr th:only-of-type {\n",
              "        vertical-align: middle;\n",
              "    }\n",
              "\n",
              "    .dataframe tbody tr th {\n",
              "        vertical-align: top;\n",
              "    }\n",
              "\n",
              "    .dataframe thead th {\n",
              "        text-align: right;\n",
              "    }\n",
              "</style>\n",
              "<table border=\"1\" class=\"dataframe\">\n",
              "  <thead>\n",
              "    <tr style=\"text-align: right;\">\n",
              "      <th></th>\n",
              "      <th>Query</th>\n",
              "      <th>Binary</th>\n",
              "      <th>TF</th>\n",
              "      <th>TF-IDF</th>\n",
              "      <th>BM25</th>\n",
              "    </tr>\n",
              "  </thead>\n",
              "  <tbody>\n",
              "    <tr>\n",
              "      <th>0</th>\n",
              "      <td>champions</td>\n",
              "      <td>[(1, 73), (1, 70), (1, 56), (1, 54), (1, 53)]</td>\n",
              "      <td>[(3, 40), (2, 70), (2, 53), (1, 73), (1, 56)]</td>\n",
              "      <td>[(9.96, 40), (6.64, 70), (6.64, 53), (3.32, 73), (3.32, 56)]</td>\n",
              "      <td>[(5.74, 40), (4.0, 70), (4.0, 53), (2.1, 73), (2.1, 56)]</td>\n",
              "    </tr>\n",
              "    <tr>\n",
              "      <th>1</th>\n",
              "      <td>bolsonaro</td>\n",
              "      <td>[(1, 247), (1, 239), (1, 237), (1, 236), (1, 235)]</td>\n",
              "      <td>[(32, 150), (30, 206), (30, 165), (19, 18), (12, 41)]</td>\n",
              "      <td>[(42.24, 150), (39.6, 206), (39.6, 165), (25.08, 18), (15.84, 41)]</td>\n",
              "      <td>[(27.1, 150), (26.42, 206), (26.42, 165), (21.45, 18), (16.51, 41)]</td>\n",
              "    </tr>\n",
              "    <tr>\n",
              "      <th>2</th>\n",
              "      <td>financeiro</td>\n",
              "      <td>[(1, 217), (1, 206), (1, 205), (1, 142), (1, 128)]</td>\n",
              "      <td>[(2, 128), (2, 33), (1, 217), (1, 206), (1, 205)]</td>\n",
              "      <td>[(5.92, 128), (5.92, 33), (2.96, 217), (2.96, 206), (2.96, 205)]</td>\n",
              "      <td>[(4.0, 128), (4.0, 33), (2.1, 217), (2.1, 206), (2.1, 205)]</td>\n",
              "    </tr>\n",
              "  </tbody>\n",
              "</table>\n",
              "</div>"
            ],
            "text/plain": [
              "        Query  ...                                                                 BM25\n",
              "0  champions   ...  [(5.74, 40), (4.0, 70), (4.0, 53), (2.1, 73), (2.1, 56)]           \n",
              "1  bolsonaro   ...  [(27.1, 150), (26.42, 206), (26.42, 165), (21.45, 18), (16.51, 41)]\n",
              "2  financeiro  ...  [(4.0, 128), (4.0, 33), (2.1, 217), (2.1, 206), (2.1, 205)]        \n",
              "\n",
              "[3 rows x 5 columns]"
            ]
          },
          "metadata": {
            "tags": []
          },
          "execution_count": 187
        }
      ]
    },
    {
      "cell_type": "markdown",
      "metadata": {
        "id": "sEA63ohUWuQY",
        "colab_type": "text"
      },
      "source": [
        "# 5. Compare os resultados encontrados e responda"
      ]
    },
    {
      "cell_type": "markdown",
      "metadata": {
        "id": "BLjZ3NpDWzp8",
        "colab_type": "text"
      },
      "source": [
        "## 5.1 Quais modelos você acha que trouxe os melhores resultados? Por que? Inspecione os documentos retornados para melhor embasar sua resposta"
      ]
    },
    {
      "cell_type": "code",
      "metadata": {
        "id": "Cn1hYzvqXOyq",
        "colab_type": "code",
        "colab": {}
      },
      "source": [
        "def get_top1_score(top5):\n",
        "  return [top[0][0] for top in top5]\n",
        "\n",
        "def get_top1_doc(top5):\n",
        "  return [top[0][1] for top in top5]\n",
        "\n",
        "def get_doc_title(docs):\n",
        "  return [data.title[doc] for doc in docs]"
      ],
      "execution_count": 0,
      "outputs": []
    },
    {
      "cell_type": "code",
      "metadata": {
        "id": "mBSUyNc-XQP4",
        "colab_type": "code",
        "colab": {}
      },
      "source": [
        "score_top5_binary = get_top1_score(top5_binary)\n",
        "score_top5_tf = get_top1_score(top5_tf)\n",
        "score_top5_tfidf = get_top1_score(top5_tfidf)\n",
        "score_top5_bm25 = get_top1_score(top5_bm25)\n",
        "\n",
        "doc_top5_binary = get_top1_doc(top5_binary)\n",
        "doc_top5_tf = get_top1_doc(top5_tf)\n",
        "doc_top5_tfidf = get_top1_doc(top5_tfidf)\n",
        "doc_top5_bm25 = get_top1_doc(top5_bm25)\n",
        "\n",
        "titles_binary = get_doc_title(doc_top5_binary)\n",
        "titles_tf = get_doc_title(doc_top5_tf)\n",
        "titles_tfidf = get_doc_title(doc_top5_tfidf)\n",
        "titles_bm25 = get_doc_title(doc_top5_bm25)"
      ],
      "execution_count": 0,
      "outputs": []
    },
    {
      "cell_type": "markdown",
      "metadata": {
        "id": "F0uGt9exXS9W",
        "colab_type": "text"
      },
      "source": [
        "### Binary"
      ]
    },
    {
      "cell_type": "code",
      "metadata": {
        "id": "Q7lSqsDdXUp-",
        "colab_type": "code",
        "colab": {
          "base_uri": "https://localhost:8080/",
          "height": 142
        },
        "outputId": "22becd3a-9114-4d43-a692-c8c43ddb15e8"
      },
      "source": [
        "binary_res = pd.DataFrame()\n",
        "binary_res['Query'] = queries\n",
        "binary_res['Document'] = doc_top5_binary\n",
        "binary_res['Document Title'] = titles_binary\n",
        "binary_res['Binary Score'] = score_top5_binary\n",
        "binary_res"
      ],
      "execution_count": 191,
      "outputs": [
        {
          "output_type": "execute_result",
          "data": {
            "text/html": [
              "<div>\n",
              "<style scoped>\n",
              "    .dataframe tbody tr th:only-of-type {\n",
              "        vertical-align: middle;\n",
              "    }\n",
              "\n",
              "    .dataframe tbody tr th {\n",
              "        vertical-align: top;\n",
              "    }\n",
              "\n",
              "    .dataframe thead th {\n",
              "        text-align: right;\n",
              "    }\n",
              "</style>\n",
              "<table border=\"1\" class=\"dataframe\">\n",
              "  <thead>\n",
              "    <tr style=\"text-align: right;\">\n",
              "      <th></th>\n",
              "      <th>Query</th>\n",
              "      <th>Document</th>\n",
              "      <th>Document Title</th>\n",
              "      <th>Binary Score</th>\n",
              "    </tr>\n",
              "  </thead>\n",
              "  <tbody>\n",
              "    <tr>\n",
              "      <th>0</th>\n",
              "      <td>champions</td>\n",
              "      <td>73</td>\n",
              "      <td>Manchester United marca nos acréscimos graças a VAR e derruba o PSG nas oitavas da Champions</td>\n",
              "      <td>1</td>\n",
              "    </tr>\n",
              "    <tr>\n",
              "      <th>1</th>\n",
              "      <td>bolsonaro</td>\n",
              "      <td>247</td>\n",
              "      <td>Tatiana Roque: “O problema da esquerda não é a pauta dita identitária  mas sim a lacração”</td>\n",
              "      <td>1</td>\n",
              "    </tr>\n",
              "    <tr>\n",
              "      <th>2</th>\n",
              "      <td>financeiro</td>\n",
              "      <td>217</td>\n",
              "      <td>Desconfiança dos investidores com Bolsonaro cresce e dólar supera 4 reais</td>\n",
              "      <td>1</td>\n",
              "    </tr>\n",
              "  </tbody>\n",
              "</table>\n",
              "</div>"
            ],
            "text/plain": [
              "        Query  ...  Binary Score\n",
              "0  champions   ...  1           \n",
              "1  bolsonaro   ...  1           \n",
              "2  financeiro  ...  1           \n",
              "\n",
              "[3 rows x 4 columns]"
            ]
          },
          "metadata": {
            "tags": []
          },
          "execution_count": 191
        }
      ]
    },
    {
      "cell_type": "markdown",
      "metadata": {
        "id": "D8vOnDhRXWme",
        "colab_type": "text"
      },
      "source": [
        "### TF"
      ]
    },
    {
      "cell_type": "code",
      "metadata": {
        "id": "9gHvwu83XX28",
        "colab_type": "code",
        "colab": {
          "base_uri": "https://localhost:8080/",
          "height": 142
        },
        "outputId": "9fd0e2ba-7002-4a99-e074-14cbb70613f4"
      },
      "source": [
        "tf_res = pd.DataFrame()\n",
        "tf_res['Query'] = queries\n",
        "tf_res['Document'] = doc_top5_tf\n",
        "tf_res['Document Title'] = titles_tf\n",
        "tf_res['TF Score'] = score_top5_tf\n",
        "tf_res"
      ],
      "execution_count": 192,
      "outputs": [
        {
          "output_type": "execute_result",
          "data": {
            "text/html": [
              "<div>\n",
              "<style scoped>\n",
              "    .dataframe tbody tr th:only-of-type {\n",
              "        vertical-align: middle;\n",
              "    }\n",
              "\n",
              "    .dataframe tbody tr th {\n",
              "        vertical-align: top;\n",
              "    }\n",
              "\n",
              "    .dataframe thead th {\n",
              "        text-align: right;\n",
              "    }\n",
              "</style>\n",
              "<table border=\"1\" class=\"dataframe\">\n",
              "  <thead>\n",
              "    <tr style=\"text-align: right;\">\n",
              "      <th></th>\n",
              "      <th>Query</th>\n",
              "      <th>Document</th>\n",
              "      <th>Document Title</th>\n",
              "      <th>TF Score</th>\n",
              "    </tr>\n",
              "  </thead>\n",
              "  <tbody>\n",
              "    <tr>\n",
              "      <th>0</th>\n",
              "      <td>champions</td>\n",
              "      <td>40</td>\n",
              "      <td>Turim se apaixona por Cristiano Ronaldo</td>\n",
              "      <td>3</td>\n",
              "    </tr>\n",
              "    <tr>\n",
              "      <th>1</th>\n",
              "      <td>bolsonaro</td>\n",
              "      <td>150</td>\n",
              "      <td>Quem mandou matar Marielle? E por quê?</td>\n",
              "      <td>32</td>\n",
              "    </tr>\n",
              "    <tr>\n",
              "      <th>2</th>\n",
              "      <td>financeiro</td>\n",
              "      <td>128</td>\n",
              "      <td>Wolfgang Streeck: “É preciso quebrar o euro  e logo”</td>\n",
              "      <td>2</td>\n",
              "    </tr>\n",
              "  </tbody>\n",
              "</table>\n",
              "</div>"
            ],
            "text/plain": [
              "        Query  ...  TF Score\n",
              "0  champions   ...  3       \n",
              "1  bolsonaro   ...  32      \n",
              "2  financeiro  ...  2       \n",
              "\n",
              "[3 rows x 4 columns]"
            ]
          },
          "metadata": {
            "tags": []
          },
          "execution_count": 192
        }
      ]
    },
    {
      "cell_type": "markdown",
      "metadata": {
        "id": "CC73l220XZyb",
        "colab_type": "text"
      },
      "source": [
        "### TF-IDF"
      ]
    },
    {
      "cell_type": "code",
      "metadata": {
        "id": "Lr_-8qKFXbuJ",
        "colab_type": "code",
        "colab": {
          "base_uri": "https://localhost:8080/",
          "height": 142
        },
        "outputId": "f7ac2b2d-01e6-4d38-a075-864c05eefe56"
      },
      "source": [
        "tfidf_res = pd.DataFrame()\n",
        "tfidf_res['Query'] = queries\n",
        "tfidf_res['Document'] = doc_top5_tfidf\n",
        "tfidf_res['Document Title'] = titles_tfidf\n",
        "tfidf_res['TF-IDF Score'] = score_top5_tfidf\n",
        "tfidf_res"
      ],
      "execution_count": 193,
      "outputs": [
        {
          "output_type": "execute_result",
          "data": {
            "text/html": [
              "<div>\n",
              "<style scoped>\n",
              "    .dataframe tbody tr th:only-of-type {\n",
              "        vertical-align: middle;\n",
              "    }\n",
              "\n",
              "    .dataframe tbody tr th {\n",
              "        vertical-align: top;\n",
              "    }\n",
              "\n",
              "    .dataframe thead th {\n",
              "        text-align: right;\n",
              "    }\n",
              "</style>\n",
              "<table border=\"1\" class=\"dataframe\">\n",
              "  <thead>\n",
              "    <tr style=\"text-align: right;\">\n",
              "      <th></th>\n",
              "      <th>Query</th>\n",
              "      <th>Document</th>\n",
              "      <th>Document Title</th>\n",
              "      <th>TF-IDF Score</th>\n",
              "    </tr>\n",
              "  </thead>\n",
              "  <tbody>\n",
              "    <tr>\n",
              "      <th>0</th>\n",
              "      <td>champions</td>\n",
              "      <td>40</td>\n",
              "      <td>Turim se apaixona por Cristiano Ronaldo</td>\n",
              "      <td>9.96</td>\n",
              "    </tr>\n",
              "    <tr>\n",
              "      <th>1</th>\n",
              "      <td>bolsonaro</td>\n",
              "      <td>150</td>\n",
              "      <td>Quem mandou matar Marielle? E por quê?</td>\n",
              "      <td>42.24</td>\n",
              "    </tr>\n",
              "    <tr>\n",
              "      <th>2</th>\n",
              "      <td>financeiro</td>\n",
              "      <td>128</td>\n",
              "      <td>Wolfgang Streeck: “É preciso quebrar o euro  e logo”</td>\n",
              "      <td>5.92</td>\n",
              "    </tr>\n",
              "  </tbody>\n",
              "</table>\n",
              "</div>"
            ],
            "text/plain": [
              "        Query  ...  TF-IDF Score\n",
              "0  champions   ...  9.96        \n",
              "1  bolsonaro   ...  42.24       \n",
              "2  financeiro  ...  5.92        \n",
              "\n",
              "[3 rows x 4 columns]"
            ]
          },
          "metadata": {
            "tags": []
          },
          "execution_count": 193
        }
      ]
    },
    {
      "cell_type": "markdown",
      "metadata": {
        "id": "njttvoWwXdXL",
        "colab_type": "text"
      },
      "source": [
        "### BM25"
      ]
    },
    {
      "cell_type": "code",
      "metadata": {
        "id": "NKM1in5-XgbR",
        "colab_type": "code",
        "colab": {
          "base_uri": "https://localhost:8080/",
          "height": 142
        },
        "outputId": "e7f20e3e-10a7-477b-d7d3-f7fc6a4e3744"
      },
      "source": [
        "bm25_res = pd.DataFrame()\n",
        "bm25_res['Query'] = queries\n",
        "bm25_res['Document'] = doc_top5_bm25\n",
        "bm25_res['Document Title'] = titles_bm25\n",
        "bm25_res['BM25 Score'] = score_top5_bm25\n",
        "bm25_res"
      ],
      "execution_count": 194,
      "outputs": [
        {
          "output_type": "execute_result",
          "data": {
            "text/html": [
              "<div>\n",
              "<style scoped>\n",
              "    .dataframe tbody tr th:only-of-type {\n",
              "        vertical-align: middle;\n",
              "    }\n",
              "\n",
              "    .dataframe tbody tr th {\n",
              "        vertical-align: top;\n",
              "    }\n",
              "\n",
              "    .dataframe thead th {\n",
              "        text-align: right;\n",
              "    }\n",
              "</style>\n",
              "<table border=\"1\" class=\"dataframe\">\n",
              "  <thead>\n",
              "    <tr style=\"text-align: right;\">\n",
              "      <th></th>\n",
              "      <th>Query</th>\n",
              "      <th>Document</th>\n",
              "      <th>Document Title</th>\n",
              "      <th>BM25 Score</th>\n",
              "    </tr>\n",
              "  </thead>\n",
              "  <tbody>\n",
              "    <tr>\n",
              "      <th>0</th>\n",
              "      <td>champions</td>\n",
              "      <td>40</td>\n",
              "      <td>Turim se apaixona por Cristiano Ronaldo</td>\n",
              "      <td>5.74</td>\n",
              "    </tr>\n",
              "    <tr>\n",
              "      <th>1</th>\n",
              "      <td>bolsonaro</td>\n",
              "      <td>150</td>\n",
              "      <td>Quem mandou matar Marielle? E por quê?</td>\n",
              "      <td>27.10</td>\n",
              "    </tr>\n",
              "    <tr>\n",
              "      <th>2</th>\n",
              "      <td>financeiro</td>\n",
              "      <td>128</td>\n",
              "      <td>Wolfgang Streeck: “É preciso quebrar o euro  e logo”</td>\n",
              "      <td>4.00</td>\n",
              "    </tr>\n",
              "  </tbody>\n",
              "</table>\n",
              "</div>"
            ],
            "text/plain": [
              "        Query  ...  BM25 Score\n",
              "0  champions   ...  5.74      \n",
              "1  bolsonaro   ...  27.10     \n",
              "2  financeiro  ...  4.00      \n",
              "\n",
              "[3 rows x 4 columns]"
            ]
          },
          "metadata": {
            "tags": []
          },
          "execution_count": 194
        }
      ]
    },
    {
      "cell_type": "markdown",
      "metadata": {
        "id": "ksonTLhzfuYt",
        "colab_type": "text"
      },
      "source": [
        ""
      ]
    },
    {
      "cell_type": "markdown",
      "metadata": {
        "id": "n9WUJGfmW2NB",
        "colab_type": "text"
      },
      "source": [
        "## 5.2 Calcule e reporte o overlap par-a-par entre os resultados de cada modelo (usando o índice de Jaccard)"
      ]
    },
    {
      "cell_type": "code",
      "metadata": {
        "id": "lSislP_1YCWO",
        "colab_type": "code",
        "colab": {}
      },
      "source": [
        "def jaccard_similarity(a, b):\n",
        "    s1 = set(a)\n",
        "    s2 = set(b)\n",
        "    return len(s1.intersection(s2)) / float(len(s1.union(s2)))"
      ],
      "execution_count": 0,
      "outputs": []
    },
    {
      "cell_type": "code",
      "metadata": {
        "id": "Or3_8THHYD5g",
        "colab_type": "code",
        "colab": {
          "base_uri": "https://localhost:8080/",
          "height": 204
        },
        "outputId": "99104a9b-7d95-4aaa-9b68-6636e35e77d7"
      },
      "source": [
        "all_docs = []\n",
        "all_docs.append(doc_top5_binary)\n",
        "all_docs.append(doc_top5_bm25)\n",
        "all_docs.append(doc_top5_tf)\n",
        "all_docs.append(doc_top5_tfidf)\n",
        "\n",
        "matrix = [['Measure', 'Binary', 'TF', 'TF-IDF', 'BM25']]\n",
        "titles = matrix\n",
        "for i in range(len(all_docs)):\n",
        "  line = []\n",
        "  for j in range(len(all_docs)):\n",
        "    jaccard = jaccard_similarity(all_docs[i], all_docs[j])\n",
        "    line.append(round(jaccard,2))\n",
        "  matrix.append(line)\n",
        "for i in range(1, len(matrix)):\n",
        "  matrix[i].insert(0, matrix[0][i])\n",
        "  \n",
        "pd.DataFrame(matrix)"
      ],
      "execution_count": 196,
      "outputs": [
        {
          "output_type": "execute_result",
          "data": {
            "text/html": [
              "<div>\n",
              "<style scoped>\n",
              "    .dataframe tbody tr th:only-of-type {\n",
              "        vertical-align: middle;\n",
              "    }\n",
              "\n",
              "    .dataframe tbody tr th {\n",
              "        vertical-align: top;\n",
              "    }\n",
              "\n",
              "    .dataframe thead th {\n",
              "        text-align: right;\n",
              "    }\n",
              "</style>\n",
              "<table border=\"1\" class=\"dataframe\">\n",
              "  <thead>\n",
              "    <tr style=\"text-align: right;\">\n",
              "      <th></th>\n",
              "      <th>0</th>\n",
              "      <th>1</th>\n",
              "      <th>2</th>\n",
              "      <th>3</th>\n",
              "      <th>4</th>\n",
              "    </tr>\n",
              "  </thead>\n",
              "  <tbody>\n",
              "    <tr>\n",
              "      <th>0</th>\n",
              "      <td>Measure</td>\n",
              "      <td>Binary</td>\n",
              "      <td>TF</td>\n",
              "      <td>TF-IDF</td>\n",
              "      <td>BM25</td>\n",
              "    </tr>\n",
              "    <tr>\n",
              "      <th>1</th>\n",
              "      <td>Binary</td>\n",
              "      <td>1</td>\n",
              "      <td>0</td>\n",
              "      <td>0</td>\n",
              "      <td>0</td>\n",
              "    </tr>\n",
              "    <tr>\n",
              "      <th>2</th>\n",
              "      <td>TF</td>\n",
              "      <td>0</td>\n",
              "      <td>1</td>\n",
              "      <td>1</td>\n",
              "      <td>1</td>\n",
              "    </tr>\n",
              "    <tr>\n",
              "      <th>3</th>\n",
              "      <td>TF-IDF</td>\n",
              "      <td>0</td>\n",
              "      <td>1</td>\n",
              "      <td>1</td>\n",
              "      <td>1</td>\n",
              "    </tr>\n",
              "    <tr>\n",
              "      <th>4</th>\n",
              "      <td>BM25</td>\n",
              "      <td>0</td>\n",
              "      <td>1</td>\n",
              "      <td>1</td>\n",
              "      <td>1</td>\n",
              "    </tr>\n",
              "  </tbody>\n",
              "</table>\n",
              "</div>"
            ],
            "text/plain": [
              "         0       1   2       3     4\n",
              "0  Measure  Binary  TF  TF-IDF  BM25\n",
              "1  Binary   1       0   0       0   \n",
              "2  TF       0       1   1       1   \n",
              "3  TF-IDF   0       1   1       1   \n",
              "4  BM25     0       1   1       1   "
            ]
          },
          "metadata": {
            "tags": []
          },
          "execution_count": 196
        }
      ]
    }
  ]
}