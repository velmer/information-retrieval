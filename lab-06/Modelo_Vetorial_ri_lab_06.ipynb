{
  "nbformat": 4,
  "nbformat_minor": 0,
  "metadata": {
    "colab": {
      "name": "Modelo Vetorial - ri-lab-06.ipynb",
      "version": "0.3.2",
      "provenance": [],
      "include_colab_link": true
    },
    "kernelspec": {
      "name": "python3",
      "display_name": "Python 3"
    }
  },
  "cells": [
    {
      "cell_type": "markdown",
      "metadata": {
        "id": "view-in-github",
        "colab_type": "text"
      },
      "source": [
        "<a href=\"https://colab.research.google.com/github/velmer/retrieval-information/blob/master/lab-06/Modelo_Vetorial_ri_lab_06.ipynb\" target=\"_parent\"><img src=\"https://colab.research.google.com/assets/colab-badge.svg\" alt=\"Open In Colab\"/></a>"
      ]
    },
    {
      "cell_type": "code",
      "metadata": {
        "id": "uIFQ4E8UFbnH",
        "colab_type": "code",
        "colab": {
          "base_uri": "https://localhost:8080/",
          "height": 51
        },
        "outputId": "24b854cb-8da3-4052-d76a-c6bb042a391d"
      },
      "source": [
        "import pandas as pd\n",
        "import numpy as np\n",
        "import nltk\n",
        "import re\n",
        "import collections\n",
        "import bisect\n",
        "from nltk.tokenize import RegexpTokenizer\n",
        "\n",
        "nltk.download('stopwords')"
      ],
      "execution_count": 1,
      "outputs": [
        {
          "output_type": "stream",
          "text": [
            "[nltk_data] Downloading package stopwords to /root/nltk_data...\n",
            "[nltk_data]   Unzipping corpora/stopwords.zip.\n"
          ],
          "name": "stdout"
        }
      ]
    },
    {
      "cell_type": "markdown",
      "metadata": {
        "id": "8GzCA4-nM9JD",
        "colab_type": "text"
      },
      "source": [
        "# Carregando dados"
      ]
    },
    {
      "cell_type": "code",
      "metadata": {
        "id": "QZ1Fj6KeM8UQ",
        "colab_type": "code",
        "colab": {
          "base_uri": "https://localhost:8080/",
          "height": 529
        },
        "outputId": "1c8cde4d-aaba-4e75-de35-1bb7708d2c1e"
      },
      "source": [
        "data = pd.read_csv('https://raw.githubusercontent.com/velmer/retrieval-information/master/lab-06/results.csv')\n",
        "data.head(10)"
      ],
      "execution_count": 3,
      "outputs": [
        {
          "output_type": "execute_result",
          "data": {
            "text/html": [
              "<div>\n",
              "<style scoped>\n",
              "    .dataframe tbody tr th:only-of-type {\n",
              "        vertical-align: middle;\n",
              "    }\n",
              "\n",
              "    .dataframe tbody tr th {\n",
              "        vertical-align: top;\n",
              "    }\n",
              "\n",
              "    .dataframe thead th {\n",
              "        text-align: right;\n",
              "    }\n",
              "</style>\n",
              "<table border=\"1\" class=\"dataframe\">\n",
              "  <thead>\n",
              "    <tr style=\"text-align: right;\">\n",
              "      <th></th>\n",
              "      <th>title</th>\n",
              "      <th>subtitle</th>\n",
              "      <th>author</th>\n",
              "      <th>date</th>\n",
              "      <th>section</th>\n",
              "      <th>text</th>\n",
              "      <th>url</th>\n",
              "    </tr>\n",
              "  </thead>\n",
              "  <tbody>\n",
              "    <tr>\n",
              "      <th>0</th>\n",
              "      <td>“A sociedade foi Rubens Paiva  não os facínora...</td>\n",
              "      <td>A decisão da juíza que proíbe as Forças Armada...</td>\n",
              "      <td>F. M.</td>\n",
              "      <td>30/03/2019 00:11:08</td>\n",
              "      <td>Brasil</td>\n",
              "      <td>A juíza federal Ivani Silva da Luz  de Brasíli...</td>\n",
              "      <td>https://brasil.elpais.com/brasil/2019/03/26/po...</td>\n",
              "    </tr>\n",
              "    <tr>\n",
              "      <th>1</th>\n",
              "      <td>Justiça suspende decisão que proibia Forças Ar...</td>\n",
              "      <td>Liminar havia sido concedida na sexta-feira a ...</td>\n",
              "      <td>Marina Rossi</td>\n",
              "      <td>30/03/2019 16:17:59</td>\n",
              "      <td>Brasil</td>\n",
              "      <td>Menos de 24 horas depois de a juíza federal Iv...</td>\n",
              "      <td>https://brasil.elpais.com/brasil/2019/03/30/po...</td>\n",
              "    </tr>\n",
              "    <tr>\n",
              "      <th>2</th>\n",
              "      <td>Governo Bolsonaro prega “negacionismo históric...</td>\n",
              "      <td>Marcos Napolitano  professor da USP  diz que o...</td>\n",
              "      <td>Regiane Oliveira</td>\n",
              "      <td>04/04/2019 22:37:48</td>\n",
              "      <td>Brasil</td>\n",
              "      <td>Quando  determinou que  de 31 de março 1964  u...</td>\n",
              "      <td>https://brasil.elpais.com/brasil/2019/04/05/po...</td>\n",
              "    </tr>\n",
              "    <tr>\n",
              "      <th>3</th>\n",
              "      <td>Quando os pais de Gabo perceberam que tinham u...</td>\n",
              "      <td>Gustavo Tatis percorre o universo de García Má...</td>\n",
              "      <td>Jesús Ruiz Mantilla</td>\n",
              "      <td>07/03/2019 16:38:56</td>\n",
              "      <td>Cultura</td>\n",
              "      <td>Quando  era pequeno   Luisa e  Gabriel se preo...</td>\n",
              "      <td>https://brasil.elpais.com/brasil/2019/03/06/cu...</td>\n",
              "    </tr>\n",
              "    <tr>\n",
              "      <th>4</th>\n",
              "      <td>Rádios canadenses banem músicas de Michael Jac...</td>\n",
              "      <td>Quebec Cogeco Media toma a decisão após queixa...</td>\n",
              "      <td>Jaime Porras Ferreyra</td>\n",
              "      <td>07/03/2019 16:12:37</td>\n",
              "      <td>Cultura</td>\n",
              "      <td>Desde a manhã da última segunda-feira     e   ...</td>\n",
              "      <td>https://brasil.elpais.com/brasil/2019/03/06/cu...</td>\n",
              "    </tr>\n",
              "    <tr>\n",
              "      <th>5</th>\n",
              "      <td>Rosângela  uma das crianças sequestradas por f...</td>\n",
              "      <td>“Roubaram minha identidade”  diz Rosângela Par...</td>\n",
              "      <td>Joana Oliveira</td>\n",
              "      <td>30/03/2019 22:21:08</td>\n",
              "      <td>Brasil</td>\n",
              "      <td>Rosângela Serra Paraná não sabe quantos anos t...</td>\n",
              "      <td>https://brasil.elpais.com/brasil/2019/03/29/po...</td>\n",
              "    </tr>\n",
              "    <tr>\n",
              "      <th>6</th>\n",
              "      <td>“Lógica de usar torturadores da ditadura no cr...</td>\n",
              "      <td>Aloy Jupiara  coautor de 'Os porões da contrav...</td>\n",
              "      <td>Felipe Betim</td>\n",
              "      <td>01/04/2019 13:22:17</td>\n",
              "      <td>Brasil</td>\n",
              "      <td>Trajetória similar tiveram outros vários agent...</td>\n",
              "      <td>https://brasil.elpais.com/brasil/2019/03/29/po...</td>\n",
              "    </tr>\n",
              "    <tr>\n",
              "      <th>7</th>\n",
              "      <td>Bolsonaro troca embaixada por escritório em Je...</td>\n",
              "      <td>Autoridade Palestina convoca embaixador no Bra...</td>\n",
              "      <td>Juan Carlos Sanz</td>\n",
              "      <td>01/04/2019 12:26:32</td>\n",
              "      <td>Brasil</td>\n",
              "      <td>A devoção dos cristãos evangélicos em seu apoi...</td>\n",
              "      <td>https://brasil.elpais.com/brasil/2019/03/31/po...</td>\n",
              "    </tr>\n",
              "    <tr>\n",
              "      <th>8</th>\n",
              "      <td>O lado mais sombrio de Dickens</td>\n",
              "      <td>Escritor e jornalista tentou internar sua mulh...</td>\n",
              "      <td>Rafa de Miguel</td>\n",
              "      <td>10/03/2019 14:29:37</td>\n",
              "      <td>Cultura</td>\n",
              "      <td>O homem mais famoso da era vitoriana  o “poeta...</td>\n",
              "      <td>https://brasil.elpais.com/brasil/2019/03/01/cu...</td>\n",
              "    </tr>\n",
              "    <tr>\n",
              "      <th>9</th>\n",
              "      <td>O amor entre mulheres que sacudiu o Paraguai</td>\n",
              "      <td>O drama ganhou três prêmios em Berlim e provoc...</td>\n",
              "      <td>Gregorio Belinchón</td>\n",
              "      <td>09/03/2019 12:10:23</td>\n",
              "      <td>Cultura</td>\n",
              "      <td>Depois de   inclusive o da crítica internacion...</td>\n",
              "      <td>https://brasil.elpais.com/brasil/2019/03/07/cu...</td>\n",
              "    </tr>\n",
              "  </tbody>\n",
              "</table>\n",
              "</div>"
            ],
            "text/plain": [
              "                                               title  ...                                                url\n",
              "0  “A sociedade foi Rubens Paiva  não os facínora...  ...  https://brasil.elpais.com/brasil/2019/03/26/po...\n",
              "1  Justiça suspende decisão que proibia Forças Ar...  ...  https://brasil.elpais.com/brasil/2019/03/30/po...\n",
              "2  Governo Bolsonaro prega “negacionismo históric...  ...  https://brasil.elpais.com/brasil/2019/04/05/po...\n",
              "3  Quando os pais de Gabo perceberam que tinham u...  ...  https://brasil.elpais.com/brasil/2019/03/06/cu...\n",
              "4  Rádios canadenses banem músicas de Michael Jac...  ...  https://brasil.elpais.com/brasil/2019/03/06/cu...\n",
              "5  Rosângela  uma das crianças sequestradas por f...  ...  https://brasil.elpais.com/brasil/2019/03/29/po...\n",
              "6  “Lógica de usar torturadores da ditadura no cr...  ...  https://brasil.elpais.com/brasil/2019/03/29/po...\n",
              "7  Bolsonaro troca embaixada por escritório em Je...  ...  https://brasil.elpais.com/brasil/2019/03/31/po...\n",
              "8                     O lado mais sombrio de Dickens  ...  https://brasil.elpais.com/brasil/2019/03/01/cu...\n",
              "9       O amor entre mulheres que sacudiu o Paraguai  ...  https://brasil.elpais.com/brasil/2019/03/07/cu...\n",
              "\n",
              "[10 rows x 7 columns]"
            ]
          },
          "metadata": {
            "tags": []
          },
          "execution_count": 3
        }
      ]
    },
    {
      "cell_type": "markdown",
      "metadata": {
        "id": "Y0pBAh9tNHq0",
        "colab_type": "text"
      },
      "source": [
        "# 1. Reconstruindo Índice Invertido"
      ]
    },
    {
      "cell_type": "code",
      "metadata": {
        "id": "F9R6V74DNKpz",
        "colab_type": "code",
        "colab": {}
      },
      "source": [
        "tknz = RegexpTokenizer(r'([A-Za-zÁáÉéÍíÓóÚúÃãÕõÇçÂâÊê\\-]{3,27})')\n",
        "stopwords = nltk.corpus.stopwords.words('portuguese')\n",
        "tokenData = pd.DataFrame(data['text'], columns=['text'])\n",
        "tokenData['tokenized_text'] = data.apply(lambda row: tknz.tokenize(row['text'].lower()), axis=1)"
      ],
      "execution_count": 0,
      "outputs": []
    },
    {
      "cell_type": "code",
      "metadata": {
        "id": "tXOmvTuvNMtR",
        "colab_type": "code",
        "colab": {}
      },
      "source": [
        "def is_tokenized_word(word):\n",
        "  \"\"\"\n",
        "    Returns if the specified word matches all requirements\n",
        "    to be a valid token.\n",
        "  \"\"\"\n",
        "  return len(word) > 1 and any(c.isalnum() for c in word)\n",
        "\n",
        "def build_index():\n",
        "  index = {}\n",
        "  num_document = 0\n",
        "\n",
        "  for text in tokenData.tokenized_text:\n",
        "    num_document += 1\n",
        "    words_set = set(text)\n",
        "    for word in words_set:\n",
        "      if is_tokenized_word(word) and word.lower() not in stopwords:\n",
        "        if word not in index.keys():\n",
        "          index[word] = { 'ranking': [] }\n",
        "        index[word]['ranking'].append((num_document, text.count(word)))\n",
        "\n",
        "  return index"
      ],
      "execution_count": 0,
      "outputs": []
    },
    {
      "cell_type": "code",
      "metadata": {
        "id": "xE7E0YG6NP7V",
        "colab_type": "code",
        "colab": {
          "base_uri": "https://localhost:8080/",
          "height": 359
        },
        "outputId": "aec6fa9b-846a-4c6e-be11-888f81ace1ff"
      },
      "source": [
        "index = build_index()\n",
        "indexed_data = pd.DataFrame()\n",
        "indexed_data['Word'] = [word for word in index.keys()]\n",
        "indexed_data['Documents (With Count)'] = [word['ranking'] for word in index.values()]\n",
        "indexed_data.head(10)"
      ],
      "execution_count": 39,
      "outputs": [
        {
          "output_type": "execute_result",
          "data": {
            "text/html": [
              "<div>\n",
              "<style scoped>\n",
              "    .dataframe tbody tr th:only-of-type {\n",
              "        vertical-align: middle;\n",
              "    }\n",
              "\n",
              "    .dataframe tbody tr th {\n",
              "        vertical-align: top;\n",
              "    }\n",
              "\n",
              "    .dataframe thead th {\n",
              "        text-align: right;\n",
              "    }\n",
              "</style>\n",
              "<table border=\"1\" class=\"dataframe\">\n",
              "  <thead>\n",
              "    <tr style=\"text-align: right;\">\n",
              "      <th></th>\n",
              "      <th>Word</th>\n",
              "      <th>Documents (With Count)</th>\n",
              "    </tr>\n",
              "  </thead>\n",
              "  <tbody>\n",
              "    <tr>\n",
              "      <th>0</th>\n",
              "      <td>apurar</td>\n",
              "      <td>[(1, 1), (214, 1), (223, 1)]</td>\n",
              "    </tr>\n",
              "    <tr>\n",
              "      <th>1</th>\n",
              "      <td>instituto</td>\n",
              "      <td>[(1, 1), (6, 1), (10, 1), (19, 1), (84, 1), (9...</td>\n",
              "    </tr>\n",
              "    <tr>\n",
              "      <th>2</th>\n",
              "      <td>vesgamente</td>\n",
              "      <td>[(1, 1)]</td>\n",
              "    </tr>\n",
              "    <tr>\n",
              "      <th>3</th>\n",
              "      <td>decisão</td>\n",
              "      <td>[(1, 3), (2, 2), (5, 2), (8, 2), (17, 1), (21,...</td>\n",
              "    </tr>\n",
              "    <tr>\n",
              "      <th>4</th>\n",
              "      <td>disponível</td>\n",
              "      <td>[(1, 1), (55, 1), (80, 1), (86, 1), (119, 1), ...</td>\n",
              "    </tr>\n",
              "    <tr>\n",
              "      <th>5</th>\n",
              "      <td>passado</td>\n",
              "      <td>[(1, 1), (3, 3), (6, 2), (8, 2), (10, 1), (16,...</td>\n",
              "    </tr>\n",
              "    <tr>\n",
              "      <th>6</th>\n",
              "      <td>preconizam</td>\n",
              "      <td>[(1, 1)]</td>\n",
              "    </tr>\n",
              "    <tr>\n",
              "      <th>7</th>\n",
              "      <td>anseios</td>\n",
              "      <td>[(1, 1), (182, 1), (198, 1), (210, 1)]</td>\n",
              "    </tr>\n",
              "    <tr>\n",
              "      <th>8</th>\n",
              "      <td>promovido</td>\n",
              "      <td>[(1, 1), (151, 1), (169, 1), (214, 1), (223, 1)]</td>\n",
              "    </tr>\n",
              "    <tr>\n",
              "      <th>9</th>\n",
              "      <td>porta-voz</td>\n",
              "      <td>[(1, 1), (5, 1), (25, 1), (64, 1), (66, 1), (7...</td>\n",
              "    </tr>\n",
              "  </tbody>\n",
              "</table>\n",
              "</div>"
            ],
            "text/plain": [
              "         Word                             Documents (With Count)\n",
              "0      apurar                       [(1, 1), (214, 1), (223, 1)]\n",
              "1   instituto  [(1, 1), (6, 1), (10, 1), (19, 1), (84, 1), (9...\n",
              "2  vesgamente                                           [(1, 1)]\n",
              "3     decisão  [(1, 3), (2, 2), (5, 2), (8, 2), (17, 1), (21,...\n",
              "4  disponível  [(1, 1), (55, 1), (80, 1), (86, 1), (119, 1), ...\n",
              "5     passado  [(1, 1), (3, 3), (6, 2), (8, 2), (10, 1), (16,...\n",
              "6  preconizam                                           [(1, 1)]\n",
              "7     anseios             [(1, 1), (182, 1), (198, 1), (210, 1)]\n",
              "8   promovido   [(1, 1), (151, 1), (169, 1), (214, 1), (223, 1)]\n",
              "9   porta-voz  [(1, 1), (5, 1), (25, 1), (64, 1), (66, 1), (7..."
            ]
          },
          "metadata": {
            "tags": []
          },
          "execution_count": 39
        }
      ]
    },
    {
      "cell_type": "code",
      "metadata": {
        "id": "z41fd1ecUmxP",
        "colab_type": "code",
        "colab": {}
      },
      "source": [
        ""
      ],
      "execution_count": 0,
      "outputs": []
    },
    {
      "cell_type": "markdown",
      "metadata": {
        "id": "Br5VZOHaNzj9",
        "colab_type": "text"
      },
      "source": [
        "# 2. Refinar o índice invertido de forma a também incluir o IDF (inverse document frequency) de cada termo do dicionário"
      ]
    },
    {
      "cell_type": "code",
      "metadata": {
        "id": "j3VoRj-WOBL5",
        "colab_type": "code",
        "colab": {}
      },
      "source": [
        "def add_idf_to_index():\n",
        "  M = data.text.count()\n",
        "  for word in index:\n",
        "    k = len(index[word]['ranking'])\n",
        "    IDF = round(np.log((M+1)/k),2)\n",
        "    index[word]['IDF'] = IDF"
      ],
      "execution_count": 0,
      "outputs": []
    },
    {
      "cell_type": "code",
      "metadata": {
        "id": "QDh3BQJpPmwG",
        "colab_type": "code",
        "colab": {}
      },
      "source": [
        "add_idf_to_index()"
      ],
      "execution_count": 0,
      "outputs": []
    },
    {
      "cell_type": "code",
      "metadata": {
        "id": "itSyq4vPPqmD",
        "colab_type": "code",
        "colab": {
          "base_uri": "https://localhost:8080/",
          "height": 359
        },
        "outputId": "e342a44f-25aa-4813-8940-cd41dcc2b3ff"
      },
      "source": [
        "indexed_data['IDF'] = [word['IDF'] for word in index.values()]\n",
        "indexed_data.head(10)"
      ],
      "execution_count": 45,
      "outputs": [
        {
          "output_type": "execute_result",
          "data": {
            "text/html": [
              "<div>\n",
              "<style scoped>\n",
              "    .dataframe tbody tr th:only-of-type {\n",
              "        vertical-align: middle;\n",
              "    }\n",
              "\n",
              "    .dataframe tbody tr th {\n",
              "        vertical-align: top;\n",
              "    }\n",
              "\n",
              "    .dataframe thead th {\n",
              "        text-align: right;\n",
              "    }\n",
              "</style>\n",
              "<table border=\"1\" class=\"dataframe\">\n",
              "  <thead>\n",
              "    <tr style=\"text-align: right;\">\n",
              "      <th></th>\n",
              "      <th>Word</th>\n",
              "      <th>Documents (With Count)</th>\n",
              "      <th>IDF</th>\n",
              "    </tr>\n",
              "  </thead>\n",
              "  <tbody>\n",
              "    <tr>\n",
              "      <th>0</th>\n",
              "      <td>apurar</td>\n",
              "      <td>[(1, 1), (214, 1), (223, 1)]</td>\n",
              "      <td>4.42</td>\n",
              "    </tr>\n",
              "    <tr>\n",
              "      <th>1</th>\n",
              "      <td>instituto</td>\n",
              "      <td>[(1, 1), (6, 1), (10, 1), (19, 1), (84, 1), (9...</td>\n",
              "      <td>2.53</td>\n",
              "    </tr>\n",
              "    <tr>\n",
              "      <th>2</th>\n",
              "      <td>vesgamente</td>\n",
              "      <td>[(1, 1)]</td>\n",
              "      <td>5.52</td>\n",
              "    </tr>\n",
              "    <tr>\n",
              "      <th>3</th>\n",
              "      <td>decisão</td>\n",
              "      <td>[(1, 3), (2, 2), (5, 2), (8, 2), (17, 1), (21,...</td>\n",
              "      <td>2.02</td>\n",
              "    </tr>\n",
              "    <tr>\n",
              "      <th>4</th>\n",
              "      <td>disponível</td>\n",
              "      <td>[(1, 1), (55, 1), (80, 1), (86, 1), (119, 1), ...</td>\n",
              "      <td>3.58</td>\n",
              "    </tr>\n",
              "    <tr>\n",
              "      <th>5</th>\n",
              "      <td>passado</td>\n",
              "      <td>[(1, 1), (3, 3), (6, 2), (8, 2), (10, 1), (16,...</td>\n",
              "      <td>1.09</td>\n",
              "    </tr>\n",
              "    <tr>\n",
              "      <th>6</th>\n",
              "      <td>preconizam</td>\n",
              "      <td>[(1, 1)]</td>\n",
              "      <td>5.52</td>\n",
              "    </tr>\n",
              "    <tr>\n",
              "      <th>7</th>\n",
              "      <td>anseios</td>\n",
              "      <td>[(1, 1), (182, 1), (198, 1), (210, 1)]</td>\n",
              "      <td>4.14</td>\n",
              "    </tr>\n",
              "    <tr>\n",
              "      <th>8</th>\n",
              "      <td>promovido</td>\n",
              "      <td>[(1, 1), (151, 1), (169, 1), (214, 1), (223, 1)]</td>\n",
              "      <td>3.91</td>\n",
              "    </tr>\n",
              "    <tr>\n",
              "      <th>9</th>\n",
              "      <td>porta-voz</td>\n",
              "      <td>[(1, 1), (5, 1), (25, 1), (64, 1), (66, 1), (7...</td>\n",
              "      <td>2.81</td>\n",
              "    </tr>\n",
              "  </tbody>\n",
              "</table>\n",
              "</div>"
            ],
            "text/plain": [
              "         Word                             Documents (With Count)   IDF\n",
              "0      apurar                       [(1, 1), (214, 1), (223, 1)]  4.42\n",
              "1   instituto  [(1, 1), (6, 1), (10, 1), (19, 1), (84, 1), (9...  2.53\n",
              "2  vesgamente                                           [(1, 1)]  5.52\n",
              "3     decisão  [(1, 3), (2, 2), (5, 2), (8, 2), (17, 1), (21,...  2.02\n",
              "4  disponível  [(1, 1), (55, 1), (80, 1), (86, 1), (119, 1), ...  3.58\n",
              "5     passado  [(1, 1), (3, 3), (6, 2), (8, 2), (10, 1), (16,...  1.09\n",
              "6  preconizam                                           [(1, 1)]  5.52\n",
              "7     anseios             [(1, 1), (182, 1), (198, 1), (210, 1)]  4.14\n",
              "8   promovido   [(1, 1), (151, 1), (169, 1), (214, 1), (223, 1)]  3.91\n",
              "9   porta-voz  [(1, 1), (5, 1), (25, 1), (64, 1), (66, 1), (7...  2.81"
            ]
          },
          "metadata": {
            "tags": []
          },
          "execution_count": 45
        }
      ]
    }
  ]
}