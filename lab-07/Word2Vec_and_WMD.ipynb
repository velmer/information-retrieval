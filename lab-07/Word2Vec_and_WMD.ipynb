{
  "nbformat": 4,
  "nbformat_minor": 0,
  "metadata": {
    "colab": {
      "name": "Word2Vec and WMD.ipynb",
      "version": "0.3.2",
      "provenance": [],
      "collapsed_sections": [],
      "include_colab_link": true
    },
    "kernelspec": {
      "name": "python3",
      "display_name": "Python 3"
    }
  },
  "cells": [
    {
      "cell_type": "markdown",
      "metadata": {
        "id": "view-in-github",
        "colab_type": "text"
      },
      "source": [
        "<a href=\"https://colab.research.google.com/github/velmer/information-retrieval/blob/master/lab-07/Word2Vec_and_WMD.ipynb\" target=\"_parent\"><img src=\"https://colab.research.google.com/assets/colab-badge.svg\" alt=\"Open In Colab\"/></a>"
      ]
    },
    {
      "cell_type": "code",
      "metadata": {
        "id": "DonJwda7Kdbe",
        "colab_type": "code",
        "outputId": "ddb9ed57-2808-4629-9e4a-8294f2c3023d",
        "colab": {
          "base_uri": "https://localhost:8080/",
          "height": 51
        }
      },
      "source": [
        "import pandas as pd\n",
        "import nltk\n",
        "import gensim\n",
        "from gensim.models import Word2Vec\n",
        "from nltk.tokenize import RegexpTokenizer\n",
        "\n",
        "nltk.download('stopwords')\n",
        "tknz = RegexpTokenizer(r'([A-Za-zÁáÉéÍíÓóÚúÃãÕõÇçÂâÊê\\-]{3,27})')\n",
        "stopwords = nltk.corpus.stopwords.words('portuguese')"
      ],
      "execution_count": 101,
      "outputs": [
        {
          "output_type": "stream",
          "text": [
            "[nltk_data] Downloading package stopwords to /root/nltk_data...\n",
            "[nltk_data]   Package stopwords is already up-to-date!\n"
          ],
          "name": "stdout"
        }
      ]
    },
    {
      "cell_type": "markdown",
      "metadata": {
        "id": "Sv78Bb7E4kpb",
        "colab_type": "text"
      },
      "source": [
        "# Carregando Modelo Word2Vec"
      ]
    },
    {
      "cell_type": "code",
      "metadata": {
        "id": "hdmUci0X42pD",
        "colab_type": "code",
        "outputId": "a95a2dd5-b270-48c8-bb08-aaa93159d0bb",
        "colab": {
          "base_uri": "https://localhost:8080/",
          "height": 71
        }
      },
      "source": [
        "model = Word2Vec.load('pt.bin')\n",
        "# Normalizing vectors\n",
        "model.init_sims(replace=True)"
      ],
      "execution_count": 102,
      "outputs": [
        {
          "output_type": "stream",
          "text": [
            "/usr/local/lib/python3.6/dist-packages/smart_open/smart_open_lib.py:398: UserWarning: This function is deprecated, use smart_open.open instead. See the migration notes for details: https://github.com/RaRe-Technologies/smart_open/blob/master/README.rst#migrating-to-the-new-open-function\n",
            "  'See the migration notes for details: %s' % _MIGRATION_NOTES_URL\n"
          ],
          "name": "stderr"
        }
      ]
    },
    {
      "cell_type": "markdown",
      "metadata": {
        "id": "4T8bUfvJ4v2U",
        "colab_type": "text"
      },
      "source": [
        "# Carregando Notícias"
      ]
    },
    {
      "cell_type": "code",
      "metadata": {
        "id": "OoOuFr215FZH",
        "colab_type": "code",
        "colab": {
          "base_uri": "https://localhost:8080/",
          "height": 204
        },
        "outputId": "f2f993c9-afde-4900-fb27-47f0774ea890"
      },
      "source": [
        "news = pd.read_csv('https://raw.githubusercontent.com/velmer/retrieval-information/master/lab-06/results.csv', usecols=['title'])\n",
        "news.head(5)"
      ],
      "execution_count": 103,
      "outputs": [
        {
          "output_type": "execute_result",
          "data": {
            "text/html": [
              "<div>\n",
              "<style scoped>\n",
              "    .dataframe tbody tr th:only-of-type {\n",
              "        vertical-align: middle;\n",
              "    }\n",
              "\n",
              "    .dataframe tbody tr th {\n",
              "        vertical-align: top;\n",
              "    }\n",
              "\n",
              "    .dataframe thead th {\n",
              "        text-align: right;\n",
              "    }\n",
              "</style>\n",
              "<table border=\"1\" class=\"dataframe\">\n",
              "  <thead>\n",
              "    <tr style=\"text-align: right;\">\n",
              "      <th></th>\n",
              "      <th>title</th>\n",
              "    </tr>\n",
              "  </thead>\n",
              "  <tbody>\n",
              "    <tr>\n",
              "      <th>0</th>\n",
              "      <td>“A sociedade foi Rubens Paiva  não os facínora...</td>\n",
              "    </tr>\n",
              "    <tr>\n",
              "      <th>1</th>\n",
              "      <td>Justiça suspende decisão que proibia Forças Ar...</td>\n",
              "    </tr>\n",
              "    <tr>\n",
              "      <th>2</th>\n",
              "      <td>Governo Bolsonaro prega “negacionismo históric...</td>\n",
              "    </tr>\n",
              "    <tr>\n",
              "      <th>3</th>\n",
              "      <td>Quando os pais de Gabo perceberam que tinham u...</td>\n",
              "    </tr>\n",
              "    <tr>\n",
              "      <th>4</th>\n",
              "      <td>Rádios canadenses banem músicas de Michael Jac...</td>\n",
              "    </tr>\n",
              "  </tbody>\n",
              "</table>\n",
              "</div>"
            ],
            "text/plain": [
              "                                               title\n",
              "0  “A sociedade foi Rubens Paiva  não os facínora...\n",
              "1  Justiça suspende decisão que proibia Forças Ar...\n",
              "2  Governo Bolsonaro prega “negacionismo históric...\n",
              "3  Quando os pais de Gabo perceberam que tinham u...\n",
              "4  Rádios canadenses banem músicas de Michael Jac..."
            ]
          },
          "metadata": {
            "tags": []
          },
          "execution_count": 103
        }
      ]
    },
    {
      "cell_type": "markdown",
      "metadata": {
        "id": "VjYfmISg4ywK",
        "colab_type": "text"
      },
      "source": [
        "# Pré-processamento dos títulas das notícias"
      ]
    },
    {
      "cell_type": "code",
      "metadata": {
        "id": "2G2BGPm_N8T_",
        "colab_type": "code",
        "colab": {}
      },
      "source": [
        "def preprocess_text(text):\n",
        "  preprocessed_text = tknz.tokenize(text)\n",
        "  preprocessed_text = [word for word in preprocessed_text if word.lower() not in stopwords]\n",
        "  return preprocessed_text"
      ],
      "execution_count": 0,
      "outputs": []
    },
    {
      "cell_type": "code",
      "metadata": {
        "id": "Saim7CKO4QzW",
        "colab_type": "code",
        "colab": {
          "base_uri": "https://localhost:8080/",
          "height": 204
        },
        "outputId": "5efb133b-cd86-445f-af7f-bcb82e54588d"
      },
      "source": [
        "news['preprocessed_text'] = news.apply(lambda row: preprocess_text(row['title']), axis=1)\n",
        "news.head(5)"
      ],
      "execution_count": 105,
      "outputs": [
        {
          "output_type": "execute_result",
          "data": {
            "text/html": [
              "<div>\n",
              "<style scoped>\n",
              "    .dataframe tbody tr th:only-of-type {\n",
              "        vertical-align: middle;\n",
              "    }\n",
              "\n",
              "    .dataframe tbody tr th {\n",
              "        vertical-align: top;\n",
              "    }\n",
              "\n",
              "    .dataframe thead th {\n",
              "        text-align: right;\n",
              "    }\n",
              "</style>\n",
              "<table border=\"1\" class=\"dataframe\">\n",
              "  <thead>\n",
              "    <tr style=\"text-align: right;\">\n",
              "      <th></th>\n",
              "      <th>title</th>\n",
              "      <th>preprocessed_text</th>\n",
              "    </tr>\n",
              "  </thead>\n",
              "  <tbody>\n",
              "    <tr>\n",
              "      <th>0</th>\n",
              "      <td>“A sociedade foi Rubens Paiva  não os facínora...</td>\n",
              "      <td>[sociedade, Rubens, Paiva, facínoras, mataram]</td>\n",
              "    </tr>\n",
              "    <tr>\n",
              "      <th>1</th>\n",
              "      <td>Justiça suspende decisão que proibia Forças Ar...</td>\n",
              "      <td>[Justiça, suspende, decisão, proibia, Forças, ...</td>\n",
              "    </tr>\n",
              "    <tr>\n",
              "      <th>2</th>\n",
              "      <td>Governo Bolsonaro prega “negacionismo históric...</td>\n",
              "      <td>[Governo, Bolsonaro, prega, negacionismo, hist...</td>\n",
              "    </tr>\n",
              "    <tr>\n",
              "      <th>3</th>\n",
              "      <td>Quando os pais de Gabo perceberam que tinham u...</td>\n",
              "      <td>[pais, Gabo, perceberam, filho, mentiroso]</td>\n",
              "    </tr>\n",
              "    <tr>\n",
              "      <th>4</th>\n",
              "      <td>Rádios canadenses banem músicas de Michael Jac...</td>\n",
              "      <td>[Rádios, canadenses, banem, músicas, Michael, ...</td>\n",
              "    </tr>\n",
              "  </tbody>\n",
              "</table>\n",
              "</div>"
            ],
            "text/plain": [
              "                                               title                                  preprocessed_text\n",
              "0  “A sociedade foi Rubens Paiva  não os facínora...     [sociedade, Rubens, Paiva, facínoras, mataram]\n",
              "1  Justiça suspende decisão que proibia Forças Ar...  [Justiça, suspende, decisão, proibia, Forças, ...\n",
              "2  Governo Bolsonaro prega “negacionismo históric...  [Governo, Bolsonaro, prega, negacionismo, hist...\n",
              "3  Quando os pais de Gabo perceberam que tinham u...         [pais, Gabo, perceberam, filho, mentiroso]\n",
              "4  Rádios canadenses banem músicas de Michael Jac...  [Rádios, canadenses, banem, músicas, Michael, ..."
            ]
          },
          "metadata": {
            "tags": []
          },
          "execution_count": 105
        }
      ]
    },
    {
      "cell_type": "markdown",
      "metadata": {
        "id": "C3Mi0DER45IK",
        "colab_type": "text"
      },
      "source": [
        "# Gerando *Word Embeddings*"
      ]
    },
    {
      "cell_type": "code",
      "metadata": {
        "id": "q8uNQ2XQODas",
        "colab_type": "code",
        "colab": {}
      },
      "source": [
        "def get_word_embeddings(text):\n",
        "  text_we = []\n",
        "  for word in text:\n",
        "    try:\n",
        "      text_we.append(model[word])\n",
        "    except:\n",
        "      continue\n",
        "  return text_we"
      ],
      "execution_count": 0,
      "outputs": []
    },
    {
      "cell_type": "code",
      "metadata": {
        "id": "hbgqhu6o76WF",
        "colab_type": "code",
        "outputId": "32eae784-ef84-4c17-ca3b-9dd8fc1f13d0",
        "colab": {
          "base_uri": "https://localhost:8080/",
          "height": 343
        }
      },
      "source": [
        "news['word_embeddings'] = news.apply(lambda row: get_word_embeddings(row['preprocessed_text']), axis=1)\n",
        "news.head(5)"
      ],
      "execution_count": 107,
      "outputs": [
        {
          "output_type": "stream",
          "text": [
            "/usr/local/lib/python3.6/dist-packages/ipykernel_launcher.py:5: DeprecationWarning: Call to deprecated `__getitem__` (Method will be removed in 4.0.0, use self.wv.__getitem__() instead).\n",
            "  \"\"\"\n"
          ],
          "name": "stderr"
        },
        {
          "output_type": "execute_result",
          "data": {
            "text/html": [
              "<div>\n",
              "<style scoped>\n",
              "    .dataframe tbody tr th:only-of-type {\n",
              "        vertical-align: middle;\n",
              "    }\n",
              "\n",
              "    .dataframe tbody tr th {\n",
              "        vertical-align: top;\n",
              "    }\n",
              "\n",
              "    .dataframe thead th {\n",
              "        text-align: right;\n",
              "    }\n",
              "</style>\n",
              "<table border=\"1\" class=\"dataframe\">\n",
              "  <thead>\n",
              "    <tr style=\"text-align: right;\">\n",
              "      <th></th>\n",
              "      <th>title</th>\n",
              "      <th>preprocessed_text</th>\n",
              "      <th>word_embeddings</th>\n",
              "    </tr>\n",
              "  </thead>\n",
              "  <tbody>\n",
              "    <tr>\n",
              "      <th>0</th>\n",
              "      <td>“A sociedade foi Rubens Paiva  não os facínora...</td>\n",
              "      <td>[sociedade, Rubens, Paiva, facínoras, mataram]</td>\n",
              "      <td>[[0.0088292025, -0.1398486, -0.08332149, 0.084...</td>\n",
              "    </tr>\n",
              "    <tr>\n",
              "      <th>1</th>\n",
              "      <td>Justiça suspende decisão que proibia Forças Ar...</td>\n",
              "      <td>[Justiça, suspende, decisão, proibia, Forças, ...</td>\n",
              "      <td>[[-0.018364985, 0.017337892, 0.02463759, 0.033...</td>\n",
              "    </tr>\n",
              "    <tr>\n",
              "      <th>2</th>\n",
              "      <td>Governo Bolsonaro prega “negacionismo históric...</td>\n",
              "      <td>[Governo, Bolsonaro, prega, negacionismo, hist...</td>\n",
              "      <td>[[0.0646153, -0.01434645, -0.076051675, -0.053...</td>\n",
              "    </tr>\n",
              "    <tr>\n",
              "      <th>3</th>\n",
              "      <td>Quando os pais de Gabo perceberam que tinham u...</td>\n",
              "      <td>[pais, Gabo, perceberam, filho, mentiroso]</td>\n",
              "      <td>[[-0.032860883, 0.03092446, -0.027608456, -0.0...</td>\n",
              "    </tr>\n",
              "    <tr>\n",
              "      <th>4</th>\n",
              "      <td>Rádios canadenses banem músicas de Michael Jac...</td>\n",
              "      <td>[Rádios, canadenses, banem, músicas, Michael, ...</td>\n",
              "      <td>[[-0.021029595, 0.06848933, 0.013900012, -0.03...</td>\n",
              "    </tr>\n",
              "  </tbody>\n",
              "</table>\n",
              "</div>"
            ],
            "text/plain": [
              "                                               title  ...                                    word_embeddings\n",
              "0  “A sociedade foi Rubens Paiva  não os facínora...  ...  [[0.0088292025, -0.1398486, -0.08332149, 0.084...\n",
              "1  Justiça suspende decisão que proibia Forças Ar...  ...  [[-0.018364985, 0.017337892, 0.02463759, 0.033...\n",
              "2  Governo Bolsonaro prega “negacionismo históric...  ...  [[0.0646153, -0.01434645, -0.076051675, -0.053...\n",
              "3  Quando os pais de Gabo perceberam que tinham u...  ...  [[-0.032860883, 0.03092446, -0.027608456, -0.0...\n",
              "4  Rádios canadenses banem músicas de Michael Jac...  ...  [[-0.021029595, 0.06848933, 0.013900012, -0.03...\n",
              "\n",
              "[5 rows x 3 columns]"
            ]
          },
          "metadata": {
            "tags": []
          },
          "execution_count": 107
        }
      ]
    },
    {
      "cell_type": "markdown",
      "metadata": {
        "id": "XkOdO_7r4_Iq",
        "colab_type": "text"
      },
      "source": [
        "# Cálculo do WMD"
      ]
    },
    {
      "cell_type": "code",
      "metadata": {
        "id": "SX2MoMynOKE7",
        "colab_type": "code",
        "colab": {}
      },
      "source": [
        "from math import inf\n",
        "from math import sqrt\n",
        "\n",
        "def calculate_wmd(news1, news2):\n",
        "  wmd = 0\n",
        "  for we1 in news1.word_embeddings:\n",
        "    min_dist = inf\n",
        "    for we2 in news2.word_embeddings:\n",
        "      min_dist = min(min_dist, sqrt(sum((we1 - we2) ** 2)))\n",
        "    wmd += (min_dist / float(len(news1.word_embeddings)))\n",
        "  return wmd"
      ],
      "execution_count": 0,
      "outputs": []
    },
    {
      "cell_type": "code",
      "metadata": {
        "id": "VWQ0cRN15pqy",
        "colab_type": "code",
        "colab": {}
      },
      "source": [
        "news1 = news.iloc[0]\n",
        "news2 = news.iloc[1]\n",
        "assert calculate_wmd(news1, news1) == 0\n",
        "assert calculate_wmd(news2, news2) == 0\n",
        "assert calculate_wmd(news1, news2) != 0"
      ],
      "execution_count": 0,
      "outputs": []
    },
    {
      "cell_type": "markdown",
      "metadata": {
        "id": "J6HofINO5YIT",
        "colab_type": "text"
      },
      "source": [
        "# Top-3 notícias mais similares"
      ]
    },
    {
      "cell_type": "code",
      "metadata": {
        "id": "oVSK8WiN5iZE",
        "colab_type": "code",
        "colab": {}
      },
      "source": [
        "def find_top3_similar_news(base_news):\n",
        "  distances_to_every_other_news = []\n",
        "  for index, current_news in news.iterrows():\n",
        "    if base_news.title != current_news.title:\n",
        "      distance = calculate_wmd(base_news, current_news)\n",
        "      distances_to_every_other_news.append((index, distance))\n",
        "  distances_to_every_other_news.sort(key=lambda t: t[1])\n",
        "  return distances_to_every_other_news[:3]"
      ],
      "execution_count": 0,
      "outputs": []
    },
    {
      "cell_type": "code",
      "metadata": {
        "id": "wWjEH9Vo-9IZ",
        "colab_type": "code",
        "colab": {
          "base_uri": "https://localhost:8080/",
          "height": 176
        },
        "outputId": "1ecd8efa-f9b5-4b0b-cd50-98aeabd112b7"
      },
      "source": [
        "base_news = news.iloc[2]\n",
        "print(\"Notícia base:\", base_news.title)\n",
        "print()\n",
        "\n",
        "assert calculate_wmd(base_news, base_news) == 0\n",
        "\n",
        "top3_similar_news = find_top3_similar_news(base_news)\n",
        "\n",
        "top3_similar_news_indexes = list(map(lambda n: n[0], top3_similar_news))\n",
        "top3_similar_news_wmds = list(map(lambda n: n[1], top3_similar_news))\n",
        "top3_similar_news_titles = list(map(lambda i: news.iloc[i].title, top3_similar_news_indexes))\n",
        "\n",
        "top3_similar_news_data = {\n",
        "    'Índice': top3_similar_news_indexes,\n",
        "    'WMD': top3_similar_news_wmds,\n",
        "    'Título': top3_similar_news_titles,\n",
        "}\n",
        "\n",
        "top3_similar_news_df = pd.DataFrame(data=top3_similar_news_data)\n",
        "top3_similar_news_df.index += 1\n",
        "pd.set_option('display.max_colwidth', -1)\n",
        "top3_similar_news_df"
      ],
      "execution_count": 133,
      "outputs": [
        {
          "output_type": "stream",
          "text": [
            "Notícia base: Governo Bolsonaro prega “negacionismo histórico” sobre a ditadura\n",
            "\n"
          ],
          "name": "stdout"
        },
        {
          "output_type": "execute_result",
          "data": {
            "text/html": [
              "<div>\n",
              "<style scoped>\n",
              "    .dataframe tbody tr th:only-of-type {\n",
              "        vertical-align: middle;\n",
              "    }\n",
              "\n",
              "    .dataframe tbody tr th {\n",
              "        vertical-align: top;\n",
              "    }\n",
              "\n",
              "    .dataframe thead th {\n",
              "        text-align: right;\n",
              "    }\n",
              "</style>\n",
              "<table border=\"1\" class=\"dataframe\">\n",
              "  <thead>\n",
              "    <tr style=\"text-align: right;\">\n",
              "      <th></th>\n",
              "      <th>Índice</th>\n",
              "      <th>WMD</th>\n",
              "      <th>Título</th>\n",
              "    </tr>\n",
              "  </thead>\n",
              "  <tbody>\n",
              "    <tr>\n",
              "      <th>1</th>\n",
              "      <td>170</td>\n",
              "      <td>0.834816</td>\n",
              "      <td>A história não pode ser apagada ou reescrita. Lembrar que houve ditadura valoriza as conquistas de hoje</td>\n",
              "    </tr>\n",
              "    <tr>\n",
              "      <th>2</th>\n",
              "      <td>76</td>\n",
              "      <td>0.869985</td>\n",
              "      <td>Trump reconhece soberania de Israel sobre as Colinas de Golã</td>\n",
              "    </tr>\n",
              "    <tr>\n",
              "      <th>3</th>\n",
              "      <td>184</td>\n",
              "      <td>0.873941</td>\n",
              "      <td>Reforma europeia garante direitos de autor na Internet  mas levanta receios sobre liberdade</td>\n",
              "    </tr>\n",
              "  </tbody>\n",
              "</table>\n",
              "</div>"
            ],
            "text/plain": [
              "   Índice  ...                                                                                                   Título\n",
              "1  170     ...  A história não pode ser apagada ou reescrita. Lembrar que houve ditadura valoriza as conquistas de hoje\n",
              "2  76      ...  Trump reconhece soberania de Israel sobre as Colinas de Golã                                           \n",
              "3  184     ...  Reforma europeia garante direitos de autor na Internet  mas levanta receios sobre liberdade            \n",
              "\n",
              "[3 rows x 3 columns]"
            ]
          },
          "metadata": {
            "tags": []
          },
          "execution_count": 133
        }
      ]
    },
    {
      "cell_type": "markdown",
      "metadata": {
        "id": "WB-CWArO5Zr5",
        "colab_type": "text"
      },
      "source": [
        "Os resultados foram satisfatórios, visto que a notícia que teve a menor distância é a única do Top 3 que possui uma palavra igual a da notícia base: \"ditadura\". Além disso, na notícia base temos a palavra \"histórico\" enquanto o 1º lugar possui \"história\", as quais são palavras com significado e escrita bem próximas.\n",
        "\n",
        "O 2º lugar menciona Trump, presidente dos EUA, enquanto a notícia base menciona o governo Bolsonaro, presidente do Brasil, ambos os termos no papel de sujeito da frase, o que teve um efeito importante no cálcula da distância entre as duas frases.\n",
        "\n",
        "Já o 3º lugar, como esperado, é o que menos se aproxima da notícia base. Porém, similar ao caso do 2º lugar, também possui uma entidade relacionada ao governo - \"Reforma europeia\" - como sujeito na frase. Além disso, possui o trecho \"receios sobre liberdade\", o que faz sentido quando comparamos com a notícia base, a qual menciona a palavra \"ditadura\"."
      ]
    },
    {
      "cell_type": "markdown",
      "metadata": {
        "id": "0w9rlys4CkAR",
        "colab_type": "text"
      },
      "source": [
        "### Comparando notícia base com uma notícia pouco similar"
      ]
    },
    {
      "cell_type": "code",
      "metadata": {
        "id": "NNsI4tRCB1Cq",
        "colab_type": "code",
        "colab": {
          "base_uri": "https://localhost:8080/",
          "height": 80
        },
        "outputId": "d8fed00c-2ddc-4660-e2a2-0e522f27527c"
      },
      "source": [
        "NOT_SIMILAR_INDEX = 93\n",
        "not_similar_news = news.iloc[NOT_SIMILAR_INDEX]\n",
        "wmd_not_similar = calculate_wmd(base_news, not_similar_news)\n",
        "\n",
        "not_similar_news_data = {\n",
        "    'Índice': [NOT_SIMILAR_INDEX],\n",
        "    'WMD': [wmd_not_similar],\n",
        "    'Título': [not_similar_news.title],\n",
        "}\n",
        "\n",
        "not_similar_news_df = pd.DataFrame(data=not_similar_news_data)\n",
        "not_similar_news_df.index += 1\n",
        "pd.set_option('display.max_colwidth', -1)\n",
        "not_similar_news_df"
      ],
      "execution_count": 142,
      "outputs": [
        {
          "output_type": "execute_result",
          "data": {
            "text/html": [
              "<div>\n",
              "<style scoped>\n",
              "    .dataframe tbody tr th:only-of-type {\n",
              "        vertical-align: middle;\n",
              "    }\n",
              "\n",
              "    .dataframe tbody tr th {\n",
              "        vertical-align: top;\n",
              "    }\n",
              "\n",
              "    .dataframe thead th {\n",
              "        text-align: right;\n",
              "    }\n",
              "</style>\n",
              "<table border=\"1\" class=\"dataframe\">\n",
              "  <thead>\n",
              "    <tr style=\"text-align: right;\">\n",
              "      <th></th>\n",
              "      <th>Índice</th>\n",
              "      <th>WMD</th>\n",
              "      <th>Título</th>\n",
              "    </tr>\n",
              "  </thead>\n",
              "  <tbody>\n",
              "    <tr>\n",
              "      <th>1</th>\n",
              "      <td>93</td>\n",
              "      <td>1.441874</td>\n",
              "      <td>24 horas em Gaza</td>\n",
              "    </tr>\n",
              "  </tbody>\n",
              "</table>\n",
              "</div>"
            ],
            "text/plain": [
              "   Índice       WMD            Título\n",
              "1  93      1.441874  24 horas em Gaza"
            ]
          },
          "metadata": {
            "tags": []
          },
          "execution_count": 142
        }
      ]
    },
    {
      "cell_type": "markdown",
      "metadata": {
        "id": "6srKQ4uJDI_Q",
        "colab_type": "text"
      },
      "source": [
        "Quando comparamos a notícia base com uma notícia que possui um título bastante diferente - tamanho, contexto, elementos sintáticos - obtemos um WMD próximo do dobro para as notícias que entraram no Top-3 notícias mais similares."
      ]
    }
  ]
}