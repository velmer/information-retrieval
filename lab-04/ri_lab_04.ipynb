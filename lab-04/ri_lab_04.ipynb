{
  "nbformat": 4,
  "nbformat_minor": 0,
  "metadata": {
    "colab": {
      "name": "ri-lab-04.ipynb",
      "version": "0.3.2",
      "provenance": [],
      "collapsed_sections": [],
      "toc_visible": true,
      "include_colab_link": true
    },
    "kernelspec": {
      "name": "python3",
      "display_name": "Python 3"
    }
  },
  "cells": [
    {
      "cell_type": "markdown",
      "metadata": {
        "id": "view-in-github",
        "colab_type": "text"
      },
      "source": [
        "<a href=\"https://colab.research.google.com/github/velmer/retrieval-information/blob/master/lab-04/ri_lab_04.ipynb\" target=\"_parent\"><img src=\"https://colab.research.google.com/assets/colab-badge.svg\" alt=\"Open In Colab\"/></a>"
      ]
    },
    {
      "cell_type": "code",
      "metadata": {
        "id": "bqMViZkbkgzd",
        "colab_type": "code",
        "outputId": "0917f38e-be59-4e81-877c-d052b1a9d7dc",
        "colab": {
          "base_uri": "https://localhost:8080/",
          "height": 119
        }
      },
      "source": [
        "import nltk\n",
        "import time\n",
        "import heapq\n",
        "import pandas as pd\n",
        "from nltk.corpus import stopwords\n",
        "from nltk import word_tokenize\n",
        "\n",
        "nltk.download('rslp')\n",
        "nltk.download('punkt')\n",
        "nltk.download('stopwords')\n",
        "\n",
        "_stopwords = set(stopwords.words('portuguese'))"
      ],
      "execution_count": 6,
      "outputs": [
        {
          "output_type": "stream",
          "text": [
            "[nltk_data] Downloading package rslp to /root/nltk_data...\n",
            "[nltk_data]   Package rslp is already up-to-date!\n",
            "[nltk_data] Downloading package punkt to /root/nltk_data...\n",
            "[nltk_data]   Package punkt is already up-to-date!\n",
            "[nltk_data] Downloading package stopwords to /root/nltk_data...\n",
            "[nltk_data]   Package stopwords is already up-to-date!\n"
          ],
          "name": "stdout"
        }
      ]
    },
    {
      "cell_type": "markdown",
      "metadata": {
        "id": "fJOk5UnJ4b5K",
        "colab_type": "text"
      },
      "source": [
        "#Carregando Coleção"
      ]
    },
    {
      "cell_type": "code",
      "metadata": {
        "id": "P3g12TeT4eQr",
        "colab_type": "code",
        "outputId": "2e64b8ea-9942-49ea-c0ff-1d0a9bfc057d",
        "colab": {
          "base_uri": "https://localhost:8080/",
          "height": 527
        }
      },
      "source": [
        "data = pd.read_csv(\"https://raw.githubusercontent.com/velmer/retrieval-information/master/lab-01/output/results.csv\")\n",
        "data.head()"
      ],
      "execution_count": 7,
      "outputs": [
        {
          "output_type": "execute_result",
          "data": {
            "text/html": [
              "<div>\n",
              "<style scoped>\n",
              "    .dataframe tbody tr th:only-of-type {\n",
              "        vertical-align: middle;\n",
              "    }\n",
              "\n",
              "    .dataframe tbody tr th {\n",
              "        vertical-align: top;\n",
              "    }\n",
              "\n",
              "    .dataframe thead th {\n",
              "        text-align: right;\n",
              "    }\n",
              "</style>\n",
              "<table border=\"1\" class=\"dataframe\">\n",
              "  <thead>\n",
              "    <tr style=\"text-align: right;\">\n",
              "      <th></th>\n",
              "      <th>title</th>\n",
              "      <th>sub_title</th>\n",
              "      <th>author</th>\n",
              "      <th>date</th>\n",
              "      <th>section</th>\n",
              "      <th>text</th>\n",
              "      <th>url</th>\n",
              "    </tr>\n",
              "  </thead>\n",
              "  <tbody>\n",
              "    <tr>\n",
              "      <th>0</th>\n",
              "      <td>VÍDEO – “Estarei nas ruas com a militância do ...</td>\n",
              "      <td>Não possui</td>\n",
              "      <td>Pedro Zambarda de Araujo</td>\n",
              "      <td>05/04/2019 22:44:19</td>\n",
              "      <td>Não possui</td>\n",
              "      <td>Não ficaremos calados diante da injustiça. Lul...</td>\n",
              "      <td>https://www.diariodocentrodomundo.com.br/video...</td>\n",
              "    </tr>\n",
              "    <tr>\n",
              "      <th>1</th>\n",
              "      <td>Essencial do DCM – Bolsonaro diz que não nasce...</td>\n",
              "      <td>Não possui</td>\n",
              "      <td>Pedro Zambarda de Araujo</td>\n",
              "      <td>05/04/2019 21:00:02</td>\n",
              "      <td>Não possui</td>\n",
              "      <td>O jornalismo do DCM precisa de você para conti...</td>\n",
              "      <td>https://www.diariodocentrodomundo.com.br/essen...</td>\n",
              "    </tr>\n",
              "    <tr>\n",
              "      <th>2</th>\n",
              "      <td>Conheça o deputado árabe que pode derrubar o p...</td>\n",
              "      <td>Não possui</td>\n",
              "      <td>Diario do Centro do Mundo</td>\n",
              "      <td>05/04/2019 22:00:56</td>\n",
              "      <td>Não possui</td>\n",
              "      <td>A revista francesa L’Obs desta semana traz um ...</td>\n",
              "      <td>https://www.diariodocentrodomundo.com.br/conhe...</td>\n",
              "    </tr>\n",
              "    <tr>\n",
              "      <th>3</th>\n",
              "      <td>VÍDEO – Guedes, as tchutchucas e a lacrada des...</td>\n",
              "      <td>Não possui</td>\n",
              "      <td>Nathalí Macedo</td>\n",
              "      <td>05/04/2019 16:23:14</td>\n",
              "      <td>Não possui</td>\n",
              "      <td>O jornalismo do DCM precisa de você para conti...</td>\n",
              "      <td>https://www.diariodocentrodomundo.com.br/video...</td>\n",
              "    </tr>\n",
              "    <tr>\n",
              "      <th>4</th>\n",
              "      <td>O que está por trás da articulação para Lula t...</td>\n",
              "      <td>Não possui</td>\n",
              "      <td>Joaquim de Carvalho</td>\n",
              "      <td>05/04/2019 21:42:17</td>\n",
              "      <td>Não possui</td>\n",
              "      <td>Veja o vídeo “Foi para isso que prenderam o Lu...</td>\n",
              "      <td>https://www.diariodocentrodomundo.com.br/o-que...</td>\n",
              "    </tr>\n",
              "  </tbody>\n",
              "</table>\n",
              "</div>"
            ],
            "text/plain": [
              "                                               title  ...                                                url\n",
              "0  VÍDEO – “Estarei nas ruas com a militância do ...  ...  https://www.diariodocentrodomundo.com.br/video...\n",
              "1  Essencial do DCM – Bolsonaro diz que não nasce...  ...  https://www.diariodocentrodomundo.com.br/essen...\n",
              "2  Conheça o deputado árabe que pode derrubar o p...  ...  https://www.diariodocentrodomundo.com.br/conhe...\n",
              "3  VÍDEO – Guedes, as tchutchucas e a lacrada des...  ...  https://www.diariodocentrodomundo.com.br/video...\n",
              "4  O que está por trás da articulação para Lula t...  ...  https://www.diariodocentrodomundo.com.br/o-que...\n",
              "\n",
              "[5 rows x 7 columns]"
            ]
          },
          "metadata": {
            "tags": []
          },
          "execution_count": 7
        }
      ]
    },
    {
      "cell_type": "markdown",
      "metadata": {
        "id": "xYVMXPLy4kgj",
        "colab_type": "text"
      },
      "source": [
        "# Questão 1"
      ]
    },
    {
      "cell_type": "code",
      "metadata": {
        "id": "T-15_sJNCmti",
        "colab_type": "code",
        "outputId": "cdd91949-0f33-4765-8207-a48664322458",
        "colab": {
          "base_uri": "https://localhost:8080/",
          "height": 204
        }
      },
      "source": [
        "\n",
        "tokenData = pd.DataFrame(data['text'], columns=['text'])\n",
        "tokenData['tokenized_text'] = data.apply(lambda row: nltk.word_tokenize(row['text'].lower(), language='portuguese'), axis=1)\n",
        "tokenData.head()"
      ],
      "execution_count": 8,
      "outputs": [
        {
          "output_type": "execute_result",
          "data": {
            "text/html": [
              "<div>\n",
              "<style scoped>\n",
              "    .dataframe tbody tr th:only-of-type {\n",
              "        vertical-align: middle;\n",
              "    }\n",
              "\n",
              "    .dataframe tbody tr th {\n",
              "        vertical-align: top;\n",
              "    }\n",
              "\n",
              "    .dataframe thead th {\n",
              "        text-align: right;\n",
              "    }\n",
              "</style>\n",
              "<table border=\"1\" class=\"dataframe\">\n",
              "  <thead>\n",
              "    <tr style=\"text-align: right;\">\n",
              "      <th></th>\n",
              "      <th>text</th>\n",
              "      <th>tokenized_text</th>\n",
              "    </tr>\n",
              "  </thead>\n",
              "  <tbody>\n",
              "    <tr>\n",
              "      <th>0</th>\n",
              "      <td>Não ficaremos calados diante da injustiça. Lul...</td>\n",
              "      <td>[não, ficaremos, calados, diante, da, injustiç...</td>\n",
              "    </tr>\n",
              "    <tr>\n",
              "      <th>1</th>\n",
              "      <td>O jornalismo do DCM precisa de você para conti...</td>\n",
              "      <td>[o, jornalismo, do, dcm, precisa, de, você, pa...</td>\n",
              "    </tr>\n",
              "    <tr>\n",
              "      <th>2</th>\n",
              "      <td>A revista francesa L’Obs desta semana traz um ...</td>\n",
              "      <td>[a, revista, francesa, l, ’, obs, desta, seman...</td>\n",
              "    </tr>\n",
              "    <tr>\n",
              "      <th>3</th>\n",
              "      <td>O jornalismo do DCM precisa de você para conti...</td>\n",
              "      <td>[o, jornalismo, do, dcm, precisa, de, você, pa...</td>\n",
              "    </tr>\n",
              "    <tr>\n",
              "      <th>4</th>\n",
              "      <td>Veja o vídeo “Foi para isso que prenderam o Lu...</td>\n",
              "      <td>[veja, o, vídeo, “, foi, para, isso, que, pren...</td>\n",
              "    </tr>\n",
              "  </tbody>\n",
              "</table>\n",
              "</div>"
            ],
            "text/plain": [
              "                                                text                                     tokenized_text\n",
              "0  Não ficaremos calados diante da injustiça. Lul...  [não, ficaremos, calados, diante, da, injustiç...\n",
              "1  O jornalismo do DCM precisa de você para conti...  [o, jornalismo, do, dcm, precisa, de, você, pa...\n",
              "2  A revista francesa L’Obs desta semana traz um ...  [a, revista, francesa, l, ’, obs, desta, seman...\n",
              "3  O jornalismo do DCM precisa de você para conti...  [o, jornalismo, do, dcm, precisa, de, você, pa...\n",
              "4  Veja o vídeo “Foi para isso que prenderam o Lu...  [veja, o, vídeo, “, foi, para, isso, que, pren..."
            ]
          },
          "metadata": {
            "tags": []
          },
          "execution_count": 8
        }
      ]
    },
    {
      "cell_type": "code",
      "metadata": {
        "id": "3gu2feJKL8v2",
        "colab_type": "code",
        "colab": {}
      },
      "source": [
        "def is_tokenized_word(word):\n",
        "  \"\"\"\n",
        "    Returns if the specified word matches all requirements\n",
        "    to be a valid token.\n",
        "  \"\"\"\n",
        "  return len(word) > 1 and any(c.isalnum() for c in word)"
      ],
      "execution_count": 0,
      "outputs": []
    },
    {
      "cell_type": "code",
      "metadata": {
        "id": "cS09w7OQ4m9x",
        "colab_type": "code",
        "colab": {}
      },
      "source": [
        "def build_index():\n",
        "  index = {}\n",
        "  num_document = 0\n",
        "\n",
        "  for text in tokenData.tokenized_text:\n",
        "    num_document += 1\n",
        "    words_set = set(text)\n",
        "    for word in words_set:\n",
        "      if is_tokenized_word(word) and word.lower() not in _stopwords:\n",
        "        if word not in index.keys():\n",
        "          index[word] = []\n",
        "        index[word].append((num_document, text.count(word)))\n",
        "\n",
        "  return index"
      ],
      "execution_count": 0,
      "outputs": []
    },
    {
      "cell_type": "code",
      "metadata": {
        "id": "GgmfOcEdL9k8",
        "colab_type": "code",
        "outputId": "778de4a2-08f7-4346-d36e-a77b662fc008",
        "colab": {
          "base_uri": "https://localhost:8080/",
          "height": 818
        }
      },
      "source": [
        "indexed_data = pd.DataFrame()\n",
        "index = build_index()\n",
        "indexed_data['Word'] = [word for word in index.keys()]\n",
        "indexed_data['Documents (With Count)'] = [docs for docs in index.values()]\n",
        "indexed_data.to_csv('indexed_data.csv', encoding='utf-8', index=False)\n",
        "indexed_data.head(10)"
      ],
      "execution_count": 13,
      "outputs": [
        {
          "output_type": "execute_result",
          "data": {
            "text/html": [
              "<div>\n",
              "<style scoped>\n",
              "    .dataframe tbody tr th:only-of-type {\n",
              "        vertical-align: middle;\n",
              "    }\n",
              "\n",
              "    .dataframe tbody tr th {\n",
              "        vertical-align: top;\n",
              "    }\n",
              "\n",
              "    .dataframe thead th {\n",
              "        text-align: right;\n",
              "    }\n",
              "</style>\n",
              "<table border=\"1\" class=\"dataframe\">\n",
              "  <thead>\n",
              "    <tr style=\"text-align: right;\">\n",
              "      <th></th>\n",
              "      <th>Word</th>\n",
              "      <th>Documents (With Count)</th>\n",
              "    </tr>\n",
              "  </thead>\n",
              "  <tbody>\n",
              "    <tr>\n",
              "      <th>0</th>\n",
              "      <td>nacional</td>\n",
              "      <td>[(1, 1), (2, 1), (3, 1), (4, 1), (5, 1), (6, 1), (7, 1), (8, 1), (9, 1), (10, 1), (11, 1), (12, 1), (13, 1), (14, 1), (15, 1), (16, 1), (17, 5), (18, 1), (19, 1), (20, 1), (21, 1), (22, 1), (23, 1), (24, 1), (25, 5), (26, 1), (27, 1), (28, 1), (29, 1), (30, 1), (31, 1), (32, 1), (33, 1), (34, 2), (35, 1), (36, 1), (37, 1), (38, 1), (39, 1), (40, 1), (41, 1), (42, 1), (43, 1), (44, 1), (45, 1), (46, 1), (47, 1), (48, 1), (49, 1), (50, 1), (51, 2), (52, 1), (53, 1), (54, 1), (55, 1), (56, 1), (57, 3), (58, 1), (59, 2), (60, 1), (61, 6), (62, 1), (63, 1), (64, 1), (65, 1), (66, 2), (67, 1), (68, 1), (69, 1), (70, 1), (71, 1), (72, 1), (73, 1), (74, 1), (75, 1), (76, 1), (77, 1), (78, 1), (79, 1), (80, 1), (81, 2), (82, 1), (83, 1), (84, 1), (85, 1), (86, 1), (87, 1), (88, 1), (89, 1), (90, 1), (91, 1), (92, 1), (93, 1), (94, 1), (95, 1), (96, 1), (97, 1), (98, 1), (99, 3), (100, 1), ...]</td>\n",
              "    </tr>\n",
              "    <tr>\n",
              "      <th>1</th>\n",
              "      <td>militância</td>\n",
              "      <td>[(1, 1), (25, 1), (108, 1), (309, 1), (407, 4)]</td>\n",
              "    </tr>\n",
              "    <tr>\n",
              "      <th>2</th>\n",
              "      <td>estarei</td>\n",
              "      <td>[(1, 1), (102, 2)]</td>\n",
              "    </tr>\n",
              "    <tr>\n",
              "      <th>3</th>\n",
              "      <td>preso</td>\n",
              "      <td>[(1, 1), (52, 1), (55, 2), (57, 1), (62, 3), (108, 5), (119, 1), (146, 1), (167, 3), (198, 3), (217, 1), (219, 3), (224, 1), (227, 2), (229, 1), (236, 3), (276, 2), (278, 1), (300, 1), (327, 1), (367, 1), (368, 2), (372, 1), (404, 1), (406, 2), (416, 1), (442, 1), (457, 1), (480, 1), (513, 1), (519, 3), (525, 6), (577, 1), (611, 1), (627, 2), (632, 1)]</td>\n",
              "    </tr>\n",
              "    <tr>\n",
              "      <th>4</th>\n",
              "      <td>lula</td>\n",
              "      <td>[(1, 1), (5, 1), (27, 9), (30, 1), (37, 16), (52, 6), (57, 2), (62, 19), (68, 1), (102, 1), (108, 19), (130, 1), (133, 5), (137, 1), (138, 4), (146, 77), (174, 8), (182, 5), (185, 16), (198, 2), (212, 1), (224, 8), (229, 1), (233, 1), (236, 3), (248, 1), (252, 2), (254, 1), (268, 1), (276, 15), (283, 1), (285, 1), (300, 1), (304, 1), (305, 1), (308, 1), (357, 4), (361, 1), (367, 2), (374, 1), (379, 1), (406, 1), (445, 1), (457, 14), (463, 2), (480, 4), (484, 5), (513, 3), (519, 4), (523, 3), (525, 2), (552, 1), (579, 1), (586, 1), (591, 1), (603, 1), (627, 1), (632, 2), (635, 1)]</td>\n",
              "    </tr>\n",
              "    <tr>\n",
              "      <th>5</th>\n",
              "      <td>ponto</td>\n",
              "      <td>[(1, 1), (2, 1), (3, 1), (4, 1), (5, 1), (6, 1), (7, 1), (8, 1), (9, 1), (10, 1), (11, 1), (12, 1), (13, 1), (14, 1), (15, 1), (16, 1), (17, 3), (18, 1), (19, 1), (20, 1), (21, 1), (22, 1), (23, 1), (24, 1), (25, 1), (26, 1), (27, 2), (28, 2), (29, 1), (30, 1), (31, 1), (32, 1), (33, 1), (34, 1), (35, 1), (36, 1), (37, 1), (38, 1), (39, 1), (40, 1), (41, 1), (42, 1), (43, 1), (44, 1), (45, 1), (46, 1), (47, 1), (48, 1), (49, 1), (50, 1), (51, 2), (52, 1), (53, 1), (54, 1), (55, 1), (56, 1), (57, 1), (58, 1), (59, 1), (60, 1), (61, 1), (62, 1), (63, 1), (64, 1), (65, 1), (66, 1), (67, 1), (68, 1), (69, 1), (70, 1), (71, 1), (72, 1), (73, 1), (74, 1), (75, 1), (76, 1), (77, 1), (78, 1), (79, 1), (80, 3), (81, 1), (82, 2), (83, 1), (84, 1), (85, 1), (86, 1), (87, 1), (88, 1), (89, 1), (90, 1), (91, 1), (92, 1), (93, 1), (94, 1), (95, 1), (96, 1), (97, 1), (98, 1), (99, 2), (100, 1), ...]</td>\n",
              "    </tr>\n",
              "    <tr>\n",
              "      <th>6</th>\n",
              "      <td>ficaremos</td>\n",
              "      <td>[(1, 1)]</td>\n",
              "    </tr>\n",
              "    <tr>\n",
              "      <th>7</th>\n",
              "      <td>bolsonaro</td>\n",
              "      <td>[(1, 1), (6, 1), (10, 16), (11, 1), (13, 3), (15, 1), (17, 7), (19, 1), (25, 1), (27, 15), (28, 1), (29, 1), (30, 4), (37, 1), (46, 1), (48, 2), (51, 3), (52, 1), (57, 14), (59, 5), (66, 1), (68, 1), (71, 4), (72, 1), (77, 1), (81, 4), (97, 3), (98, 2), (99, 6), (104, 3), (113, 1), (114, 6), (121, 6), (123, 1), (129, 1), (130, 1), (133, 1), (135, 1), (136, 1), (138, 9), (145, 4), (146, 1), (147, 6), (153, 1), (157, 1), (166, 3), (167, 1), (171, 3), (174, 5), (177, 1), (182, 6), (185, 1), (187, 3), (192, 5), (193, 2), (194, 2), (195, 1), (208, 2), (212, 6), (214, 4), (223, 3), (226, 1), (229, 7), (232, 4), (233, 1), (235, 2), (236, 7), (238, 1), (239, 4), (241, 1), (243, 4), (246, 1), (248, 1), (249, 3), (250, 5), (251, 1), (252, 4), (255, 7), (256, 2), (263, 1), (264, 3), (268, 4), (277, 4), (278, 3), (279, 3), (282, 8), (283, 4), (285, 3), (288, 1), (289, 11), (297, 10), (300, 1), (303, 1), (304, 1), (306, 4), (308, 2), (309, 10), (315, 2), (316, 1), (319, 1), ...]</td>\n",
              "    </tr>\n",
              "    <tr>\n",
              "      <th>8</th>\n",
              "      <td>alterar</td>\n",
              "      <td>[(1, 1), (210, 1), (229, 1), (243, 1)]</td>\n",
              "    </tr>\n",
              "    <tr>\n",
              "      <th>9</th>\n",
              "      <td>neste</td>\n",
              "      <td>[(1, 1), (33, 2), (48, 1), (52, 1), (61, 3), (62, 2), (71, 3), (72, 1), (80, 1), (102, 1), (114, 3), (124, 2), (134, 1), (138, 2), (153, 1), (166, 3), (174, 2), (185, 2), (192, 1), (200, 1), (219, 1), (223, 2), (236, 1), (237, 1), (243, 1), (255, 2), (279, 1), (306, 1), (322, 1), (324, 1), (331, 1), (380, 1), (394, 1), (399, 1), (407, 1), (454, 1), (477, 1), (496, 2), (502, 1), (519, 2), (525, 1), (542, 1), (550, 1), (569, 1), (582, 1), (583, 2), (603, 1), (625, 1), (633, 1)]</td>\n",
              "    </tr>\n",
              "  </tbody>\n",
              "</table>\n",
              "</div>"
            ],
            "text/plain": [
              "         Word                                                                                                                                                                                                                                                                                                                                                                                                                                                                                                                                                                                                                                                                                                                                                                                                                                                                                                                                                                                                Documents (With Count)\n",
              "0  nacional    [(1, 1), (2, 1), (3, 1), (4, 1), (5, 1), (6, 1), (7, 1), (8, 1), (9, 1), (10, 1), (11, 1), (12, 1), (13, 1), (14, 1), (15, 1), (16, 1), (17, 5), (18, 1), (19, 1), (20, 1), (21, 1), (22, 1), (23, 1), (24, 1), (25, 5), (26, 1), (27, 1), (28, 1), (29, 1), (30, 1), (31, 1), (32, 1), (33, 1), (34, 2), (35, 1), (36, 1), (37, 1), (38, 1), (39, 1), (40, 1), (41, 1), (42, 1), (43, 1), (44, 1), (45, 1), (46, 1), (47, 1), (48, 1), (49, 1), (50, 1), (51, 2), (52, 1), (53, 1), (54, 1), (55, 1), (56, 1), (57, 3), (58, 1), (59, 2), (60, 1), (61, 6), (62, 1), (63, 1), (64, 1), (65, 1), (66, 2), (67, 1), (68, 1), (69, 1), (70, 1), (71, 1), (72, 1), (73, 1), (74, 1), (75, 1), (76, 1), (77, 1), (78, 1), (79, 1), (80, 1), (81, 2), (82, 1), (83, 1), (84, 1), (85, 1), (86, 1), (87, 1), (88, 1), (89, 1), (90, 1), (91, 1), (92, 1), (93, 1), (94, 1), (95, 1), (96, 1), (97, 1), (98, 1), (99, 3), (100, 1), ...]                                                                                   \n",
              "1  militância  [(1, 1), (25, 1), (108, 1), (309, 1), (407, 4)]                                                                                                                                                                                                                                                                                                                                                                                                                                                                                                                                                                                                                                                                                                                                                                                                                                                                                                                                                                     \n",
              "2  estarei     [(1, 1), (102, 2)]                                                                                                                                                                                                                                                                                                                                                                                                                                                                                                                                                                                                                                                                                                                                                                                                                                                                                                                                                                                                  \n",
              "3  preso       [(1, 1), (52, 1), (55, 2), (57, 1), (62, 3), (108, 5), (119, 1), (146, 1), (167, 3), (198, 3), (217, 1), (219, 3), (224, 1), (227, 2), (229, 1), (236, 3), (276, 2), (278, 1), (300, 1), (327, 1), (367, 1), (368, 2), (372, 1), (404, 1), (406, 2), (416, 1), (442, 1), (457, 1), (480, 1), (513, 1), (519, 3), (525, 6), (577, 1), (611, 1), (627, 2), (632, 1)]                                                                                                                                                                                                                                                                                                                                                                                                                                                                                                                                                                                                                                                  \n",
              "4  lula        [(1, 1), (5, 1), (27, 9), (30, 1), (37, 16), (52, 6), (57, 2), (62, 19), (68, 1), (102, 1), (108, 19), (130, 1), (133, 5), (137, 1), (138, 4), (146, 77), (174, 8), (182, 5), (185, 16), (198, 2), (212, 1), (224, 8), (229, 1), (233, 1), (236, 3), (248, 1), (252, 2), (254, 1), (268, 1), (276, 15), (283, 1), (285, 1), (300, 1), (304, 1), (305, 1), (308, 1), (357, 4), (361, 1), (367, 2), (374, 1), (379, 1), (406, 1), (445, 1), (457, 14), (463, 2), (480, 4), (484, 5), (513, 3), (519, 4), (523, 3), (525, 2), (552, 1), (579, 1), (586, 1), (591, 1), (603, 1), (627, 1), (632, 2), (635, 1)]                                                                                                                                                                                                                                                                                                                                                                                                          \n",
              "5  ponto       [(1, 1), (2, 1), (3, 1), (4, 1), (5, 1), (6, 1), (7, 1), (8, 1), (9, 1), (10, 1), (11, 1), (12, 1), (13, 1), (14, 1), (15, 1), (16, 1), (17, 3), (18, 1), (19, 1), (20, 1), (21, 1), (22, 1), (23, 1), (24, 1), (25, 1), (26, 1), (27, 2), (28, 2), (29, 1), (30, 1), (31, 1), (32, 1), (33, 1), (34, 1), (35, 1), (36, 1), (37, 1), (38, 1), (39, 1), (40, 1), (41, 1), (42, 1), (43, 1), (44, 1), (45, 1), (46, 1), (47, 1), (48, 1), (49, 1), (50, 1), (51, 2), (52, 1), (53, 1), (54, 1), (55, 1), (56, 1), (57, 1), (58, 1), (59, 1), (60, 1), (61, 1), (62, 1), (63, 1), (64, 1), (65, 1), (66, 1), (67, 1), (68, 1), (69, 1), (70, 1), (71, 1), (72, 1), (73, 1), (74, 1), (75, 1), (76, 1), (77, 1), (78, 1), (79, 1), (80, 3), (81, 1), (82, 2), (83, 1), (84, 1), (85, 1), (86, 1), (87, 1), (88, 1), (89, 1), (90, 1), (91, 1), (92, 1), (93, 1), (94, 1), (95, 1), (96, 1), (97, 1), (98, 1), (99, 2), (100, 1), ...]                                                                                   \n",
              "6  ficaremos   [(1, 1)]                                                                                                                                                                                                                                                                                                                                                                                                                                                                                                                                                                                                                                                                                                                                                                                                                                                                                                                                                                                                            \n",
              "7  bolsonaro   [(1, 1), (6, 1), (10, 16), (11, 1), (13, 3), (15, 1), (17, 7), (19, 1), (25, 1), (27, 15), (28, 1), (29, 1), (30, 4), (37, 1), (46, 1), (48, 2), (51, 3), (52, 1), (57, 14), (59, 5), (66, 1), (68, 1), (71, 4), (72, 1), (77, 1), (81, 4), (97, 3), (98, 2), (99, 6), (104, 3), (113, 1), (114, 6), (121, 6), (123, 1), (129, 1), (130, 1), (133, 1), (135, 1), (136, 1), (138, 9), (145, 4), (146, 1), (147, 6), (153, 1), (157, 1), (166, 3), (167, 1), (171, 3), (174, 5), (177, 1), (182, 6), (185, 1), (187, 3), (192, 5), (193, 2), (194, 2), (195, 1), (208, 2), (212, 6), (214, 4), (223, 3), (226, 1), (229, 7), (232, 4), (233, 1), (235, 2), (236, 7), (238, 1), (239, 4), (241, 1), (243, 4), (246, 1), (248, 1), (249, 3), (250, 5), (251, 1), (252, 4), (255, 7), (256, 2), (263, 1), (264, 3), (268, 4), (277, 4), (278, 3), (279, 3), (282, 8), (283, 4), (285, 3), (288, 1), (289, 11), (297, 10), (300, 1), (303, 1), (304, 1), (306, 4), (308, 2), (309, 10), (315, 2), (316, 1), (319, 1), ...]\n",
              "8  alterar     [(1, 1), (210, 1), (229, 1), (243, 1)]                                                                                                                                                                                                                                                                                                                                                                                                                                                                                                                                                                                                                                                                                                                                                                                                                                                                                                                                                                              \n",
              "9  neste       [(1, 1), (33, 2), (48, 1), (52, 1), (61, 3), (62, 2), (71, 3), (72, 1), (80, 1), (102, 1), (114, 3), (124, 2), (134, 1), (138, 2), (153, 1), (166, 3), (174, 2), (185, 2), (192, 1), (200, 1), (219, 1), (223, 2), (236, 1), (237, 1), (243, 1), (255, 2), (279, 1), (306, 1), (322, 1), (324, 1), (331, 1), (380, 1), (394, 1), (399, 1), (407, 1), (454, 1), (477, 1), (496, 2), (502, 1), (519, 2), (525, 1), (542, 1), (550, 1), (569, 1), (582, 1), (583, 2), (603, 1), (625, 1), (633, 1)]                                                                                                                                                                                                                                                                                                                                                                                                                                                                                                                    "
            ]
          },
          "metadata": {
            "tags": []
          },
          "execution_count": 13
        }
      ]
    },
    {
      "cell_type": "markdown",
      "metadata": {
        "id": "ls-1TuFSOFlZ",
        "colab_type": "text"
      },
      "source": [
        "# Questão 2"
      ]
    },
    {
      "cell_type": "code",
      "metadata": {
        "id": "aKqnf55nOHhq",
        "colab_type": "code",
        "colab": {}
      },
      "source": [
        "def document_at_time(query, index, k):\n",
        "    document_count_list = []\n",
        "    r = []\n",
        "    for word in query.split():\n",
        "        document_count_list.append(index[word])\n",
        "    for document_pos in range(1, len(data) + 1):\n",
        "        sd = 0\n",
        "        for document_count in document_count_list:\n",
        "            for i in document_count:\n",
        "                if (i[0] == document_pos):\n",
        "                    sd += i[1]\n",
        "                    break\n",
        "        if (sd != 0):\n",
        "          heapq.heappush(r, (sd, document_pos))\n",
        "    \n",
        "    return heapq.nlargest(k, r)\n",
        "  \n",
        "def term_at_time(query, index, k):\n",
        "    a = {}\n",
        "    document_count_list = []\n",
        "    r = []\n",
        "    for word in query.split():\n",
        "        document_count_list.append(index[word])\n",
        "    for document_count in document_count_list:\n",
        "        for post in document_count:\n",
        "            d = post[0]\n",
        "            freq = post[1]\n",
        "            if (d in a.keys()):\n",
        "                a[d] += freq\n",
        "            else:\n",
        "                a[d] = freq\n",
        "    for (d, ad) in a.items():\n",
        "        sd = ad\n",
        "        heapq.heappush(r, (sd, d))\n",
        "\n",
        "    return heapq.nlargest(k, r)"
      ],
      "execution_count": 0,
      "outputs": []
    },
    {
      "cell_type": "code",
      "metadata": {
        "id": "Egx44Yb2Q_kb",
        "colab_type": "code",
        "outputId": "ef17c54e-3b54-471a-f2db-eeb3b06b5509",
        "colab": {
          "base_uri": "https://localhost:8080/",
          "height": 306
        }
      },
      "source": [
        "queries = [\"presidente\", \"bolsonaro\", \"país\", \"futebol\", \"site\"]\n",
        "k = 10\n",
        "results_doc = []\n",
        "results_term = []\n",
        "\n",
        "for query in queries:\n",
        "  score_doc = document_at_time(query, index, k)\n",
        "  results_doc.append(score_doc)\n",
        "  score_term = term_at_time(query, index, k)\n",
        "  results_term.append(score_term)\n",
        "\n",
        "queries_df = pd.DataFrame()\n",
        "queries_df['Consulta'] = queries\n",
        "queries_df['Documento por vez'] = results_doc\n",
        "queries_df['Termo por vez'] = results_term\n",
        "queries_df['Mesmo resultado'] = queries_df['Documento por vez'] == queries_df['Documento por vez']\n",
        "queries_df"
      ],
      "execution_count": 0,
      "outputs": [
        {
          "output_type": "execute_result",
          "data": {
            "text/html": [
              "<div>\n",
              "<style scoped>\n",
              "    .dataframe tbody tr th:only-of-type {\n",
              "        vertical-align: middle;\n",
              "    }\n",
              "\n",
              "    .dataframe tbody tr th {\n",
              "        vertical-align: top;\n",
              "    }\n",
              "\n",
              "    .dataframe thead th {\n",
              "        text-align: right;\n",
              "    }\n",
              "</style>\n",
              "<table border=\"1\" class=\"dataframe\">\n",
              "  <thead>\n",
              "    <tr style=\"text-align: right;\">\n",
              "      <th></th>\n",
              "      <th>Consulta</th>\n",
              "      <th>Documento por vez</th>\n",
              "      <th>Termo por vez</th>\n",
              "      <th>Mesmo resultado</th>\n",
              "    </tr>\n",
              "  </thead>\n",
              "  <tbody>\n",
              "    <tr>\n",
              "      <th>0</th>\n",
              "      <td>presidente</td>\n",
              "      <td>[(13, 525), (12, 583), (11, 57), (10, 514), (9, 61), (9, 17), (8, 138), (8, 51), (8, 27), (7, 471)]</td>\n",
              "      <td>[(13, 525), (12, 583), (11, 57), (10, 514), (9, 61), (9, 17), (8, 138), (8, 51), (8, 27), (7, 471)]</td>\n",
              "      <td>True</td>\n",
              "    </tr>\n",
              "    <tr>\n",
              "      <th>1</th>\n",
              "      <td>bolsonaro</td>\n",
              "      <td>[(17, 577), (16, 10), (15, 27), (14, 57), (12, 627), (12, 526), (11, 289), (10, 514), (10, 309), (10, 297)]</td>\n",
              "      <td>[(17, 577), (16, 10), (15, 27), (14, 57), (12, 627), (12, 526), (11, 289), (10, 514), (10, 309), (10, 297)]</td>\n",
              "      <td>True</td>\n",
              "    </tr>\n",
              "    <tr>\n",
              "      <th>2</th>\n",
              "      <td>país</td>\n",
              "      <td>[(13, 525), (9, 627), (8, 519), (8, 278), (7, 583), (6, 309), (6, 243), (6, 179), (5, 167), (5, 138)]</td>\n",
              "      <td>[(13, 525), (9, 627), (8, 519), (8, 278), (7, 583), (6, 309), (6, 243), (6, 179), (5, 167), (5, 138)]</td>\n",
              "      <td>True</td>\n",
              "    </tr>\n",
              "    <tr>\n",
              "      <th>3</th>\n",
              "      <td>futebol</td>\n",
              "      <td>[(7, 127), (3, 165), (2, 171), (2, 160), (1, 477), (1, 174), (1, 146)]</td>\n",
              "      <td>[(7, 127), (3, 165), (2, 171), (2, 160), (1, 477), (1, 174), (1, 146)]</td>\n",
              "      <td>True</td>\n",
              "    </tr>\n",
              "    <tr>\n",
              "      <th>4</th>\n",
              "      <td>site</td>\n",
              "      <td>[(6, 289), (2, 627), (2, 594), (2, 577), (2, 378), (2, 302), (2, 134), (1, 623), (1, 606), (1, 596)]</td>\n",
              "      <td>[(6, 289), (2, 627), (2, 594), (2, 577), (2, 378), (2, 302), (2, 134), (1, 623), (1, 606), (1, 596)]</td>\n",
              "      <td>True</td>\n",
              "    </tr>\n",
              "  </tbody>\n",
              "</table>\n",
              "</div>"
            ],
            "text/plain": [
              "     Consulta                                                                                            Documento por vez                                                                                                Termo por vez  Mesmo resultado\n",
              "0  presidente  [(13, 525), (12, 583), (11, 57), (10, 514), (9, 61), (9, 17), (8, 138), (8, 51), (8, 27), (7, 471)]          [(13, 525), (12, 583), (11, 57), (10, 514), (9, 61), (9, 17), (8, 138), (8, 51), (8, 27), (7, 471)]          True           \n",
              "1  bolsonaro   [(17, 577), (16, 10), (15, 27), (14, 57), (12, 627), (12, 526), (11, 289), (10, 514), (10, 309), (10, 297)]  [(17, 577), (16, 10), (15, 27), (14, 57), (12, 627), (12, 526), (11, 289), (10, 514), (10, 309), (10, 297)]  True           \n",
              "2  país        [(13, 525), (9, 627), (8, 519), (8, 278), (7, 583), (6, 309), (6, 243), (6, 179), (5, 167), (5, 138)]        [(13, 525), (9, 627), (8, 519), (8, 278), (7, 583), (6, 309), (6, 243), (6, 179), (5, 167), (5, 138)]        True           \n",
              "3  futebol     [(7, 127), (3, 165), (2, 171), (2, 160), (1, 477), (1, 174), (1, 146)]                                       [(7, 127), (3, 165), (2, 171), (2, 160), (1, 477), (1, 174), (1, 146)]                                       True           \n",
              "4  site        [(6, 289), (2, 627), (2, 594), (2, 577), (2, 378), (2, 302), (2, 134), (1, 623), (1, 606), (1, 596)]         [(6, 289), (2, 627), (2, 594), (2, 577), (2, 378), (2, 302), (2, 134), (1, 623), (1, 606), (1, 596)]         True           "
            ]
          },
          "metadata": {
            "tags": []
          },
          "execution_count": 26
        }
      ]
    },
    {
      "cell_type": "code",
      "metadata": {
        "id": "hbB70CtVWc5a",
        "colab_type": "code",
        "outputId": "12702565-7884-4c70-fe85-cdf5c1e8945c",
        "colab": {
          "base_uri": "https://localhost:8080/",
          "height": 51
        }
      },
      "source": [
        "import time\n",
        "        \n",
        "def document_at_time_1000_times_per_query():\n",
        "  for query in queries:\n",
        "    for _ in range(10000):\n",
        "      document_at_time(query, index, k)\n",
        "\n",
        "def term_at_time_1000_times_per_query():\n",
        "  for query in queries:\n",
        "    for _ in range(1000):\n",
        "      term_at_time(query, index, k)\n",
        "      \n",
        "qty_queries_execution = 1000 * 5\n",
        "\n",
        "document_start = time.time()\n",
        "document_at_time_1000_times_per_query()\n",
        "document_time_elapsed = time.time() - document_start\n",
        "document_average_time = document_time_elapsed / qty_queries_execution\n",
        "print(\"Tempo médio para execução de Documento Por Vez: \", document_average_time)\n",
        "\n",
        "term_start = time.time()\n",
        "term_at_time_1000_times_per_query()\n",
        "term_time_elapsed = time.time() - term_start\n",
        "term_average_time = term_time_elapsed / qty_queries_execution\n",
        "print(\"Tempo médio para execução de Termo Por Vez: \", term_average_time)"
      ],
      "execution_count": 0,
      "outputs": [
        {
          "output_type": "stream",
          "text": [
            "Tempo médio para execução de Documento Por Vez:  0.04084352173805237\n",
            "Tempo médio para execução de Termo Por Vez:  0.00010008358955383301\n"
          ],
          "name": "stdout"
        }
      ]
    },
    {
      "cell_type": "markdown",
      "metadata": {
        "id": "Q8NjHcgzEJUp",
        "colab_type": "text"
      },
      "source": [
        "Como esperado, o tempo médio para execução de Termo Por Vez foi consideravelmente menor que o de Documento Por Vez, sendo cerca de 400x mais rápido."
      ]
    },
    {
      "cell_type": "markdown",
      "metadata": {
        "id": "qHuCXZCAEsqx",
        "colab_type": "text"
      },
      "source": [
        "# Questão 3"
      ]
    },
    {
      "cell_type": "code",
      "metadata": {
        "id": "mBaLAbKWEuWD",
        "colab_type": "code",
        "colab": {}
      },
      "source": [
        "def conjuctive_query(query, indexes, k):\n",
        "  query_indexes = []\n",
        "  rank = []\n",
        "  \n",
        "  for word in query.split(\" \"):\n",
        "    if word in indexes.keys():\n",
        "        query_indexes.append(indexes[word])\n",
        "  \n",
        "  all_indexes = [item for sublist in query_indexes for item in sublist]\n",
        "  all_indexes.sort()\n",
        "  \n",
        "  for i in range(len(all_indexes)):\n",
        "    doc_score = 0\n",
        "    d = all_indexes.pop()\n",
        "    repeat = 1\n",
        "    for index in all_indexes:\n",
        "      if index[0] == d[0]:\n",
        "        doc_score += index[1]\n",
        "        repeat += 1\n",
        "    if doc_score != 0 and repeat == len(query_indexes):\n",
        "      doc_score += d[1]\n",
        "      heapq.heappush(rank, (doc_score, d[0]))\n",
        "        \n",
        "  return heapq.nlargest(k, rank)"
      ],
      "execution_count": 0,
      "outputs": []
    },
    {
      "cell_type": "code",
      "metadata": {
        "id": "9BcRSplCFXFo",
        "colab_type": "code",
        "outputId": "aaa48228-ceb0-4637-9677-f950d69a54d8",
        "colab": {
          "base_uri": "https://localhost:8080/",
          "height": 204
        }
      },
      "source": [
        "conjuctives_queries = [\"brasil justiça\", \"lula livre\", \"presidente juiz\", \"jair bolsonaro\", \"país política\"]\n",
        "\n",
        "k = 10\n",
        "conjuctives_results = []\n",
        "\n",
        "for query in conjuctives_queries:\n",
        "  conjuctive_score = conjuctive_query(query, index, k)\n",
        "  conjuctives_results.append(conjuctive_score)\n",
        "\n",
        "conj_queries_df = pd.DataFrame()\n",
        "conj_queries_df['Query'] = conjuctives_queries\n",
        "conj_queries_df['Results'] = conjuctives_results\n",
        "conj_queries_df"
      ],
      "execution_count": 0,
      "outputs": [
        {
          "output_type": "execute_result",
          "data": {
            "text/html": [
              "<div>\n",
              "<style scoped>\n",
              "    .dataframe tbody tr th:only-of-type {\n",
              "        vertical-align: middle;\n",
              "    }\n",
              "\n",
              "    .dataframe tbody tr th {\n",
              "        vertical-align: top;\n",
              "    }\n",
              "\n",
              "    .dataframe thead th {\n",
              "        text-align: right;\n",
              "    }\n",
              "</style>\n",
              "<table border=\"1\" class=\"dataframe\">\n",
              "  <thead>\n",
              "    <tr style=\"text-align: right;\">\n",
              "      <th></th>\n",
              "      <th>Query</th>\n",
              "      <th>Results</th>\n",
              "    </tr>\n",
              "  </thead>\n",
              "  <tbody>\n",
              "    <tr>\n",
              "      <th>0</th>\n",
              "      <td>brasil justiça</td>\n",
              "      <td>[(17, 525), (15, 146), (11, 37), (9, 577), (9, 545), (9, 266), (9, 192), (9, 51), (8, 627), (8, 130)]</td>\n",
              "    </tr>\n",
              "    <tr>\n",
              "      <th>1</th>\n",
              "      <td>lula livre</td>\n",
              "      <td>[(120, 146), (21, 108), (18, 37), (17, 276), (16, 457), (9, 174), (7, 357), (6, 484), (4, 252), (4, 236)]</td>\n",
              "    </tr>\n",
              "    <tr>\n",
              "      <th>2</th>\n",
              "      <td>presidente juiz</td>\n",
              "      <td>[(9, 212), (8, 282), (6, 229), (6, 219), (3, 480), (3, 424), (3, 37), (2, 584), (2, 520), (2, 179)]</td>\n",
              "    </tr>\n",
              "    <tr>\n",
              "      <th>3</th>\n",
              "      <td>jair bolsonaro</td>\n",
              "      <td>[(23, 577), (21, 10), (16, 289), (16, 57), (16, 27), (14, 526), (13, 627), (11, 514), (11, 457), (11, 309)]</td>\n",
              "    </tr>\n",
              "    <tr>\n",
              "      <th>4</th>\n",
              "      <td>país política</td>\n",
              "      <td>[(23, 138), (18, 525), (12, 627), (12, 519), (10, 179), (10, 174), (9, 583), (9, 572), (9, 249), (8, 545)]</td>\n",
              "    </tr>\n",
              "  </tbody>\n",
              "</table>\n",
              "</div>"
            ],
            "text/plain": [
              "             Query                                                                                                      Results\n",
              "0  brasil justiça   [(17, 525), (15, 146), (11, 37), (9, 577), (9, 545), (9, 266), (9, 192), (9, 51), (8, 627), (8, 130)]      \n",
              "1  lula livre       [(120, 146), (21, 108), (18, 37), (17, 276), (16, 457), (9, 174), (7, 357), (6, 484), (4, 252), (4, 236)]  \n",
              "2  presidente juiz  [(9, 212), (8, 282), (6, 229), (6, 219), (3, 480), (3, 424), (3, 37), (2, 584), (2, 520), (2, 179)]        \n",
              "3  jair bolsonaro   [(23, 577), (21, 10), (16, 289), (16, 57), (16, 27), (14, 526), (13, 627), (11, 514), (11, 457), (11, 309)]\n",
              "4  país política    [(23, 138), (18, 525), (12, 627), (12, 519), (10, 179), (10, 174), (9, 583), (9, 572), (9, 249), (8, 545)] "
            ]
          },
          "metadata": {
            "tags": []
          },
          "execution_count": 30
        }
      ]
    }
  ]
}